{
 "cells": [
  {
   "cell_type": "markdown",
   "id": "8b1e11e3-3648-4bba-867e-2c37e13d1578",
   "metadata": {},
   "source": [
    "# PYTHON BASIC ASSIGNMENT MODULE 2\n"
   ]
  },
  {
   "cell_type": "markdown",
   "id": "46d1e405-e619-415d-923e-20f867775a33",
   "metadata": {},
   "source": [
    "\n",
    "## 1.Explain the key features of Python that make it a popular choice for programming"
   ]
  },
  {
   "cell_type": "markdown",
   "id": "8ea38a27-d3d8-4298-b53a-fccb80d7e3fe",
   "metadata": {},
   "source": [
    "Python epitomizes the following qualities:\n",
    "1. Portability\n",
    "2. Coherence\n",
    "3. Developer productivity\n",
    "4. An extensive library\n",
    "5. Software quality\n",
    "6. Software integration\n",
    "7. Satisfaction and enjoyment\n",
    "\n",
    "__1. Portability__\n",
    "The python as well as the code it produces on compilation is portable i.e. whether you use a windows os or mac or linux or something else python runs on all the platforms.\n",
    "Also the bytecode it so produce is not machine specific (processor architecture related) so it can run on any platform or on any processor .\n",
    "\n",
    "__2. Coherence__\n",
    "It means less cluttering in your head, as well as less skimming through the documentation, and less need for mappings in your brain when you code.Most of the time you can just guess how a method is called if you don't know it.\n",
    "\n",
    "__3. Developer productivity__\n",
    "A Python program is typically one-fifth to one-third the size of equivalent Java or C++ code.\n",
    "This means the job gets done faster.Less code not only means less code to write,\n",
    "but also less code to read.\n",
    "\n",
    "__4. An extensive library__\n",
    "Python has an incredibly extensive standard library (it is said to come with batteries\n",
    "included).The Python international community maintains a body of third-party libraries, tailored to specific needs, which you can access freely at the Python Package Index (PyPI).\n",
    "\n",
    "__5. Software quality__\n",
    "Python is heavily focused on readability, coherence, and quality. The language's\n",
    "uniformity allows for high readability, and this is crucial nowadays.You can use it as a scripting language, but you can also exploit object-oriented, imperative, and functional programming styles , making it extremely versatile.\n",
    "\n",
    "__6. Software integration__\n",
    "Python can be extended and integrated with\n",
    "many other languages, which means that even when a company is using a different\n",
    "language as their mainstream tool, Python can come in and act as a gluing agent\n",
    "between complex applications that need to talk to each other in some way.\n",
    "\n",
    "__7. Satisfaction and enjoyment__\n",
    "Working with Python is fun, we\n",
    "can code for eight hours and leave the office happy and satisfied, unaffected by the\n",
    "struggle other coders have to endure because they use languages that don't provide\n",
    "them with the same amount of well-designed data structures and constructs\n",
    "\n"
   ]
  },
  {
   "cell_type": "markdown",
   "id": "94887cdd-d9f8-47e9-87fc-877f9d081a69",
   "metadata": {},
   "source": [
    "## 2. Describe the role of predefined keywords in Python and provide examples of how they are used in a program"
   ]
  },
  {
   "cell_type": "markdown",
   "id": "26b4ed8f-f21b-4988-b203-0c42d24a8ac7",
   "metadata": {},
   "source": [
    "Predefined word are also know as reserved words, these are the words which holds special meaning to the python thus it expects us to use them only for the purpose intended.\n",
    "That is they can't be used as identifiers or variables or function or class names , as apparent from the name reserved words.\n",
    "<pre>\n",
    "\n",
    "False      await      else       import     pass\n",
    "None       break      except     in         raise\n",
    "True       class      finally    is         return\n",
    "and        continue   for        lambda     try\n",
    "as         def        from       nonlocal   while\n",
    "assert     del        global     not        with\n",
    "async      elif       if         or         yield\n",
    "    </pre>\n",
    "I don't rember all of them but some of them you will encounter more frequently than others.\n",
    "- __Control flow keywords__: if, else, elif, for, while, break, continue\n",
    "- __Exception handling:__ try, except, finally\n",
    "- __Boolean logic__: True, False, None, and, or, not\n",
    "- __Function and class definitions:__ def, class, return\n",
    "- __Importing modules:__ import , from\n"
   ]
  },
  {
   "cell_type": "code",
   "execution_count": null,
   "id": "5c4e6244-32f8-4e85-ad03-f07fc538fe18",
   "metadata": {},
   "outputs": [],
   "source": [
    "some examples are conditionals "
   ]
  },
  {
   "cell_type": "code",
   "execution_count": 2,
   "id": "f9ae7df6-10fb-4501-89c9-ff5d2b034e1c",
   "metadata": {},
   "outputs": [
    {
     "name": "stdout",
     "output_type": "stream",
     "text": [
      "twelve\n"
     ]
    }
   ],
   "source": [
    "if ( 12 > 3) :\n",
    "    print(\"twelve\")\n"
   ]
  },
  {
   "cell_type": "code",
   "execution_count": 3,
   "id": "a213cbf1-f401-43fe-a803-8025e6e6915b",
   "metadata": {},
   "outputs": [
    {
     "ename": "SyntaxError",
     "evalue": "invalid syntax (3295585807.py, line 1)",
     "output_type": "error",
     "traceback": [
      "\u001b[0;36m  Cell \u001b[0;32mIn [3], line 1\u001b[0;36m\u001b[0m\n\u001b[0;31m    if = 2 # will give  you and error\u001b[0m\n\u001b[0m       ^\u001b[0m\n\u001b[0;31mSyntaxError\u001b[0m\u001b[0;31m:\u001b[0m invalid syntax\n"
     ]
    }
   ],
   "source": [
    "if = 2 # will give  you and error"
   ]
  },
  {
   "cell_type": "code",
   "execution_count": 4,
   "id": "84e308e1-ba4a-4f46-96c9-8b603329c160",
   "metadata": {},
   "outputs": [
    {
     "ename": "SyntaxError",
     "evalue": "cannot assign to True (2247799462.py, line 1)",
     "output_type": "error",
     "traceback": [
      "\u001b[0;36m  Cell \u001b[0;32mIn [4], line 1\u001b[0;36m\u001b[0m\n\u001b[0;31m    True = \"name\"\u001b[0m\n\u001b[0m    ^\u001b[0m\n\u001b[0;31mSyntaxError\u001b[0m\u001b[0;31m:\u001b[0m cannot assign to True\n"
     ]
    }
   ],
   "source": [
    "True = \"name\""
   ]
  },
  {
   "cell_type": "code",
   "execution_count": 1,
   "id": "ab519c02-76e4-453d-acff-46a9ae028fca",
   "metadata": {},
   "outputs": [
    {
     "name": "stdout",
     "output_type": "stream",
     "text": [
      "1\n",
      "4\n",
      "9\n",
      "16\n",
      "25\n",
      "36\n",
      "49\n",
      "64\n",
      "81\n"
     ]
    }
   ],
   "source": [
    "a = 1\n",
    "while a < 10:\n",
    "    print(a**2)\n",
    "    a+= 1;"
   ]
  },
  {
   "cell_type": "code",
   "execution_count": 2,
   "id": "f896938a-63fa-4792-ad7e-b863c82db230",
   "metadata": {},
   "outputs": [
    {
     "ename": "SyntaxError",
     "evalue": "invalid syntax (239087824.py, line 1)",
     "output_type": "error",
     "traceback": [
      "\u001b[0;36m  Cell \u001b[0;32mIn [2], line 1\u001b[0;36m\u001b[0m\n\u001b[0;31m    while = True;\u001b[0m\n\u001b[0m          ^\u001b[0m\n\u001b[0;31mSyntaxError\u001b[0m\u001b[0;31m:\u001b[0m invalid syntax\n"
     ]
    }
   ],
   "source": [
    "while = True;"
   ]
  },
  {
   "cell_type": "markdown",
   "id": "f5cc6d81-e237-4b29-a4d5-c19993ec739d",
   "metadata": {},
   "source": [
    "## 3. Compare and contrast mutable and immutable objects in Python with examples"
   ]
  },
  {
   "cell_type": "markdown",
   "id": "ae754e93-5a77-44a2-9361-289c2f29eec1",
   "metadata": {},
   "source": [
    "There are constants , variables and keyword in a programming language.\n",
    "\n",
    "__Constants__ are what as the name suggests which are always the same , can not be changed.\n",
    "ex like  `1, True, 2.4 `etc\n",
    "\n",
    "__variables__ on the hand are the polar opposite of the constants these are which can change \n",
    "example like `a = 2`  but later i can change it to `a = 5`\n",
    "\n",
    "In python every thing is an object and what are the variables are labels refering to those objects\n"
   ]
  },
  {
   "cell_type": "markdown",
   "id": "abd7b9cf-8c9c-4d76-aa90-3e281feb7271",
   "metadata": {},
   "source": [
    "1.__Mutable Objects__ \n",
    "- Objects whose state or value that can be modified later after their creation\n",
    "    - List  => [item1, item2] \n",
    "    - Dictionaries => {'key':value , 'key2':value}\n",
    "    - Sets => {item1, item2 , item3}"
   ]
  },
  {
   "cell_type": "code",
   "execution_count": 4,
   "id": "48a8ee84-37d4-4246-bb67-2f84c5b32f16",
   "metadata": {},
   "outputs": [],
   "source": [
    "names = ['zod','tod','god']"
   ]
  },
  {
   "cell_type": "code",
   "execution_count": 5,
   "id": "3cc210fb-910d-49e9-99a0-0eaeb35c4a06",
   "metadata": {},
   "outputs": [],
   "source": [
    "names[1] = 'pod'"
   ]
  },
  {
   "cell_type": "code",
   "execution_count": 7,
   "id": "8eadfd4a-bb24-4574-bf29-9c2e8946e715",
   "metadata": {},
   "outputs": [
    {
     "data": {
      "text/plain": [
       "['zod', 'pod', 'god']"
      ]
     },
     "execution_count": 7,
     "metadata": {},
     "output_type": "execute_result"
    }
   ],
   "source": [
    "names # hence mutable"
   ]
  },
  {
   "cell_type": "code",
   "execution_count": 8,
   "id": "5ddd842d-3248-4bc4-8fdb-497666dd4b30",
   "metadata": {},
   "outputs": [],
   "source": [
    "person = {'name' : \"abhilasha\" }"
   ]
  },
  {
   "cell_type": "code",
   "execution_count": 9,
   "id": "663029b6-ac92-4505-a231-14223820973f",
   "metadata": {},
   "outputs": [],
   "source": [
    "person['age'] =50"
   ]
  },
  {
   "cell_type": "code",
   "execution_count": 11,
   "id": "518e86da-e53c-4180-ae96-df8ccbd04fbc",
   "metadata": {},
   "outputs": [
    {
     "data": {
      "text/plain": [
       "{'name': 'abhilasha', 'age': 50}"
      ]
     },
     "execution_count": 11,
     "metadata": {},
     "output_type": "execute_result"
    }
   ],
   "source": [
    "person"
   ]
  },
  {
   "cell_type": "code",
   "execution_count": 12,
   "id": "17e80781-2c4f-4600-8ecb-bc1ac7c1e36a",
   "metadata": {},
   "outputs": [],
   "source": [
    "seat = {\"a\",\"b\",\"b\",\"c\",\"a\",\"d\"}"
   ]
  },
  {
   "cell_type": "code",
   "execution_count": 13,
   "id": "809239c3-6403-48cf-9898-cff9b66f9ea8",
   "metadata": {},
   "outputs": [
    {
     "data": {
      "text/plain": [
       "{'a', 'b', 'c', 'd'}"
      ]
     },
     "execution_count": 13,
     "metadata": {},
     "output_type": "execute_result"
    }
   ],
   "source": [
    "seat"
   ]
  },
  {
   "cell_type": "code",
   "execution_count": 14,
   "id": "5094054c-9370-43fd-9bd0-daf37988bc92",
   "metadata": {},
   "outputs": [],
   "source": [
    "seat.add(\"e\")"
   ]
  },
  {
   "cell_type": "code",
   "execution_count": 15,
   "id": "d5414800-ec73-4efc-97db-80d98ff69692",
   "metadata": {},
   "outputs": [
    {
     "data": {
      "text/plain": [
       "{'a', 'b', 'c', 'd', 'e'}"
      ]
     },
     "execution_count": 15,
     "metadata": {},
     "output_type": "execute_result"
    }
   ],
   "source": [
    "seat"
   ]
  },
  {
   "cell_type": "code",
   "execution_count": 16,
   "id": "23cead88-e2d3-4580-98f5-18e5523408da",
   "metadata": {},
   "outputs": [],
   "source": [
    "seat.remove(\"c\")"
   ]
  },
  {
   "cell_type": "code",
   "execution_count": 17,
   "id": "e994f9a7-f090-4597-9bc1-1edb54da40ef",
   "metadata": {},
   "outputs": [
    {
     "data": {
      "text/plain": [
       "{'a', 'b', 'd', 'e'}"
      ]
     },
     "execution_count": 17,
     "metadata": {},
     "output_type": "execute_result"
    }
   ],
   "source": [
    "seat"
   ]
  },
  {
   "cell_type": "markdown",
   "id": "bfcf47d1-5679-4abd-8314-6191d8bd78fe",
   "metadata": {},
   "source": [
    "2. __Immutable Objects__\n",
    "- Objects whose value cannot be modified after creation.\n",
    "- any change leads to creation of a new object.\n",
    "    - Tuples\n",
    "    - Strings\n",
    "    - Integers\n",
    "    - Booleans\n",
    "- Most Comman example is of a sting which is iterable and array like but is not mutable"
   ]
  },
  {
   "cell_type": "code",
   "execution_count": 18,
   "id": "95514b56-a723-4a4c-bdc1-17827686b27f",
   "metadata": {},
   "outputs": [],
   "source": [
    "sandesh = \"I do not like the platform which do not let me fast forward videos and don't talk in Hinglish\""
   ]
  },
  {
   "cell_type": "code",
   "execution_count": 19,
   "id": "c6da9247-05d1-4f22-9c45-ab7d13b37e52",
   "metadata": {},
   "outputs": [
    {
     "data": {
      "text/plain": [
       "93"
      ]
     },
     "execution_count": 19,
     "metadata": {},
     "output_type": "execute_result"
    }
   ],
   "source": [
    "len(sandesh)"
   ]
  },
  {
   "cell_type": "code",
   "execution_count": 20,
   "id": "c32b6ec8-f1e9-4859-b454-6b08061f2a6e",
   "metadata": {},
   "outputs": [],
   "source": [
    "# lets take small example \n",
    "name = \"Ravi\""
   ]
  },
  {
   "cell_type": "code",
   "execution_count": 21,
   "id": "9ffecc02-60d4-499a-9873-6f630e3b35d1",
   "metadata": {},
   "outputs": [
    {
     "data": {
      "text/plain": [
       "'R'"
      ]
     },
     "execution_count": 21,
     "metadata": {},
     "output_type": "execute_result"
    }
   ],
   "source": [
    "name[0]"
   ]
  },
  {
   "cell_type": "code",
   "execution_count": 22,
   "id": "168165e5-dcc8-49a5-93b1-5091529d36b9",
   "metadata": {},
   "outputs": [
    {
     "ename": "TypeError",
     "evalue": "'str' object does not support item assignment",
     "output_type": "error",
     "traceback": [
      "\u001b[0;31m---------------------------------------------------------------------------\u001b[0m",
      "\u001b[0;31mTypeError\u001b[0m                                 Traceback (most recent call last)",
      "Cell \u001b[0;32mIn [22], line 1\u001b[0m\n\u001b[0;32m----> 1\u001b[0m \u001b[43mname\u001b[49m\u001b[43m[\u001b[49m\u001b[38;5;241;43m0\u001b[39;49m\u001b[43m]\u001b[49m \u001b[38;5;241m=\u001b[39m \u001b[38;5;124m\"\u001b[39m\u001b[38;5;124mD\u001b[39m\u001b[38;5;124m\"\u001b[39m\n",
      "\u001b[0;31mTypeError\u001b[0m: 'str' object does not support item assignment"
     ]
    }
   ],
   "source": [
    "name[0] = \"D\""
   ]
  },
  {
   "cell_type": "markdown",
   "id": "7bcfd768-02c3-444a-89a2-318df272fe39",
   "metadata": {},
   "source": [
    "## Major difference checking of mutability and immutablity "
   ]
  },
  {
   "cell_type": "code",
   "execution_count": 46,
   "id": "bff5c33c-2c10-4344-a360-55d1bb414dd5",
   "metadata": {},
   "outputs": [],
   "source": [
    "a = 12"
   ]
  },
  {
   "cell_type": "code",
   "execution_count": 47,
   "id": "24c6531d-a083-4cbe-9fed-9af4f950e924",
   "metadata": {},
   "outputs": [
    {
     "data": {
      "text/plain": [
       "134173468164688"
      ]
     },
     "execution_count": 47,
     "metadata": {},
     "output_type": "execute_result"
    }
   ],
   "source": [
    "id(a) # note the id of the a"
   ]
  },
  {
   "cell_type": "code",
   "execution_count": 48,
   "id": "2c83f3e9-e278-48f8-b38b-923d714d53c7",
   "metadata": {},
   "outputs": [],
   "source": [
    "i = id(a)"
   ]
  },
  {
   "cell_type": "markdown",
   "id": "bca00a6d-f5c1-4539-9e45-f220b6f3fa44",
   "metadata": {},
   "source": [
    "#### see the creation of new obejects when we modify and immutable object"
   ]
  },
  {
   "cell_type": "code",
   "execution_count": 49,
   "id": "63f3470c-d23f-40d0-89cf-72fae41df456",
   "metadata": {},
   "outputs": [],
   "source": [
    "a = 13"
   ]
  },
  {
   "cell_type": "code",
   "execution_count": 50,
   "id": "d080f0f0-56be-430b-b434-fdc013e1a40b",
   "metadata": {},
   "outputs": [
    {
     "data": {
      "text/plain": [
       "134173468164720"
      ]
     },
     "execution_count": 50,
     "metadata": {},
     "output_type": "execute_result"
    }
   ],
   "source": [
    "id (a) # see the id gets changed that means the new object is being referenced"
   ]
  },
  {
   "cell_type": "code",
   "execution_count": 51,
   "id": "3997bbf3-23ed-41b2-8d2c-234aabb00e28",
   "metadata": {},
   "outputs": [],
   "source": [
    "u = id(a)"
   ]
  },
  {
   "cell_type": "code",
   "execution_count": 52,
   "id": "b8380c04-ddf3-4ba5-bed2-b12c65c56346",
   "metadata": {},
   "outputs": [
    {
     "data": {
      "text/plain": [
       "False"
      ]
     },
     "execution_count": 52,
     "metadata": {},
     "output_type": "execute_result"
    }
   ],
   "source": [
    "i == u # not same"
   ]
  },
  {
   "cell_type": "markdown",
   "id": "d2a79d88-5ea7-4d5c-b219-5c0b56ad6702",
   "metadata": {},
   "source": [
    "#### for the mutable objects"
   ]
  },
  {
   "cell_type": "code",
   "execution_count": 35,
   "id": "8cc882df-61d3-4d3b-afe2-36b1b4f9ec9e",
   "metadata": {},
   "outputs": [],
   "source": [
    "nums = [i for i in range(1,5)]"
   ]
  },
  {
   "cell_type": "code",
   "execution_count": 36,
   "id": "3df515e1-006c-460f-9eab-d854f5e9c05e",
   "metadata": {},
   "outputs": [
    {
     "data": {
      "text/plain": [
       "[1, 2, 3, 4]"
      ]
     },
     "execution_count": 36,
     "metadata": {},
     "output_type": "execute_result"
    }
   ],
   "source": [
    "nums"
   ]
  },
  {
   "cell_type": "code",
   "execution_count": 37,
   "id": "953a6c62-f1e7-4f3d-af3c-c984ea6d1ba3",
   "metadata": {},
   "outputs": [],
   "source": [
    " x =id (nums) # see the id "
   ]
  },
  {
   "cell_type": "code",
   "execution_count": 38,
   "id": "7792330c-77b3-415a-9a16-a4979bc98f7a",
   "metadata": {},
   "outputs": [],
   "source": [
    "nums.append(22)"
   ]
  },
  {
   "cell_type": "code",
   "execution_count": 39,
   "id": "631d45c6-24b3-4015-989d-8f13e178cec1",
   "metadata": {},
   "outputs": [],
   "source": [
    "y =id(nums)"
   ]
  },
  {
   "cell_type": "code",
   "execution_count": 40,
   "id": "d4cabe65-03d6-4184-86b6-5a10054b87f8",
   "metadata": {},
   "outputs": [
    {
     "data": {
      "text/plain": [
       "True"
      ]
     },
     "execution_count": 40,
     "metadata": {},
     "output_type": "execute_result"
    }
   ],
   "source": [
    "x == y"
   ]
  },
  {
   "cell_type": "markdown",
   "id": "a3879ffb-499f-4724-9813-8185a5efb66b",
   "metadata": {},
   "source": [
    "## 4. Discuss the different types of operators in Python and provide examples of how they are used"
   ]
  },
  {
   "cell_type": "markdown",
   "id": "21f0d2d8-4119-4483-8a2b-a5186e877f0d",
   "metadata": {},
   "source": [
    "Operators plays an very important role in the programming as they brings out result to an expression.\n",
    "Operators are __Unary__ and __Binary__ in nature.\n",
    "Unary meany which only requires a single operand\n",
    "Binary means which operates on two operands\n",
    "\n",
    "`~a # is  a unary operator`\n",
    "` a + b # + is a binray operator`\n",
    "\n",
    "In Python Classified operators on the functionality they provide , some of the operators are\n",
    "1. Arithmetic Operators\n",
    "2. Comparison Operators\n",
    "3. Logical Operators\n",
    "4. Assignment Operators\n",
    "5. Bitwise Operators ( don't understand these)"
   ]
  },
  {
   "cell_type": "markdown",
   "id": "acd7a8e1-7b1e-4131-b471-94d181731b35",
   "metadata": {},
   "source": [
    "#### 1. Arithmetic Operators\n",
    "- \\+ (Addition)\n",
    "- \\- (Subtraction)\n",
    "- \\* (Multiplication)\n",
    "- / (Division)\n",
    "- % (Modulus, or remainder)\n",
    "- ** (Exponentiation)\n",
    "- // (Floor Division)\n"
   ]
  },
  {
   "cell_type": "code",
   "execution_count": 54,
   "id": "eacd2c11-4728-456f-a58e-312e5f091da2",
   "metadata": {},
   "outputs": [
    {
     "data": {
      "text/plain": [
       "4"
      ]
     },
     "execution_count": 54,
     "metadata": {},
     "output_type": "execute_result"
    }
   ],
   "source": [
    "2  + 2 "
   ]
  },
  {
   "cell_type": "code",
   "execution_count": 55,
   "id": "7def7cae-93ed-4140-8bf8-9754656b2d1e",
   "metadata": {},
   "outputs": [
    {
     "data": {
      "text/plain": [
       "'batman'"
      ]
     },
     "execution_count": 55,
     "metadata": {},
     "output_type": "execute_result"
    }
   ],
   "source": [
    "\"bat\" +  \"man\""
   ]
  },
  {
   "cell_type": "code",
   "execution_count": 57,
   "id": "383f7a1d-3501-427c-9b44-a1451948e56e",
   "metadata": {},
   "outputs": [
    {
     "data": {
      "text/plain": [
       "['like', 'wise']"
      ]
     },
     "execution_count": 57,
     "metadata": {},
     "output_type": "execute_result"
    }
   ],
   "source": [
    "[\"like\"] + [\"wise\"]"
   ]
  },
  {
   "cell_type": "code",
   "execution_count": 58,
   "id": "3ddc5fc4-e3ee-4e30-a042-bf39114ac770",
   "metadata": {},
   "outputs": [
    {
     "data": {
      "text/plain": [
       "-2"
      ]
     },
     "execution_count": 58,
     "metadata": {},
     "output_type": "execute_result"
    }
   ],
   "source": [
    "-2"
   ]
  },
  {
   "cell_type": "code",
   "execution_count": 59,
   "id": "3def3e51-c4f4-40bb-bfcf-2b650c0929fb",
   "metadata": {},
   "outputs": [
    {
     "data": {
      "text/plain": [
       "2"
      ]
     },
     "execution_count": 59,
     "metadata": {},
     "output_type": "execute_result"
    }
   ],
   "source": [
    "4   -2"
   ]
  },
  {
   "cell_type": "code",
   "execution_count": 60,
   "id": "4a0c16f2-8319-44d3-aa10-7c8bddfa72d2",
   "metadata": {},
   "outputs": [
    {
     "data": {
      "text/plain": [
       "6.6000000000000005"
      ]
     },
     "execution_count": 60,
     "metadata": {},
     "output_type": "execute_result"
    }
   ],
   "source": [
    "2.2  * 3"
   ]
  },
  {
   "cell_type": "code",
   "execution_count": 61,
   "id": "1866d951-11d4-4b2c-ae8d-4b60caaa583d",
   "metadata": {},
   "outputs": [
    {
     "data": {
      "text/plain": [
       "9"
      ]
     },
     "execution_count": 61,
     "metadata": {},
     "output_type": "execute_result"
    }
   ],
   "source": [
    "3 *  3"
   ]
  },
  {
   "cell_type": "code",
   "execution_count": 63,
   "id": "d53220e2-de78-4b6f-b129-75e74efdd090",
   "metadata": {},
   "outputs": [
    {
     "data": {
      "text/plain": [
       "27.0"
      ]
     },
     "execution_count": 63,
     "metadata": {},
     "output_type": "execute_result"
    }
   ],
   "source": [
    "54 / 2  # produces a floating point result"
   ]
  },
  {
   "cell_type": "code",
   "execution_count": 64,
   "id": "c6eeac49-49a6-43b4-811f-3bb9f249c57b",
   "metadata": {},
   "outputs": [
    {
     "data": {
      "text/plain": [
       "9"
      ]
     },
     "execution_count": 64,
     "metadata": {},
     "output_type": "execute_result"
    }
   ],
   "source": [
    "3 ** 2 # exponant 3 raise to power 2"
   ]
  },
  {
   "cell_type": "code",
   "execution_count": 65,
   "id": "f2b9d386-42d9-4864-a434-74f7d989246e",
   "metadata": {},
   "outputs": [
    {
     "data": {
      "text/plain": [
       "27"
      ]
     },
     "execution_count": 65,
     "metadata": {},
     "output_type": "execute_result"
    }
   ],
   "source": [
    "54 // 2 # this will always give a floored answer not in decimals"
   ]
  },
  {
   "cell_type": "code",
   "execution_count": null,
   "id": "d2923046-c5fc-44bd-b5f6-80a8bff41e12",
   "metadata": {},
   "outputs": [],
   "source": []
  },
  {
   "cell_type": "code",
   "execution_count": null,
   "id": "0a236440-1a31-4002-8b22-984440ee7a02",
   "metadata": {},
   "outputs": [],
   "source": []
  },
  {
   "cell_type": "code",
   "execution_count": null,
   "id": "f1998460-7bf2-4f55-b2b3-68b3de8faa76",
   "metadata": {},
   "outputs": [],
   "source": []
  },
  {
   "cell_type": "code",
   "execution_count": null,
   "id": "dab1df19-2620-4161-bb7c-55d6801259c5",
   "metadata": {},
   "outputs": [],
   "source": []
  },
  {
   "cell_type": "code",
   "execution_count": null,
   "id": "370782b6-1c9f-4c8e-85e0-2a091be0ed2f",
   "metadata": {},
   "outputs": [],
   "source": []
  },
  {
   "cell_type": "code",
   "execution_count": null,
   "id": "7f4fe11b-73b5-4078-bea1-b339290898f3",
   "metadata": {},
   "outputs": [],
   "source": []
  },
  {
   "cell_type": "code",
   "execution_count": null,
   "id": "62648bc9-d036-4c20-9f73-8d049ab4482f",
   "metadata": {},
   "outputs": [],
   "source": []
  },
  {
   "cell_type": "code",
   "execution_count": null,
   "id": "11fcfdfc-447b-4df7-ba1b-6c94ea019cf8",
   "metadata": {},
   "outputs": [],
   "source": []
  },
  {
   "cell_type": "markdown",
   "id": "6dcf4917-08fd-4d18-864d-88146a61485f",
   "metadata": {},
   "source": [
    "#### 2.Comparison Operators\n",
    "- always returns a boolean result\n",
    "      <pre> == (Equal to)\n",
    "        != (Not equal to)\n",
    "        > (Greater than)\n",
    "        < (Less than)\n",
    "        >= (Greater than or equal to)\n",
    "        <= (Less than equal to) </pre>"
   ]
  },
  {
   "cell_type": "code",
   "execution_count": 66,
   "id": "72a0bcad-fd82-405c-b454-eaa24e709286",
   "metadata": {},
   "outputs": [
    {
     "data": {
      "text/plain": [
       "False"
      ]
     },
     "execution_count": 66,
     "metadata": {},
     "output_type": "execute_result"
    }
   ],
   "source": [
    "1 ==  2"
   ]
  },
  {
   "cell_type": "code",
   "execution_count": 67,
   "id": "b07c2b78-34d8-4ede-80c1-00e27b31396e",
   "metadata": {},
   "outputs": [
    {
     "data": {
      "text/plain": [
       "True"
      ]
     },
     "execution_count": 67,
     "metadata": {},
     "output_type": "execute_result"
    }
   ],
   "source": [
    "True == 1"
   ]
  },
  {
   "cell_type": "code",
   "execution_count": 68,
   "id": "210d7a5a-274f-4002-a767-7940f58a64d2",
   "metadata": {},
   "outputs": [
    {
     "data": {
      "text/plain": [
       "True"
      ]
     },
     "execution_count": 68,
     "metadata": {},
     "output_type": "execute_result"
    }
   ],
   "source": [
    "False == 0"
   ]
  },
  {
   "cell_type": "code",
   "execution_count": 69,
   "id": "2ea1da78-bb27-44e4-8884-ad712bf2f2f6",
   "metadata": {},
   "outputs": [
    {
     "data": {
      "text/plain": [
       "False"
      ]
     },
     "execution_count": 69,
     "metadata": {},
     "output_type": "execute_result"
    }
   ],
   "source": [
    "False == None"
   ]
  },
  {
   "cell_type": "code",
   "execution_count": 70,
   "id": "c5d534da-5a5e-4be1-bdbf-183a780aab12",
   "metadata": {},
   "outputs": [
    {
     "data": {
      "text/plain": [
       "True"
      ]
     },
     "execution_count": 70,
     "metadata": {},
     "output_type": "execute_result"
    }
   ],
   "source": [
    "1 != 2"
   ]
  },
  {
   "cell_type": "code",
   "execution_count": 71,
   "id": "513dfcd6-81d3-4202-9ec9-052fd0915cb8",
   "metadata": {},
   "outputs": [
    {
     "data": {
      "text/plain": [
       "False"
      ]
     },
     "execution_count": 71,
     "metadata": {},
     "output_type": "execute_result"
    }
   ],
   "source": [
    "2  > 3"
   ]
  },
  {
   "cell_type": "code",
   "execution_count": 72,
   "id": "2f020dfe-0923-4089-9ce8-a0e6cef75307",
   "metadata": {},
   "outputs": [
    {
     "data": {
      "text/plain": [
       "True"
      ]
     },
     "execution_count": 72,
     "metadata": {},
     "output_type": "execute_result"
    }
   ],
   "source": [
    "4 <= 5   # works the way of or logical operator "
   ]
  },
  {
   "cell_type": "code",
   "execution_count": 73,
   "id": "f43db44f-bd9b-46f8-98b6-0bbf14c2a818",
   "metadata": {},
   "outputs": [
    {
     "data": {
      "text/plain": [
       "True"
      ]
     },
     "execution_count": 73,
     "metadata": {},
     "output_type": "execute_result"
    }
   ],
   "source": [
    "5 >= 2"
   ]
  },
  {
   "cell_type": "markdown",
   "id": "e3eb87e3-cc93-40a2-81f5-e36bf0f573bb",
   "metadata": {},
   "source": [
    "\n",
    "#### 3. Logical Operators\n",
    "\n",
    "<pre>\n",
    "        and (Logical AND)\n",
    "        or (Logical OR)\n",
    "        not (Logical NOT)\n",
    "        </pre>"
   ]
  },
  {
   "cell_type": "markdown",
   "id": "8e28d140-2b45-44d9-8411-bb33774f92d6",
   "metadata": {},
   "source": [
    "__ logical and__  returns the first falsy value , if not than the value of the last operand"
   ]
  },
  {
   "cell_type": "code",
   "execution_count": 74,
   "id": "18eb5d48-6296-45b9-823b-464901adafdf",
   "metadata": {},
   "outputs": [
    {
     "data": {
      "text/plain": [
       "1"
      ]
     },
     "execution_count": 74,
     "metadata": {},
     "output_type": "execute_result"
    }
   ],
   "source": [
    "1 and 1 "
   ]
  },
  {
   "cell_type": "code",
   "execution_count": 75,
   "id": "62b26981-86fa-4734-a034-7dbbb75cb20f",
   "metadata": {},
   "outputs": [
    {
     "data": {
      "text/plain": [
       "0"
      ]
     },
     "execution_count": 75,
     "metadata": {},
     "output_type": "execute_result"
    }
   ],
   "source": [
    "1 and 0"
   ]
  },
  {
   "cell_type": "code",
   "execution_count": 76,
   "id": "756bf20d-9e22-4b66-a771-9cbc8b351c7b",
   "metadata": {},
   "outputs": [
    {
     "data": {
      "text/plain": [
       "0"
      ]
     },
     "execution_count": 76,
     "metadata": {},
     "output_type": "execute_result"
    }
   ],
   "source": [
    "0 and 0"
   ]
  },
  {
   "cell_type": "code",
   "execution_count": null,
   "id": "cafd0063-8c37-4a9f-b1b2-967908c797ec",
   "metadata": {},
   "outputs": [],
   "source": [
    "0 and 1"
   ]
  },
  {
   "cell_type": "code",
   "execution_count": 84,
   "id": "34ae2898-d347-4286-aef2-851e7b1bc9aa",
   "metadata": {},
   "outputs": [],
   "source": [
    "username = \"Bob\" and \"Shilpa\" and \"\""
   ]
  },
  {
   "cell_type": "code",
   "execution_count": 85,
   "id": "7871b32b-902a-46ca-816d-32f206b7d5f6",
   "metadata": {},
   "outputs": [
    {
     "data": {
      "text/plain": [
       "''"
      ]
     },
     "execution_count": 85,
     "metadata": {},
     "output_type": "execute_result"
    }
   ],
   "source": [
    "username"
   ]
  },
  {
   "cell_type": "markdown",
   "id": "b59a675d-5f92-4647-b6ff-95bdcb4acc34",
   "metadata": {},
   "source": [
    "__logical or __ returns the first truthy value if not thant he last value what so ever"
   ]
  },
  {
   "cell_type": "code",
   "execution_count": 78,
   "id": "c9840ef8-58a9-4a14-b813-b3e7007169a4",
   "metadata": {},
   "outputs": [
    {
     "data": {
      "text/plain": [
       "1"
      ]
     },
     "execution_count": 78,
     "metadata": {},
     "output_type": "execute_result"
    }
   ],
   "source": [
    "1 or 1"
   ]
  },
  {
   "cell_type": "code",
   "execution_count": 79,
   "id": "0d46da39-61c4-421a-b549-74cdef1be798",
   "metadata": {},
   "outputs": [
    {
     "data": {
      "text/plain": [
       "1"
      ]
     },
     "execution_count": 79,
     "metadata": {},
     "output_type": "execute_result"
    }
   ],
   "source": [
    "1 or 0"
   ]
  },
  {
   "cell_type": "code",
   "execution_count": 80,
   "id": "813610ee-1aab-4659-b87e-3d942a06f805",
   "metadata": {},
   "outputs": [
    {
     "data": {
      "text/plain": [
       "0"
      ]
     },
     "execution_count": 80,
     "metadata": {},
     "output_type": "execute_result"
    }
   ],
   "source": [
    "0 or 0 "
   ]
  },
  {
   "cell_type": "code",
   "execution_count": 81,
   "id": "ada418d0-760f-4d2f-bb57-3169bf91eef2",
   "metadata": {},
   "outputs": [
    {
     "data": {
      "text/plain": [
       "'What'"
      ]
     },
     "execution_count": 81,
     "metadata": {},
     "output_type": "execute_result"
    }
   ],
   "source": [
    "\"\" or False or \"What\" or 0"
   ]
  },
  {
   "cell_type": "markdown",
   "id": "dffb6d25-ee35-41a7-97d1-30bd841eb75d",
   "metadata": {},
   "source": [
    "#### 4. Assignment Operators\n",
    "- = (Assign)\n",
    "- += (Add and assign)\n",
    "- -= (Subtract and assign)\n",
    "- *= (Multiply and assign)\n",
    "- /= (Divide and assign)\n",
    "- %= (Modulus and assign)\n",
    "- **= (Exponentiation and assign)\n",
    "- //= (Floor division and assign)"
   ]
  },
  {
   "cell_type": "code",
   "execution_count": 87,
   "id": "4589a829-e37f-4ccf-a12f-70b1d60a6258",
   "metadata": {},
   "outputs": [],
   "source": [
    "name = \"some\"\n"
   ]
  },
  {
   "cell_type": "code",
   "execution_count": 90,
   "id": "c008d279-655f-4b18-9305-331ae4b41cdb",
   "metadata": {},
   "outputs": [],
   "source": [
    "inc  = 4 \n",
    "inc += 2 # inc = inc + 2"
   ]
  },
  {
   "cell_type": "code",
   "execution_count": 91,
   "id": "af26d3d2-76e2-412a-8550-f21d706b016d",
   "metadata": {},
   "outputs": [
    {
     "data": {
      "text/plain": [
       "6"
      ]
     },
     "execution_count": 91,
     "metadata": {},
     "output_type": "execute_result"
    }
   ],
   "source": [
    "inc"
   ]
  },
  {
   "cell_type": "code",
   "execution_count": 96,
   "id": "7944e2c3-fd8f-4808-8239-83d28bfddb77",
   "metadata": {},
   "outputs": [],
   "source": [
    "inc = 1 \n",
    "inc -= 2 # inc = inc - 2 "
   ]
  },
  {
   "cell_type": "code",
   "execution_count": 97,
   "id": "10be30dd-e521-4cc6-9dd6-50899f59cf75",
   "metadata": {},
   "outputs": [
    {
     "data": {
      "text/plain": [
       "-1"
      ]
     },
     "execution_count": 97,
     "metadata": {},
     "output_type": "execute_result"
    }
   ],
   "source": [
    "inc"
   ]
  },
  {
   "cell_type": "code",
   "execution_count": 94,
   "id": "b80c9caf-48a8-4ea9-81ec-7a2138d7f6ad",
   "metadata": {},
   "outputs": [],
   "source": [
    "inc = 3 \n",
    "inc *= 2# inc = inc * 2"
   ]
  },
  {
   "cell_type": "code",
   "execution_count": 95,
   "id": "5167d7f5-f15c-4520-be6f-237727a0bc5a",
   "metadata": {},
   "outputs": [
    {
     "data": {
      "text/plain": [
       "6"
      ]
     },
     "execution_count": 95,
     "metadata": {},
     "output_type": "execute_result"
    }
   ],
   "source": [
    "inc"
   ]
  },
  {
   "cell_type": "markdown",
   "id": "a15dea63-34dd-4094-9005-8371e7ab410a",
   "metadata": {},
   "source": [
    "#### 5. Ternary Operator\n",
    "` value_if_true if codition else value_if_false`"
   ]
  },
  {
   "cell_type": "code",
   "execution_count": 100,
   "id": "696dda1e-7c9f-4ce6-8118-56be15a83fc7",
   "metadata": {},
   "outputs": [
    {
     "data": {
      "text/plain": [
       "'BOnd'"
      ]
     },
     "execution_count": 100,
     "metadata": {},
     "output_type": "execute_result"
    }
   ],
   "source": [
    "\"BOnd\" if 2 > 1 else \"don\""
   ]
  },
  {
   "cell_type": "markdown",
   "id": "100cb13e-44a5-454b-a4bb-755fb119a6ab",
   "metadata": {},
   "source": [
    "#### 6. Indentity Operator\n",
    "- used to compare the memory of the two objects\n",
    "- is\n",
    "- is not "
   ]
  },
  {
   "cell_type": "code",
   "execution_count": 102,
   "id": "808288ce-fca1-45aa-801f-ad56b65b4e86",
   "metadata": {},
   "outputs": [
    {
     "name": "stderr",
     "output_type": "stream",
     "text": [
      "<>:1: SyntaxWarning: \"is\" with a literal. Did you mean \"==\"?\n",
      "<>:1: SyntaxWarning: \"is\" with a literal. Did you mean \"==\"?\n",
      "/tmp/ipykernel_189935/4115807871.py:1: SyntaxWarning: \"is\" with a literal. Did you mean \"==\"?\n",
      "  1 is 1 # does not work with a literal\n"
     ]
    },
    {
     "data": {
      "text/plain": [
       "True"
      ]
     },
     "execution_count": 102,
     "metadata": {},
     "output_type": "execute_result"
    }
   ],
   "source": [
    " 1 is 1 # does not work with a literal"
   ]
  },
  {
   "cell_type": "code",
   "execution_count": 103,
   "id": "9cd615f4-7b4d-4c09-b171-3b4493570b80",
   "metadata": {},
   "outputs": [],
   "source": [
    "a,b = 1,1 \n"
   ]
  },
  {
   "cell_type": "code",
   "execution_count": 104,
   "id": "61b9069a-84e1-4d18-9866-639ee1bc3b61",
   "metadata": {},
   "outputs": [
    {
     "data": {
      "text/plain": [
       "True"
      ]
     },
     "execution_count": 104,
     "metadata": {},
     "output_type": "execute_result"
    }
   ],
   "source": [
    "a is b"
   ]
  },
  {
   "cell_type": "code",
   "execution_count": null,
   "id": "d2c6d38f-64ee-4090-8159-8c86ab1f69f7",
   "metadata": {},
   "outputs": [],
   "source": [
    "# Memory optimisation used by the python"
   ]
  },
  {
   "cell_type": "code",
   "execution_count": 105,
   "id": "2dab6030-0f9c-4950-8e9c-2c3017ebb879",
   "metadata": {},
   "outputs": [
    {
     "data": {
      "text/plain": [
       "134173468164336"
      ]
     },
     "execution_count": 105,
     "metadata": {},
     "output_type": "execute_result"
    }
   ],
   "source": [
    "id(a)"
   ]
  },
  {
   "cell_type": "code",
   "execution_count": 106,
   "id": "cbfd46da-8405-439a-b2e1-110fa17e9c01",
   "metadata": {},
   "outputs": [
    {
     "data": {
      "text/plain": [
       "134173468164336"
      ]
     },
     "execution_count": 106,
     "metadata": {},
     "output_type": "execute_result"
    }
   ],
   "source": [
    "id(b) "
   ]
  },
  {
   "cell_type": "code",
   "execution_count": 107,
   "id": "726b0679-4699-42a1-8afd-c027b8154f82",
   "metadata": {},
   "outputs": [
    {
     "data": {
      "text/plain": [
       "True"
      ]
     },
     "execution_count": 107,
     "metadata": {},
     "output_type": "execute_result"
    }
   ],
   "source": [
    "[] is not []"
   ]
  },
  {
   "cell_type": "markdown",
   "id": "1ea18179-593b-4552-896f-1541a7250a34",
   "metadata": {},
   "source": [
    "#### 7. Membership Operator\n",
    "- in \n",
    "- not in \n",
    "- basically for list, tuple or string"
   ]
  },
  {
   "cell_type": "code",
   "execution_count": 108,
   "id": "a36fb8eb-4662-4998-afd9-d6c91be9d994",
   "metadata": {},
   "outputs": [],
   "source": [
    "lst = [1,3,5,6]"
   ]
  },
  {
   "cell_type": "code",
   "execution_count": 109,
   "id": "5b552735-56bd-4e32-8c79-817a99a744a9",
   "metadata": {},
   "outputs": [
    {
     "data": {
      "text/plain": [
       "True"
      ]
     },
     "execution_count": 109,
     "metadata": {},
     "output_type": "execute_result"
    }
   ],
   "source": [
    "1 in lst"
   ]
  },
  {
   "cell_type": "code",
   "execution_count": 110,
   "id": "be690cb6-9448-413b-b664-96ffae116a75",
   "metadata": {},
   "outputs": [
    {
     "data": {
      "text/plain": [
       "True"
      ]
     },
     "execution_count": 110,
     "metadata": {},
     "output_type": "execute_result"
    }
   ],
   "source": [
    "\n",
    "44 not in lst"
   ]
  },
  {
   "cell_type": "markdown",
   "id": "1f75b433-7c93-4bba-b918-34510209621c",
   "metadata": {},
   "source": [
    "## 5 Explain the concept of type casting in Python with examples"
   ]
  },
  {
   "cell_type": "markdown",
   "id": "5c13c40c-8b8e-434b-80ae-5b368c384970",
   "metadata": {},
   "source": [
    "Type casting is of two types implicit and explicit. Implicit is when a type gets changed automatically \n",
    "and Explicit is when the type need to change by user to do something.\n"
   ]
  },
  {
   "cell_type": "markdown",
   "id": "9b80308c-09ea-483d-9a7d-de487ac7fc71",
   "metadata": {},
   "source": [
    "- int()\n",
    "- float()\n",
    "- str()\n",
    "- bool()\n",
    "- list()\n",
    "- tuple()\n",
    "- dict()\n",
    "- set()\n",
    "Above are the ways to do EXPLICIT TYPE Casting\n"
   ]
  },
  {
   "cell_type": "markdown",
   "id": "d1a70cde-9774-424d-92bf-96a3855099d1",
   "metadata": {},
   "source": [
    "### type casting in  the Operators"
   ]
  },
  {
   "cell_type": "code",
   "execution_count": 119,
   "id": "6985c60b-f045-450f-9a6e-e89e3f6e2696",
   "metadata": {},
   "outputs": [
    {
     "data": {
      "text/plain": [
       "4.2"
      ]
     },
     "execution_count": 119,
     "metadata": {},
     "output_type": "execute_result"
    }
   ],
   "source": [
    " 1.2 + 3  # int  and float = float  IMPLICIT TYPECASTInG"
   ]
  },
  {
   "cell_type": "code",
   "execution_count": 113,
   "id": "0354dcf9-6b84-436d-b7bc-6f8c8d953a5f",
   "metadata": {},
   "outputs": [
    {
     "data": {
      "text/plain": [
       "3"
      ]
     },
     "execution_count": 113,
     "metadata": {},
     "output_type": "execute_result"
    }
   ],
   "source": [
    "1 + 2  # int and int = int"
   ]
  },
  {
   "cell_type": "code",
   "execution_count": 114,
   "id": "49b0fab1-97f7-4080-a977-e20f06f0cbea",
   "metadata": {},
   "outputs": [
    {
     "ename": "TypeError",
     "evalue": "can only concatenate str (not \"int\") to str",
     "output_type": "error",
     "traceback": [
      "\u001b[0;31m---------------------------------------------------------------------------\u001b[0m",
      "\u001b[0;31mTypeError\u001b[0m                                 Traceback (most recent call last)",
      "Cell \u001b[0;32mIn [114], line 1\u001b[0m\n\u001b[0;32m----> 1\u001b[0m \u001b[38;5;124;43m\"\u001b[39;49m\u001b[38;5;124;43m\"\u001b[39;49m\u001b[43m  \u001b[49m\u001b[38;5;241;43m+\u001b[39;49m\u001b[43m  \u001b[49m\u001b[38;5;241;43m2\u001b[39;49m\n",
      "\u001b[0;31mTypeError\u001b[0m: can only concatenate str (not \"int\") to str"
     ]
    }
   ],
   "source": [
    "\"\"  +  2 # error"
   ]
  },
  {
   "cell_type": "code",
   "execution_count": 116,
   "id": "e870d709-8bdf-4f47-adff-09d5b33d6691",
   "metadata": {},
   "outputs": [
    {
     "data": {
      "text/plain": [
       "''"
      ]
     },
     "execution_count": 116,
     "metadata": {},
     "output_type": "execute_result"
    }
   ],
   "source": [
    "\"\" * 0 # No error cuz the string repeating way"
   ]
  },
  {
   "cell_type": "code",
   "execution_count": 118,
   "id": "aa9dae85-8682-43e5-9d57-a2843e587a4d",
   "metadata": {},
   "outputs": [
    {
     "ename": "TypeError",
     "evalue": "can only concatenate str (not \"int\") to str",
     "output_type": "error",
     "traceback": [
      "\u001b[0;31m---------------------------------------------------------------------------\u001b[0m",
      "\u001b[0;31mTypeError\u001b[0m                                 Traceback (most recent call last)",
      "Cell \u001b[0;32mIn [118], line 1\u001b[0m\n\u001b[0;32m----> 1\u001b[0m \u001b[38;5;124;43m\"\u001b[39;49m\u001b[38;5;124;43man \u001b[39;49m\u001b[38;5;124;43m\"\u001b[39;49m\u001b[43m \u001b[49m\u001b[38;5;241;43m+\u001b[39;49m\u001b[43m  \u001b[49m\u001b[38;5;241;43m0\u001b[39;49m\n",
      "\u001b[0;31mTypeError\u001b[0m: can only concatenate str (not \"int\") to str"
     ]
    }
   ],
   "source": [
    "\"an \" +  0  # no inplicit typecasting"
   ]
  },
  {
   "cell_type": "code",
   "execution_count": 120,
   "id": "248093b4-6d06-421f-8ef0-823dfa25515b",
   "metadata": {},
   "outputs": [
    {
     "name": "stdout",
     "output_type": "stream",
     "text": [
      "hello\n"
     ]
    }
   ],
   "source": [
    "if (not \"\") :\n",
    "    print(\"hello\")"
   ]
  },
  {
   "cell_type": "markdown",
   "id": "02310edf-eee3-419e-8b9e-53e0fcf6c0c0",
   "metadata": {},
   "source": [
    "### explicit typecastings"
   ]
  },
  {
   "cell_type": "code",
   "execution_count": 121,
   "id": "ebf4b536-55b5-4302-86f6-de39e949b74f",
   "metadata": {},
   "outputs": [
    {
     "data": {
      "text/plain": [
       "'0'"
      ]
     },
     "execution_count": 121,
     "metadata": {},
     "output_type": "execute_result"
    }
   ],
   "source": [
    "str(0)"
   ]
  },
  {
   "cell_type": "code",
   "execution_count": 122,
   "id": "0a296815-0078-4c1f-b4db-3b36ec60842c",
   "metadata": {},
   "outputs": [
    {
     "data": {
      "text/plain": [
       "'True'"
      ]
     },
     "execution_count": 122,
     "metadata": {},
     "output_type": "execute_result"
    }
   ],
   "source": [
    "str(True)"
   ]
  },
  {
   "cell_type": "code",
   "execution_count": 124,
   "id": "67498cf3-70a7-4b92-8719-3f397e0ce89f",
   "metadata": {},
   "outputs": [
    {
     "data": {
      "text/plain": [
       "\"['namrta']\""
      ]
     },
     "execution_count": 124,
     "metadata": {},
     "output_type": "execute_result"
    }
   ],
   "source": [
    "str([\"namrta\"])"
   ]
  },
  {
   "cell_type": "code",
   "execution_count": 125,
   "id": "73ebc008-303d-41cf-8caa-67fcd6629e6b",
   "metadata": {},
   "outputs": [
    {
     "data": {
      "text/plain": [
       "\"{'name': 'namrta'}\""
      ]
     },
     "execution_count": 125,
     "metadata": {},
     "output_type": "execute_result"
    }
   ],
   "source": [
    "str({\"name\": \"namrta\"})"
   ]
  },
  {
   "cell_type": "code",
   "execution_count": 126,
   "id": "47f306d9-0198-4735-a237-b90263034a0f",
   "metadata": {},
   "outputs": [
    {
     "data": {
      "text/plain": [
       "'None'"
      ]
     },
     "execution_count": 126,
     "metadata": {},
     "output_type": "execute_result"
    }
   ],
   "source": [
    "str(None)"
   ]
  },
  {
   "cell_type": "markdown",
   "id": "dfdf24aa-a6d5-438b-b784-8b0c23a9caf5",
   "metadata": {},
   "source": [
    "#### int ()"
   ]
  },
  {
   "cell_type": "code",
   "execution_count": 127,
   "id": "ac4c1082-30f2-431e-8592-4d4c710b7a86",
   "metadata": {},
   "outputs": [
    {
     "data": {
      "text/plain": [
       "1"
      ]
     },
     "execution_count": 127,
     "metadata": {},
     "output_type": "execute_result"
    }
   ],
   "source": [
    "int(1)"
   ]
  },
  {
   "cell_type": "code",
   "execution_count": 128,
   "id": "6d1a1cf5-a2fe-4e96-a82f-28432f066939",
   "metadata": {},
   "outputs": [
    {
     "ename": "ValueError",
     "evalue": "invalid literal for int() with base 10: ''",
     "output_type": "error",
     "traceback": [
      "\u001b[0;31m---------------------------------------------------------------------------\u001b[0m",
      "\u001b[0;31mValueError\u001b[0m                                Traceback (most recent call last)",
      "Cell \u001b[0;32mIn [128], line 1\u001b[0m\n\u001b[0;32m----> 1\u001b[0m \u001b[38;5;28;43mint\u001b[39;49m\u001b[43m(\u001b[49m\u001b[38;5;124;43m\"\u001b[39;49m\u001b[38;5;124;43m\"\u001b[39;49m\u001b[43m)\u001b[49m\n",
      "\u001b[0;31mValueError\u001b[0m: invalid literal for int() with base 10: ''"
     ]
    }
   ],
   "source": [
    "int(\"\")"
   ]
  },
  {
   "cell_type": "markdown",
   "id": "7c62a904-7e82-49df-bf51-fa1fa795bca8",
   "metadata": {},
   "source": [
    "#### facination"
   ]
  },
  {
   "cell_type": "code",
   "execution_count": 129,
   "id": "82cd1889-3dc6-4900-8349-de37079388f6",
   "metadata": {},
   "outputs": [
    {
     "data": {
      "text/plain": [
       "12"
      ]
     },
     "execution_count": 129,
     "metadata": {},
     "output_type": "execute_result"
    }
   ],
   "source": [
    "int(\"12\")"
   ]
  },
  {
   "cell_type": "code",
   "execution_count": 130,
   "id": "9fc6242d-ed73-4eda-b034-25959b9e8034",
   "metadata": {},
   "outputs": [
    {
     "ename": "ValueError",
     "evalue": "invalid literal for int() with base 10: '12.3'",
     "output_type": "error",
     "traceback": [
      "\u001b[0;31m---------------------------------------------------------------------------\u001b[0m",
      "\u001b[0;31mValueError\u001b[0m                                Traceback (most recent call last)",
      "Cell \u001b[0;32mIn [130], line 1\u001b[0m\n\u001b[0;32m----> 1\u001b[0m \u001b[38;5;28;43mint\u001b[39;49m\u001b[43m(\u001b[49m\u001b[38;5;124;43m\"\u001b[39;49m\u001b[38;5;124;43m12.3\u001b[39;49m\u001b[38;5;124;43m\"\u001b[39;49m\u001b[43m)\u001b[49m\n",
      "\u001b[0;31mValueError\u001b[0m: invalid literal for int() with base 10: '12.3'"
     ]
    }
   ],
   "source": [
    "int(\"12.3\")"
   ]
  },
  {
   "cell_type": "code",
   "execution_count": 131,
   "id": "a918cd32-a376-413f-b0a9-7311520f03a0",
   "metadata": {},
   "outputs": [
    {
     "data": {
      "text/plain": [
       "1"
      ]
     },
     "execution_count": 131,
     "metadata": {},
     "output_type": "execute_result"
    }
   ],
   "source": [
    "int(True)"
   ]
  },
  {
   "cell_type": "code",
   "execution_count": 132,
   "id": "b7a489cd-7bf4-4212-b4ad-a0ad0016f86a",
   "metadata": {},
   "outputs": [
    {
     "data": {
      "text/plain": [
       "0"
      ]
     },
     "execution_count": 132,
     "metadata": {},
     "output_type": "execute_result"
    }
   ],
   "source": [
    "int(False)"
   ]
  },
  {
   "cell_type": "code",
   "execution_count": 133,
   "id": "408798e7-e7a8-4aff-a881-06c6f5604c5f",
   "metadata": {},
   "outputs": [
    {
     "ename": "TypeError",
     "evalue": "int() argument must be a string, a bytes-like object or a real number, not 'NoneType'",
     "output_type": "error",
     "traceback": [
      "\u001b[0;31m---------------------------------------------------------------------------\u001b[0m",
      "\u001b[0;31mTypeError\u001b[0m                                 Traceback (most recent call last)",
      "Cell \u001b[0;32mIn [133], line 1\u001b[0m\n\u001b[0;32m----> 1\u001b[0m \u001b[38;5;28;43mint\u001b[39;49m\u001b[43m(\u001b[49m\u001b[38;5;28;43;01mNone\u001b[39;49;00m\u001b[43m)\u001b[49m\n",
      "\u001b[0;31mTypeError\u001b[0m: int() argument must be a string, a bytes-like object or a real number, not 'NoneType'"
     ]
    }
   ],
   "source": [
    "int(None)"
   ]
  },
  {
   "cell_type": "code",
   "execution_count": 134,
   "id": "d095e244-413a-463e-aa14-ef918fe304d8",
   "metadata": {},
   "outputs": [
    {
     "ename": "TypeError",
     "evalue": "int() argument must be a string, a bytes-like object or a real number, not 'list'",
     "output_type": "error",
     "traceback": [
      "\u001b[0;31m---------------------------------------------------------------------------\u001b[0m",
      "\u001b[0;31mTypeError\u001b[0m                                 Traceback (most recent call last)",
      "Cell \u001b[0;32mIn [134], line 1\u001b[0m\n\u001b[0;32m----> 1\u001b[0m \u001b[38;5;28;43mint\u001b[39;49m\u001b[43m(\u001b[49m\u001b[43m[\u001b[49m\u001b[43m]\u001b[49m\u001b[43m)\u001b[49m\n",
      "\u001b[0;31mTypeError\u001b[0m: int() argument must be a string, a bytes-like object or a real number, not 'list'"
     ]
    }
   ],
   "source": [
    "int([])"
   ]
  },
  {
   "cell_type": "markdown",
   "id": "42787f87-fce8-443d-b90f-c46d8869c333",
   "metadata": {},
   "source": [
    "#### bool()"
   ]
  },
  {
   "cell_type": "code",
   "execution_count": 135,
   "id": "77ab35c8-d067-4b22-a63f-1f146605ce50",
   "metadata": {},
   "outputs": [
    {
     "data": {
      "text/plain": [
       "False"
      ]
     },
     "execution_count": 135,
     "metadata": {},
     "output_type": "execute_result"
    }
   ],
   "source": [
    "bool(0)"
   ]
  },
  {
   "cell_type": "code",
   "execution_count": 136,
   "id": "2b44873d-d5d6-418d-875e-78f3f8e8e652",
   "metadata": {},
   "outputs": [
    {
     "data": {
      "text/plain": [
       "False"
      ]
     },
     "execution_count": 136,
     "metadata": {},
     "output_type": "execute_result"
    }
   ],
   "source": [
    "bool(\"\")"
   ]
  },
  {
   "cell_type": "code",
   "execution_count": 137,
   "id": "03381793-00a3-4de2-a10a-f2e3697b6258",
   "metadata": {},
   "outputs": [
    {
     "data": {
      "text/plain": [
       "True"
      ]
     },
     "execution_count": 137,
     "metadata": {},
     "output_type": "execute_result"
    }
   ],
   "source": [
    "bool(\"    \")"
   ]
  },
  {
   "cell_type": "code",
   "execution_count": 138,
   "id": "c8a25b58-5053-492a-978a-87e25e8c086e",
   "metadata": {},
   "outputs": [
    {
     "data": {
      "text/plain": [
       "12"
      ]
     },
     "execution_count": 138,
     "metadata": {},
     "output_type": "execute_result"
    }
   ],
   "source": [
    "int(\"    12\"  )"
   ]
  },
  {
   "cell_type": "code",
   "execution_count": 139,
   "id": "6dc01cd4-3de6-41bb-8c36-f7d5f1d705e0",
   "metadata": {},
   "outputs": [
    {
     "data": {
      "text/plain": [
       "False"
      ]
     },
     "execution_count": 139,
     "metadata": {},
     "output_type": "execute_result"
    }
   ],
   "source": [
    "bool(None)"
   ]
  },
  {
   "cell_type": "code",
   "execution_count": 140,
   "id": "0a9b4349-90a9-4bad-82c4-73b54e079d70",
   "metadata": {},
   "outputs": [
    {
     "data": {
      "text/plain": [
       "False"
      ]
     },
     "execution_count": 140,
     "metadata": {},
     "output_type": "execute_result"
    }
   ],
   "source": [
    "bool([])"
   ]
  },
  {
   "cell_type": "code",
   "execution_count": 141,
   "id": "2247ce1b-2b41-4787-b1af-74b89576a5b2",
   "metadata": {},
   "outputs": [
    {
     "data": {
      "text/plain": [
       "False"
      ]
     },
     "execution_count": 141,
     "metadata": {},
     "output_type": "execute_result"
    }
   ],
   "source": [
    "bool({})"
   ]
  },
  {
   "cell_type": "markdown",
   "id": "0ab73b86-f534-4ebc-9cf2-4614a6c3d1f9",
   "metadata": {},
   "source": [
    "#### list()"
   ]
  },
  {
   "cell_type": "code",
   "execution_count": 142,
   "id": "3d59f23d-51e8-4c12-8111-9dbe168b5bce",
   "metadata": {},
   "outputs": [
    {
     "data": {
      "text/plain": [
       "['n', 'a', 'm', 'e']"
      ]
     },
     "execution_count": 142,
     "metadata": {},
     "output_type": "execute_result"
    }
   ],
   "source": [
    "list(\"name\")"
   ]
  },
  {
   "cell_type": "code",
   "execution_count": 144,
   "id": "c8ac2c97-ac1a-46f5-af4d-0922448d07c1",
   "metadata": {},
   "outputs": [
    {
     "data": {
      "text/plain": [
       "[1, 2, 3, 4, 5, 6, 7, 8, 9, 10, 11, 12, 13, 14, 15, 16, 17, 18, 19, 20, 21, 22]"
      ]
     },
     "execution_count": 144,
     "metadata": {},
     "output_type": "execute_result"
    }
   ],
   "source": [
    "list(range(1,23))"
   ]
  },
  {
   "cell_type": "code",
   "execution_count": 147,
   "id": "c6799c60-4601-4ef3-8a47-d2ad08529f47",
   "metadata": {},
   "outputs": [
    {
     "data": {
      "text/plain": [
       "['ob', 'no']"
      ]
     },
     "execution_count": 147,
     "metadata": {},
     "output_type": "execute_result"
    }
   ],
   "source": [
    "list((\"ob\",\"no\")) # tuple to list"
   ]
  },
  {
   "cell_type": "code",
   "execution_count": 149,
   "id": "df5f1ccd-2f3e-4994-8dac-7681c528b89c",
   "metadata": {},
   "outputs": [
    {
     "data": {
      "text/plain": [
       "['name']"
      ]
     },
     "execution_count": 149,
     "metadata": {},
     "output_type": "execute_result"
    }
   ],
   "source": [
    "list({\"name\":\"namrta\"})  # OHhhhhhhhh"
   ]
  },
  {
   "cell_type": "markdown",
   "id": "6f49815e-6af6-4d31-bfb6-7235acaffc30",
   "metadata": {},
   "source": [
    "#### dict(iterable)"
   ]
  },
  {
   "cell_type": "code",
   "execution_count": 151,
   "id": "0430bbe8-5e1c-4e9d-8b2d-c2c480c3d96a",
   "metadata": {},
   "outputs": [
    {
     "ename": "TypeError",
     "evalue": "dict expected at most 1 argument, got 2",
     "output_type": "error",
     "traceback": [
      "\u001b[0;31m---------------------------------------------------------------------------\u001b[0m",
      "\u001b[0;31mTypeError\u001b[0m                                 Traceback (most recent call last)",
      "Cell \u001b[0;32mIn [151], line 1\u001b[0m\n\u001b[0;32m----> 1\u001b[0m \u001b[38;5;28;43mdict\u001b[39;49m\u001b[43m(\u001b[49m\u001b[38;5;124;43m\"\u001b[39;49m\u001b[38;5;124;43mnamr\u001b[39;49m\u001b[38;5;124;43m\"\u001b[39;49m\u001b[43m,\u001b[49m\u001b[38;5;241;43m0\u001b[39;49m\u001b[43m)\u001b[49m\n",
      "\u001b[0;31mTypeError\u001b[0m: dict expected at most 1 argument, got 2"
     ]
    }
   ],
   "source": [
    "dict(\"namr\",0)"
   ]
  },
  {
   "cell_type": "code",
   "execution_count": 153,
   "id": "71bea60b-6633-4e97-a1e8-cac97a3241d6",
   "metadata": {},
   "outputs": [
    {
     "data": {
      "text/plain": [
       "{1: 'one', 2: 'two'}"
      ]
     },
     "execution_count": 153,
     "metadata": {},
     "output_type": "execute_result"
    }
   ],
   "source": [
    "dict([(1,'one'),(2,'two')])"
   ]
  },
  {
   "cell_type": "markdown",
   "id": "37082ea1-c14a-484c-b155-690f4baf8b77",
   "metadata": {},
   "source": [
    "# 6. How do conditional statements work in Python? Illustrate with examples\n",
    "\n",
    "Conditional statements in Python allow you to execute different blocks of code based on certain conditions. These are fundamental to controlling the flow of a program and making decisions."
   ]
  },
  {
   "cell_type": "markdown",
   "id": "37ee81cd-0400-4422-9335-04571eeb1b1b",
   "metadata": {},
   "source": [
    "## conditions are not evaluated once a Truty condition is found \n",
    "- execution evaluation happen in top to bottom way"
   ]
  },
  {
   "cell_type": "markdown",
   "id": "8a992eea-0fd5-4ab9-a72b-265985b81a88",
   "metadata": {},
   "source": [
    "Majorly the python work with following conditional statements\n",
    "- if statement\n",
    "- if else statement\n",
    "- if elif chain statement\n",
    "- if elif..... else"
   ]
  },
  {
   "cell_type": "markdown",
   "id": "0cac8c58-e2ae-4f28-8801-2cc52e43882b",
   "metadata": {},
   "source": [
    "### All are used to control the flow of the Program execution"
   ]
  },
  {
   "cell_type": "markdown",
   "id": "4f15fdd2-233c-4804-82db-5b4feef94f64",
   "metadata": {},
   "source": [
    "### if statement\n",
    "<pre>\n",
    "    <code >\n",
    "    if condition :\n",
    "        statement1 \n",
    "        statement2\n",
    "    \n",
    "    \n",
    "    </code>\n",
    "</pre>\n",
    "\n",
    "here the condition is an expression which gets evaluated to a Boolean result.\n",
    "and The condition if is \"True\" only than the flow enters the if body and executes the code inside\n",
    "<pre>\n",
    "    <code >\n",
    "    if condition :\n",
    "    ''' If body start '''\n",
    "        statement1 \n",
    "        statement2\n",
    "    '''If body end'''\n",
    "    \n",
    "    </code>\n",
    "</pre>"
   ]
  },
  {
   "cell_type": "code",
   "execution_count": 154,
   "id": "5a13183e-8f6a-4da9-a673-6ad5efe8850f",
   "metadata": {},
   "outputs": [],
   "source": [
    "name = \"Zeal\"\n",
    "if name== \"zeal\":\n",
    "    print(\"welcome\")"
   ]
  },
  {
   "cell_type": "code",
   "execution_count": 155,
   "id": "f32ef5ef-cebd-4531-abbf-111d2d3b39fa",
   "metadata": {},
   "outputs": [
    {
     "name": "stdout",
     "output_type": "stream",
     "text": [
      "Finally Welcome\n"
     ]
    }
   ],
   "source": [
    "if name == \"Zeal\":\n",
    "    print(\"Finally Welcome\")\n",
    "\n",
    "## after the printing the control flow of the program is returned to the main"
   ]
  },
  {
   "cell_type": "markdown",
   "id": "13964431-8dd7-45d8-a4d8-1b9ad3fbbce3",
   "metadata": {},
   "source": [
    "### if else \n",
    "- some times we may want do one thing if the condition is true and another if the condition is false\n",
    "<code>\n",
    "<pre>\n",
    "    if condition:\n",
    "        '''if the condition is true'''\n",
    "        statement\n",
    "    else:\n",
    "        '''if the condition is false'''\n",
    "        statement\n",
    "  \n",
    "    \n",
    "</pre>\n",
    "  </code>"
   ]
  },
  {
   "cell_type": "code",
   "execution_count": 156,
   "id": "36b03d3d-28f6-4a44-8f60-01ff2723c5b6",
   "metadata": {},
   "outputs": [
    {
     "name": "stdout",
     "output_type": "stream",
     "text": [
      "You can vote\n"
     ]
    }
   ],
   "source": [
    "age = 18 \n",
    "if age >= 18:\n",
    "    print(\"You can vote\")\n",
    "else:\n",
    "    print(\"Ask you parents\")"
   ]
  },
  {
   "cell_type": "markdown",
   "id": "d28c4c91-e862-45b1-b9fe-8576b3078de3",
   "metadata": {},
   "source": [
    "### if elif \n",
    "- sometime there are multiple conditions that need to be checked\n",
    "<pre>\n",
    "  <code>\n",
    "      if condition1:\n",
    "          stmnt1\n",
    "      elif conditon2:\n",
    "          stmnt2\n",
    "      elif condition3:\n",
    "          stmnt3\n",
    "  </code>\n",
    "\n",
    "  </pre>"
   ]
  },
  {
   "cell_type": "code",
   "execution_count": 160,
   "id": "2e42b22c-86b5-4002-a68d-9b6f7df75f99",
   "metadata": {},
   "outputs": [
    {
     "name": "stdout",
     "output_type": "stream",
     "text": [
      "Grade C\n"
     ]
    }
   ],
   "source": [
    "marks = 54\n",
    "\n",
    "\n",
    "if marks > 80 :\n",
    "    print(\"Grade A\")\n",
    "elif marks > 60 and marks < 80:\n",
    "    print(\"Grade B\")\n",
    "elif marks > 50 and marks < 60:\n",
    "    print(\"Grade C\")\n",
    "elif marks > 34 and marks < 50:\n",
    "    print(\"Grade D\")\n",
    "elif marks < 34 :\n",
    "    print(\"Grade F\")"
   ]
  },
  {
   "cell_type": "markdown",
   "id": "043253c1-73fa-4363-8380-1e62e9a4b773",
   "metadata": {},
   "source": [
    "#### Nested if also exits"
   ]
  },
  {
   "cell_type": "markdown",
   "id": "368ea750-37f5-4bec-b721-68fc198e15f1",
   "metadata": {},
   "source": [
    "### Conditional Expressions (Ternary Operator)\n",
    "` value_if_true if conditon else value_if_false`"
   ]
  },
  {
   "cell_type": "code",
   "execution_count": 161,
   "id": "b8023eda-4a05-488f-a742-cc8be561db0d",
   "metadata": {},
   "outputs": [],
   "source": [
    "age = 18\n",
    "status = \"Adult\" if age >= 18 else \"Minor\""
   ]
  },
  {
   "cell_type": "code",
   "execution_count": 162,
   "id": "e236cd8a-c9b4-4e98-9659-e6b9581fb0f3",
   "metadata": {},
   "outputs": [
    {
     "data": {
      "text/plain": [
       "'Adult'"
      ]
     },
     "execution_count": 162,
     "metadata": {},
     "output_type": "execute_result"
    }
   ],
   "source": [
    "status"
   ]
  },
  {
   "cell_type": "markdown",
   "id": "9969f16d-0bb9-417f-9542-93d8506a9494",
   "metadata": {},
   "source": [
    "# 7.Describe the different types of loops in Python and their use cases with examples."
   ]
  },
  {
   "cell_type": "markdown",
   "id": "51aceced-a511-4c84-bf2e-bdcf4a5756e6",
   "metadata": {},
   "source": [
    "There are  scenarios when a certain set of statements need to be repeated for a certain coditions for certain no of time\n",
    "Thats where the loop comes to play.\n",
    " <br>\n",
    " **Types of loops**\n",
    " 1. for\n",
    " 2. while\n",
    "    1. do while"
   ]
  },
  {
   "cell_type": "markdown",
   "id": "c302cf74-133c-4e0d-b3e3-35f3656409df",
   "metadata": {},
   "source": [
    "### for loop \n",
    "` for variable in iterable:\n",
    "    statements\n",
    "    `\n",
    "    "
   ]
  },
  {
   "cell_type": "markdown",
   "id": "7aaccdeb-87bd-429a-8bc1-f197b9350e85",
   "metadata": {},
   "source": [
    "## The For loop\n",
    "- this is used to loop over a certain no of times\n"
   ]
  },
  {
   "cell_type": "markdown",
   "id": "a82ce350-0227-420c-9fdf-a4c20961c370",
   "metadata": {},
   "source": [
    "#### 1. for Iteration over the items of list or tuple"
   ]
  },
  {
   "cell_type": "code",
   "execution_count": 163,
   "id": "bd1feacf-6d29-4146-ad1e-606c29f46d4a",
   "metadata": {},
   "outputs": [],
   "source": [
    "names = ['dog','bog','log','nod']"
   ]
  },
  {
   "cell_type": "code",
   "execution_count": 164,
   "id": "69de2a8f-66f6-4623-b327-c8f83fe55a25",
   "metadata": {},
   "outputs": [
    {
     "name": "stdout",
     "output_type": "stream",
     "text": [
      "dog\n",
      "bog\n",
      "log\n",
      "nod\n"
     ]
    }
   ],
   "source": [
    "for name in names:\n",
    "    print(name)"
   ]
  },
  {
   "cell_type": "markdown",
   "id": "047f52f0-90fb-41a2-be2f-ec6b45f7f444",
   "metadata": {},
   "source": [
    "### 2. for iteration over a range\n"
   ]
  },
  {
   "cell_type": "code",
   "execution_count": 165,
   "id": "39a0aab8-5a1a-434b-bc21-3ef50d215be5",
   "metadata": {},
   "outputs": [
    {
     "name": "stdout",
     "output_type": "stream",
     "text": [
      "1\n",
      "2\n",
      "3\n",
      "4\n",
      "5\n",
      "6\n",
      "7\n",
      "8\n",
      "9\n"
     ]
    }
   ],
   "source": [
    "for i in range(1,10):\n",
    "    ''' the second argument of the range() function is not included'''\n",
    "    print(i)"
   ]
  },
  {
   "cell_type": "markdown",
   "id": "f535652d-951a-4148-a964-8278cfee88e1",
   "metadata": {},
   "source": [
    "### 3. Looping over the contents of the dictionary"
   ]
  },
  {
   "cell_type": "code",
   "execution_count": 166,
   "id": "22aee256-9686-4210-b7a1-0cd3f258805b",
   "metadata": {},
   "outputs": [],
   "source": [
    "\n",
    "person = {\"name\":\"arundity\", \"age\" : 27}"
   ]
  },
  {
   "cell_type": "code",
   "execution_count": 168,
   "id": "8eba4506-8522-4c54-9bc2-5d2dfc8c0a75",
   "metadata": {},
   "outputs": [
    {
     "name": "stdout",
     "output_type": "stream",
     "text": [
      "name\n",
      "age\n"
     ]
    }
   ],
   "source": [
    "for key in person: ## loop over only the key s of the dictionary\n",
    "    print(key)"
   ]
  },
  {
   "cell_type": "code",
   "execution_count": 169,
   "id": "d4df6fd2-8220-45a6-a0f3-bae1c3fe5a4d",
   "metadata": {},
   "outputs": [
    {
     "name": "stdout",
     "output_type": "stream",
     "text": [
      "arundity\n",
      "27\n"
     ]
    }
   ],
   "source": [
    "for key in person: ## loop over only the key s of the dictionary\n",
    "    print(person[key])"
   ]
  },
  {
   "cell_type": "markdown",
   "id": "5c78f7c0-bf24-4667-b6ee-ffe7eb6b0e74",
   "metadata": {},
   "source": [
    "#### items() , keys() and values() method of the dictionary"
   ]
  },
  {
   "cell_type": "code",
   "execution_count": 170,
   "id": "e80dae48-311f-49f3-82a5-ba271f72488a",
   "metadata": {},
   "outputs": [
    {
     "data": {
      "text/plain": [
       "dict_items([('name', 'arundity'), ('age', 27)])"
      ]
     },
     "execution_count": 170,
     "metadata": {},
     "output_type": "execute_result"
    }
   ],
   "source": [
    "person.items() # list like structure [(key, value),(key,value)]"
   ]
  },
  {
   "cell_type": "code",
   "execution_count": 171,
   "id": "cbab193f-86c7-4737-9f47-fbcee15856fb",
   "metadata": {},
   "outputs": [
    {
     "data": {
      "text/plain": [
       "dict_keys(['name', 'age'])"
      ]
     },
     "execution_count": 171,
     "metadata": {},
     "output_type": "execute_result"
    }
   ],
   "source": [
    "person.keys()"
   ]
  },
  {
   "cell_type": "code",
   "execution_count": 172,
   "id": "35674989-eba4-4e62-8d56-e329b5857b04",
   "metadata": {},
   "outputs": [
    {
     "data": {
      "text/plain": [
       "dict_values(['arundity', 27])"
      ]
     },
     "execution_count": 172,
     "metadata": {},
     "output_type": "execute_result"
    }
   ],
   "source": [
    "\n",
    "person.values()"
   ]
  },
  {
   "cell_type": "code",
   "execution_count": 174,
   "id": "28a3719f-52c2-4cad-ae8a-8bf158c79888",
   "metadata": {},
   "outputs": [
    {
     "name": "stdout",
     "output_type": "stream",
     "text": [
      "name arundity\n",
      "age 27\n"
     ]
    }
   ],
   "source": [
    "for key,value in person.items():\n",
    "    print(key, value)"
   ]
  },
  {
   "cell_type": "markdown",
   "id": "4d9f0c9b-880e-4fe4-922c-d3fe31fe12f2",
   "metadata": {},
   "source": [
    "## While Loop \n",
    "- The while loop repeatedly executes a block of code as long as its condition evaluates to True. It is useful when the number of iterations is not known beforehand and depends on some condition.`\n",
    "- `while condition:\n",
    "     Code to execute while condition is True\n",
    "\n",
    "`\n",
    "- incrementing the loop is most important"
   ]
  },
  {
   "cell_type": "code",
   "execution_count": 175,
   "id": "e646f375-b7a3-43a0-8b3b-52300e352ba2",
   "metadata": {},
   "outputs": [
    {
     "name": "stdout",
     "output_type": "stream",
     "text": [
      "0\n",
      "1\n",
      "2\n",
      "3\n",
      "4\n",
      "5\n",
      "6\n",
      "7\n",
      "8\n",
      "9\n"
     ]
    }
   ],
   "source": [
    "i =  0 \n",
    "while i < 10 : \n",
    "    print(i)\n",
    "    i+= 1"
   ]
  },
  {
   "cell_type": "code",
   "execution_count": null,
   "id": "b50b3be4-ccba-4d19-a925-ade8f64946f0",
   "metadata": {},
   "outputs": [],
   "source": [
    "### infinite loop\n",
    "i =  0 \n",
    "while i < 10 : \n",
    "    print(i)\n",
    "    # i+= 1"
   ]
  },
  {
   "cell_type": "markdown",
   "id": "ebe80add-1575-49ac-93c0-166fa921b839",
   "metadata": {},
   "source": [
    "## suppose to remove instance of the Alice "
   ]
  },
  {
   "cell_type": "code",
   "execution_count": 184,
   "id": "6aa639b3-134d-46f1-b0c2-33f36d787e21",
   "metadata": {},
   "outputs": [],
   "source": [
    "names = [\n",
    "    \"Alice\",\n",
    " \n",
    "    \"Charlie\",\n",
    "    \"Alice\",\n",
    "    \"Diana\",\n",
    "    \"Eve\",\n",
    "    \"Alice\",\n",
    "    \"Frank\",\n",
    "    \"Grace\",\n",
    "    \"Bob\"\n",
    "]\n"
   ]
  },
  {
   "cell_type": "markdown",
   "id": "0722fe80-0646-40bc-9c5c-163a1c721ab0",
   "metadata": {},
   "source": [
    "### suppose we want to remove all the instances of the 'a' from the list"
   ]
  },
  {
   "cell_type": "code",
   "execution_count": 180,
   "id": "be6435c0-94b9-48cc-a5ec-b341c51b0806",
   "metadata": {},
   "outputs": [],
   "source": [
    "names .remove('Alice')"
   ]
  },
  {
   "cell_type": "code",
   "execution_count": 182,
   "id": "75fb7a55-dd95-4f83-b794-a0ba9ea40855",
   "metadata": {},
   "outputs": [
    {
     "data": {
      "text/plain": [
       "['Charlie', 'Alice', 'Diana', 'Eve', 'Alice', 'Frank', 'Grace', 'Bob']"
      ]
     },
     "execution_count": 182,
     "metadata": {},
     "output_type": "execute_result"
    }
   ],
   "source": [
    "names # but still there are 2 left what  to do now"
   ]
  },
  {
   "cell_type": "markdown",
   "id": "66afccbf-48f1-4361-8cc8-a77b79dea36a",
   "metadata": {},
   "source": [
    "### while loop to resque"
   ]
  },
  {
   "cell_type": "code",
   "execution_count": 186,
   "id": "8b8acffa-13b6-4319-92bd-4d37c41532fa",
   "metadata": {},
   "outputs": [],
   "source": [
    "while \"Alice\" in names:\n",
    "    names.remove(\"Alice\")\n",
    "    "
   ]
  },
  {
   "cell_type": "code",
   "execution_count": 189,
   "id": "3e303253-14f9-4702-a9e0-440561977783",
   "metadata": {},
   "outputs": [
    {
     "data": {
      "text/plain": [
       "['Charlie', 'Diana', 'Eve', 'Frank', 'Grace', 'Bob']"
      ]
     },
     "execution_count": 189,
     "metadata": {},
     "output_type": "execute_result"
    }
   ],
   "source": [
    "names # and waah"
   ]
  },
  {
   "cell_type": "code",
   "execution_count": 1,
   "id": "5d82fb0e-6529-4107-9a69-eeea91bff3fe",
   "metadata": {},
   "outputs": [
    {
     "name": "stdout",
     "output_type": "stream",
     "text": [
      "Try again\n",
      "Try again\n",
      "Try again\n",
      "Try again\n",
      "Try again\n"
     ]
    }
   ],
   "source": [
    "attempts = 5\n",
    "\n",
    "while attempts: \n",
    "    print(\"Try again\")\n",
    "    attempts += -1"
   ]
  },
  {
   "cell_type": "markdown",
   "id": "219dbf30-c660-49b8-b985-b4074e73987e",
   "metadata": {},
   "source": [
    "### while loop with Flags"
   ]
  },
  {
   "cell_type": "code",
   "execution_count": 2,
   "id": "29fdb7d9-503d-48c6-927d-9fa4de94cba4",
   "metadata": {},
   "outputs": [
    {
     "ename": "SyntaxError",
     "evalue": "invalid syntax (2333075242.py, line 1)",
     "output_type": "error",
     "traceback": [
      "\u001b[0;36m  Cell \u001b[0;32mIn [2], line 1\u001b[0;36m\u001b[0m\n\u001b[0;31m    pass = True\u001b[0m\n\u001b[0m         ^\u001b[0m\n\u001b[0;31mSyntaxError\u001b[0m\u001b[0;31m:\u001b[0m invalid syntax\n"
     ]
    }
   ],
   "source": [
    "pas = True\n",
    "count = 1\n",
    "while pa\n",
    "s :\n",
    "    print(\"Hello \")\n",
    "    if count == 5:\n",
    "        break\n",
    "    count+=1\n"
   ]
  },
  {
   "cell_type": "code",
   "execution_count": null,
   "id": "083b1604-d3c4-489b-908e-760467b6c2cd",
   "metadata": {},
   "outputs": [],
   "source": []
  }
 ],
 "metadata": {
  "kernelspec": {
   "display_name": "Python 3 (ipykernel)",
   "language": "python",
   "name": "python3"
  },
  "language_info": {
   "codemirror_mode": {
    "name": "ipython",
    "version": 3
   },
   "file_extension": ".py",
   "mimetype": "text/x-python",
   "name": "python",
   "nbconvert_exporter": "python",
   "pygments_lexer": "ipython3",
   "version": "3.10.12"
  }
 },
 "nbformat": 4,
 "nbformat_minor": 5
}
