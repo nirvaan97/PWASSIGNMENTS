{
 "cells": [
  {
   "cell_type": "markdown",
   "id": "4fdf5b1c-7111-498f-9923-b250173bab2a",
   "metadata": {},
   "source": [
    "## would be of much help if you had provided the example inputs and results too"
   ]
  },
  {
   "cell_type": "markdown",
   "id": "e25dad7c-fd77-433d-9cdc-054b99a4fc85",
   "metadata": {},
   "source": [
    "## 1. Write a code to reverse a string"
   ]
  },
  {
   "cell_type": "code",
   "execution_count": 1,
   "id": "688c33d3-78ad-48d1-8792-84f5bd3b913d",
   "metadata": {},
   "outputs": [],
   "source": [
    "def reverse_str(s):\n",
    "    return s[::-1]"
   ]
  },
  {
   "cell_type": "code",
   "execution_count": 3,
   "id": "cb433dc3-e032-4df7-8d69-997b7a0640b2",
   "metadata": {},
   "outputs": [
    {
     "ename": "AttributeError",
     "evalue": "'str' object has no attribute 'reverse'",
     "output_type": "error",
     "traceback": [
      "\u001b[0;31m---------------------------------------------------------------------------\u001b[0m",
      "\u001b[0;31mAttributeError\u001b[0m                            Traceback (most recent call last)",
      "Cell \u001b[0;32mIn [3], line 1\u001b[0m\n\u001b[0;32m----> 1\u001b[0m \u001b[38;5;124;43m\"\u001b[39;49m\u001b[38;5;124;43mnamrta\u001b[39;49m\u001b[38;5;124;43m\"\u001b[39;49m\u001b[38;5;241;43m.\u001b[39;49m\u001b[43mreverse\u001b[49m()\n",
      "\u001b[0;31mAttributeError\u001b[0m: 'str' object has no attribute 'reverse'"
     ]
    }
   ],
   "source": [
    "\"namrta\".reverse() "
   ]
  },
  {
   "cell_type": "code",
   "execution_count": 5,
   "id": "91d6d67b-41e5-4d77-85e4-dbfbebf2a87d",
   "metadata": {},
   "outputs": [],
   "source": [
    "list(\"namrta\") .reverse() # do not return anything bcz its a permanant method"
   ]
  },
  {
   "cell_type": "code",
   "execution_count": null,
   "id": "0af9cb98-ca0d-4a2a-bd75-c02d43d1856b",
   "metadata": {},
   "outputs": [],
   "source": []
  },
  {
   "cell_type": "code",
   "execution_count": 6,
   "id": "553eeaa7-a8dc-4488-8259-a92370eedd99",
   "metadata": {},
   "outputs": [],
   "source": [
    "x = list(\"namrta\")"
   ]
  },
  {
   "cell_type": "code",
   "execution_count": 7,
   "id": "e0f9de2a-476a-4e63-873c-6e947f45c0fe",
   "metadata": {},
   "outputs": [],
   "source": [
    "x.reverse()"
   ]
  },
  {
   "cell_type": "code",
   "execution_count": 8,
   "id": "4b58e5ae-0735-46a2-991c-9f7c3ded4c22",
   "metadata": {},
   "outputs": [
    {
     "data": {
      "text/plain": [
       "['a', 't', 'r', 'm', 'a', 'n']"
      ]
     },
     "execution_count": 8,
     "metadata": {},
     "output_type": "execute_result"
    }
   ],
   "source": [
    "x"
   ]
  },
  {
   "cell_type": "code",
   "execution_count": 9,
   "id": "7df2df7e-82ec-45a3-97b6-722b8ce454fc",
   "metadata": {},
   "outputs": [
    {
     "data": {
      "text/plain": [
       "'atrman'"
      ]
     },
     "execution_count": 9,
     "metadata": {},
     "output_type": "execute_result"
    }
   ],
   "source": [
    "\"\".join(x)"
   ]
  },
  {
   "cell_type": "code",
   "execution_count": null,
   "id": "f5e2eadd-1aea-4a24-9d55-079e2b999a72",
   "metadata": {},
   "outputs": [],
   "source": []
  },
  {
   "cell_type": "code",
   "execution_count": 11,
   "id": "5b7bbdb6-dd12-4f1e-929c-3dca570cfd03",
   "metadata": {},
   "outputs": [
    {
     "name": "stdout",
     "output_type": "stream",
     "text": [
      "(0, 'n')\n",
      "(1, 'a')\n",
      "(2, 'm')\n",
      "(3, 'r')\n",
      "(4, 't')\n",
      "(5, 'a')\n"
     ]
    }
   ],
   "source": [
    "for i in enumerate(\"namrta\"): # works for the string too\n",
    "    print(i)"
   ]
  },
  {
   "cell_type": "code",
   "execution_count": 14,
   "id": "768b84b7-4988-482f-ad1b-7006476f60c3",
   "metadata": {},
   "outputs": [],
   "source": [
    "for i in range(0,len(\"namrta\"),-1):\n",
    "    print(i)"
   ]
  },
  {
   "cell_type": "code",
   "execution_count": 20,
   "id": "8a748413-9a43-4202-84e3-5419a19d6241",
   "metadata": {},
   "outputs": [
    {
     "data": {
      "text/plain": [
       "[]"
      ]
     },
     "execution_count": 20,
     "metadata": {},
     "output_type": "execute_result"
    }
   ],
   "source": [
    "list(range(0, 10, -1))"
   ]
  },
  {
   "cell_type": "code",
   "execution_count": 21,
   "id": "94af5fd2-90b7-4bc3-b250-160f499cb75a",
   "metadata": {},
   "outputs": [
    {
     "data": {
      "text/plain": [
       "[0, 1, 2, 3, 4, 5, 6, 7, 8, 9]"
      ]
     },
     "execution_count": 21,
     "metadata": {},
     "output_type": "execute_result"
    }
   ],
   "source": [
    "list(range(0, 10, 1))"
   ]
  },
  {
   "cell_type": "markdown",
   "id": "a4539084-1ae5-4c33-96ac-e86dc3c20856",
   "metadata": {},
   "source": [
    "## 2. Write a code to count the number of vowels in a string"
   ]
  },
  {
   "cell_type": "code",
   "execution_count": 23,
   "id": "42c4e60f-c69d-424b-b9df-6493b66bfd27",
   "metadata": {},
   "outputs": [],
   "source": [
    "vow = filter(lambda x : x in \"aeiouAEIOU\", \"namrta\")"
   ]
  },
  {
   "cell_type": "code",
   "execution_count": 24,
   "id": "c2bf8b47-97e8-4e4a-aed9-e8d5e58a625b",
   "metadata": {},
   "outputs": [
    {
     "data": {
      "text/plain": [
       "['a', 'a']"
      ]
     },
     "execution_count": 24,
     "metadata": {},
     "output_type": "execute_result"
    }
   ],
   "source": [
    "list(vow)"
   ]
  },
  {
   "cell_type": "code",
   "execution_count": null,
   "id": "314a1ac5-1b22-44bf-a123-7e90edcbd397",
   "metadata": {},
   "outputs": [],
   "source": []
  },
  {
   "cell_type": "code",
   "execution_count": null,
   "id": "9e0a0cd2-8e16-4354-ae61-cdbf45b6a5d1",
   "metadata": {},
   "outputs": [],
   "source": []
  },
  {
   "cell_type": "code",
   "execution_count": 25,
   "id": "6fbe557f-3532-4d13-9c39-ee7bb3e47af8",
   "metadata": {},
   "outputs": [],
   "source": [
    "def vowels_count (s):\n",
    "    count = 0 \n",
    "    for i in s: \n",
    "        if i in \"aeiouAEIOU\":\n",
    "            count += 1\n",
    "    return count"
   ]
  },
  {
   "cell_type": "code",
   "execution_count": 26,
   "id": "1d02ae58-7314-4409-abda-cdb4c1eddcc7",
   "metadata": {},
   "outputs": [
    {
     "data": {
      "text/plain": [
       "17"
      ]
     },
     "execution_count": 26,
     "metadata": {},
     "output_type": "execute_result"
    }
   ],
   "source": [
    "vowels_count (\"Write a code to count the number of vowels in a string\")"
   ]
  },
  {
   "cell_type": "code",
   "execution_count": null,
   "id": "9baa08e2-3236-41a7-97ad-3dddb36049a1",
   "metadata": {},
   "outputs": [],
   "source": []
  },
  {
   "cell_type": "markdown",
   "id": "59678af5-8fa3-4158-854b-0bde02392ed3",
   "metadata": {},
   "source": [
    "## 3. Write a code to check if a given string is a palindrome or not\n",
    "- is a pattern which is equal to its reverse counter part\n",
    "'noon , mom, dad'"
   ]
  },
  {
   "cell_type": "code",
   "execution_count": 30,
   "id": "05ee6df8-0eeb-4acc-927d-14c62995c1e9",
   "metadata": {},
   "outputs": [],
   "source": [
    "def is_pali (pat) :\n",
    "    pat_rev = pat[::-1]\n",
    "\n",
    "    for a, b in zip(pat, pat_rev):\n",
    "        if a != b : \n",
    "            return False\n",
    "    return True"
   ]
  },
  {
   "cell_type": "code",
   "execution_count": 34,
   "id": "ab0bb29a-74b5-4698-a184-f17c4fa3ae98",
   "metadata": {},
   "outputs": [
    {
     "data": {
      "text/plain": [
       "True"
      ]
     },
     "execution_count": 34,
     "metadata": {},
     "output_type": "execute_result"
    }
   ],
   "source": [
    "is_pali(\"dad\")"
   ]
  },
  {
   "cell_type": "markdown",
   "id": "00ec8570-ba95-43f8-b04c-56a572144f87",
   "metadata": {},
   "source": [
    "## 4. Write a code to check if two given strings are anagrams of each other"
   ]
  },
  {
   "cell_type": "markdown",
   "id": "e8dd1bde-a61d-4537-aec6-ad7ee54ab231",
   "metadata": {},
   "source": [
    "\"namrta\"  is anamgarm of \"atrman\""
   ]
  },
  {
   "cell_type": "code",
   "execution_count": null,
   "id": "3d89949c-3b03-4aad-8faf-4871c1d541e8",
   "metadata": {},
   "outputs": [],
   "source": [
    "# def is_anag(txt,anag):\n",
    "#     if not (len(anga) == len(txt)):\n",
    "#         return False\n",
    "#     for i,v in enumerate(anag):\n",
    "#         x = txt.index()\n",
    "        \n",
    "        "
   ]
  },
  {
   "cell_type": "code",
   "execution_count": null,
   "id": "920e1e54-b7be-49ab-bdfe-6c3a2d4085a8",
   "metadata": {},
   "outputs": [],
   "source": [
    "def are_anagrams(str1, str2):\n",
    "    # Check if the lengths of the strings are the same\n",
    "    if len(str1) != len(str2):\n",
    "        return False\n",
    "\n",
    "    # Sort both strings and compare\n",
    "    return sorted(str1) == sorted(str2)\n",
    "\n",
    "\n"
   ]
  },
  {
   "cell_type": "code",
   "execution_count": null,
   "id": "d74bee96-8ddf-4d0c-8499-8e8eae356ff8",
   "metadata": {},
   "outputs": [],
   "source": [
    "# Example usage:\n",
    "string1 = \"listen\"\n",
    "string2 = \"silent\"\n",
    "result = are_anagrams(string1, string2)\n",
    "print(result)  # Output: True"
   ]
  },
  {
   "cell_type": "markdown",
   "id": "4671baf2-1dcd-4392-8d57-f7974a1a8218",
   "metadata": {},
   "source": [
    "##### \"namrta\".index(\"x\")"
   ]
  },
  {
   "cell_type": "markdown",
   "id": "ee86f5e8-54d7-4912-b55f-2cab871568a8",
   "metadata": {},
   "source": [
    "## 5. Write a code to find all occurrences of a given substring within another string"
   ]
  },
  {
   "cell_type": "code",
   "execution_count": 190,
   "id": "211078a7-9699-43b0-b4ca-666929b5e938",
   "metadata": {},
   "outputs": [],
   "source": [
    "def find_substring_occurrences(s, substring):\n",
    "    occurrences = []\n",
    "    start = 0\n",
    "\n",
    "    while start < len(s):\n",
    "        pos = s.find(substring, start)\n",
    "        if pos == -1:\n",
    "            break\n",
    "        occurrences.append(pos)\n",
    "        start = pos + 1  # Move one character ahead to avoid finding the same occurrence again\n",
    "\n",
    "    return occurrences\n",
    "\n",
    "\n"
   ]
  },
  {
   "cell_type": "code",
   "execution_count": 191,
   "id": "462b78bb-39f9-4256-9798-a96325ca5c57",
   "metadata": {},
   "outputs": [],
   "source": [
    "string = \"abracadabra\"\n",
    "\n"
   ]
  },
  {
   "cell_type": "code",
   "execution_count": 192,
   "id": "ca8b122c-8d8c-4f44-98a7-53a0db6076fc",
   "metadata": {},
   "outputs": [],
   "source": [
    "substring = \"abra\"\n"
   ]
  },
  {
   "cell_type": "code",
   "execution_count": 193,
   "id": "5e0434db-59c0-4055-9605-a1277cfedcab",
   "metadata": {},
   "outputs": [
    {
     "name": "stdout",
     "output_type": "stream",
     "text": [
      "[0, 7]\n"
     ]
    }
   ],
   "source": [
    "result = find_substring_occurrences(string, substring)\n",
    "print(result)"
   ]
  },
  {
   "cell_type": "markdown",
   "id": "5b090668-38dc-4998-8cb1-4fcfffff778d",
   "metadata": {},
   "source": [
    "## 6. Write a code to perform basic string compression using the counts of repeated characters"
   ]
  },
  {
   "cell_type": "code",
   "execution_count": 194,
   "id": "f8e182ea-818b-4a99-baa2-06f4def7b17c",
   "metadata": {},
   "outputs": [],
   "source": [
    "def compress_string(s):\n",
    "    compressed = \"\"\n",
    "    count = 1\n",
    "\n",
    "    for i in range(1, len(s)):\n",
    "        if s[i] == s[i - 1]:\n",
    "            count += 1  # Increment count if the current character matches the previous one\n",
    "        else:\n",
    "            compressed += s[i - 1] + str(count)  # Append the character and its count to the compressed string\n",
    "            count = 1  # Reset the count for the new character\n",
    "\n",
    "    compressed += s[-1] + str(count)  # Add the last character and its count\n",
    "    return compressed\n",
    "\n",
    "\n",
    "\n",
    "\n",
    "\n"
   ]
  },
  {
   "cell_type": "code",
   "execution_count": 195,
   "id": "e5ff0c50-b3a2-4a6a-be6d-d1c8c73c1661",
   "metadata": {},
   "outputs": [],
   "source": [
    "string = \"aaabbccccdaabracadabra\""
   ]
  },
  {
   "cell_type": "code",
   "execution_count": 196,
   "id": "01f660a1-6859-440a-a786-3f0c473a462a",
   "metadata": {},
   "outputs": [],
   "source": [
    "compressed_string = compress_string(string)"
   ]
  },
  {
   "cell_type": "code",
   "execution_count": 197,
   "id": "a4795915-29cd-4006-906f-2c514aeb6056",
   "metadata": {},
   "outputs": [
    {
     "name": "stdout",
     "output_type": "stream",
     "text": [
      "a3b2c4d1a2b1r1a1c1a1d1a1b1r1a1\n"
     ]
    }
   ],
   "source": [
    "print(compressed_string)"
   ]
  },
  {
   "cell_type": "markdown",
   "id": "51d94d4f-d993-4c41-be09-7f06fb2e8e8e",
   "metadata": {},
   "source": [
    "## 7. Write a code to determine if a string has all unique characters"
   ]
  },
  {
   "cell_type": "code",
   "execution_count": 202,
   "id": "a34efbee-863c-45d8-87a8-9bdedddc9460",
   "metadata": {},
   "outputs": [],
   "source": [
    "def has_unique_chars(s):\n",
    "    seen_chars = set()  \n",
    "    for char in s:\n",
    "        if char in seen_chars:  \n",
    "            return False\n",
    "        seen_chars.add(char)  # Add the character to the set\n",
    "\n",
    "    return True  # If we finish the loop without finding duplicates, all characters are unique\n",
    "\n",
    "\n",
    "\n"
   ]
  },
  {
   "cell_type": "code",
   "execution_count": 206,
   "id": "ca26cdcb-22be-4385-aa39-4c830236a5ac",
   "metadata": {},
   "outputs": [],
   "source": [
    "string = \"abcdefga\"\n"
   ]
  },
  {
   "cell_type": "code",
   "execution_count": 207,
   "id": "92c1c2d7-ac2d-4498-a014-b8607c5007c6",
   "metadata": {},
   "outputs": [],
   "source": [
    "result = has_unique_chars(string)\n"
   ]
  },
  {
   "cell_type": "code",
   "execution_count": 208,
   "id": "3e6b1ea2-4479-4f0c-ab32-87e469b73baf",
   "metadata": {},
   "outputs": [
    {
     "name": "stdout",
     "output_type": "stream",
     "text": [
      "False\n"
     ]
    }
   ],
   "source": [
    "print(result)  "
   ]
  },
  {
   "cell_type": "code",
   "execution_count": null,
   "id": "3aabbb3f-2ea4-46ce-a6d8-abc3e3f354f9",
   "metadata": {},
   "outputs": [],
   "source": []
  },
  {
   "cell_type": "markdown",
   "id": "80e2c9b2-29c7-47b5-86b6-8be6712f96ce",
   "metadata": {},
   "source": [
    "## 8.Write a code to convert a given string to uppercase or lowercase"
   ]
  },
  {
   "cell_type": "code",
   "execution_count": 1,
   "id": "6fdd884b-31e4-4388-8ebf-665c4f29eeed",
   "metadata": {},
   "outputs": [],
   "source": [
    "def caseConverter(strx,case):\n",
    "    if case =='t':\n",
    "        return strx.title()\n",
    "    elif case == 'u':\n",
    "        return strx.upper()\n",
    "    elif case =='l':\n",
    "        return strx.lower()\n",
    "\n"
   ]
  },
  {
   "cell_type": "code",
   "execution_count": 2,
   "id": "d8536e67-3ff9-4f18-bce3-a7233e088254",
   "metadata": {},
   "outputs": [
    {
     "data": {
      "text/plain": [
       "'WRITE A CODE TO CONVERT A GIVEN STRING TO UPPERCASE OR LOWERCASE'"
      ]
     },
     "execution_count": 2,
     "metadata": {},
     "output_type": "execute_result"
    }
   ],
   "source": [
    "caseConverter('Write a code to convert a given string to uppercase or lowercase','u')"
   ]
  },
  {
   "cell_type": "code",
   "execution_count": 3,
   "id": "af3e93f9-9162-4a69-be12-8741ce93342e",
   "metadata": {},
   "outputs": [
    {
     "data": {
      "text/plain": [
       "'write a code to convert a given string to uppercase or lowercase'"
      ]
     },
     "execution_count": 3,
     "metadata": {},
     "output_type": "execute_result"
    }
   ],
   "source": [
    "caseConverter('Write a code to convert a given string to uppercase or lowercase','l')"
   ]
  },
  {
   "cell_type": "code",
   "execution_count": 4,
   "id": "e324416a-4a06-40a2-a917-e3bde502ad35",
   "metadata": {},
   "outputs": [
    {
     "data": {
      "text/plain": [
       "'Write A Code To Convert A Given String To Uppercase Or Lowercase'"
      ]
     },
     "execution_count": 4,
     "metadata": {},
     "output_type": "execute_result"
    }
   ],
   "source": [
    "caseConverter('Write a code to convert a given string to uppercase or lowercase','t')"
   ]
  },
  {
   "cell_type": "markdown",
   "id": "17c62281-fb6b-4916-9519-f59e4960ceff",
   "metadata": {},
   "source": [
    "## 9.Write a code to count the number of words in a string"
   ]
  },
  {
   "cell_type": "code",
   "execution_count": 5,
   "id": "43f8ee6b-427f-4f59-ac93-7145fdaa4bf5",
   "metadata": {},
   "outputs": [],
   "source": [
    "def wordCounter(strx):\n",
    "    strx_l = strx.split(' ')\n",
    "    print(strx_l)\n",
    "    return len(strx_l)"
   ]
  },
  {
   "cell_type": "code",
   "execution_count": 6,
   "id": "94d147c2-1f75-46c0-8292-ab6646c82234",
   "metadata": {},
   "outputs": [
    {
     "name": "stdout",
     "output_type": "stream",
     "text": [
      "['Write', 'a', 'code', 'to', 'count', 'the', 'number', 'of', 'words', 'in', 'a', 'string']\n"
     ]
    },
    {
     "data": {
      "text/plain": [
       "12"
      ]
     },
     "execution_count": 6,
     "metadata": {},
     "output_type": "execute_result"
    }
   ],
   "source": [
    "wordCounter('Write a code to count the number of words in a string')"
   ]
  },
  {
   "cell_type": "markdown",
   "id": "b8c31452-770b-4085-bf6c-3ea12bd3943c",
   "metadata": {},
   "source": [
    "## 10. Write a code to concatenate two strings without using the + operator\n"
   ]
  },
  {
   "cell_type": "code",
   "execution_count": 7,
   "id": "3da20f58-6a1b-46f6-8e19-428c663ef8fd",
   "metadata": {},
   "outputs": [],
   "source": [
    "def stringConcatenate(str1, str2):\n",
    "    '''concatenates two strings and return a new string using + operator'''\n",
    "    return str1 + str2"
   ]
  },
  {
   "cell_type": "code",
   "execution_count": 8,
   "id": "08d5665f-ca6a-47be-8183-1d507ca9268a",
   "metadata": {},
   "outputs": [
    {
     "data": {
      "text/plain": [
       "'NamrtaTanwar'"
      ]
     },
     "execution_count": 8,
     "metadata": {},
     "output_type": "execute_result"
    }
   ],
   "source": [
    "stringConcatenate(\"Namrta\", \"Tanwar\")"
   ]
  },
  {
   "cell_type": "markdown",
   "id": "14f5cec2-e235-4d96-b68f-09c665388578",
   "metadata": {},
   "source": [
    "## 11. Write a code to remove all occurrences of a specific element from a list"
   ]
  },
  {
   "cell_type": "code",
   "execution_count": 12,
   "id": "865b53e8-c643-417f-bdfc-e758161abd14",
   "metadata": {},
   "outputs": [],
   "source": [
    "def remove_all(listx,elem):\n",
    "    '''removes all the occurence of a specific element from the list'''\n",
    "    while elem in listx:\n",
    "        listx.remove(elem)\n",
    "    return listx"
   ]
  },
  {
   "cell_type": "code",
   "execution_count": 16,
   "id": "13c05e61-3cc9-4cdf-9bf4-4e7eb16c9c7d",
   "metadata": {},
   "outputs": [],
   "source": [
    "data = 'banana strawberry muffin banana is like a eatry banana which need to be banana finsihed fished with aaaa banana shee blakc'.split(' ')"
   ]
  },
  {
   "cell_type": "code",
   "execution_count": 17,
   "id": "7474aa82-e881-4cf2-ad88-0096b36762c8",
   "metadata": {},
   "outputs": [
    {
     "data": {
      "text/plain": [
       "['banana',\n",
       " 'strawberry',\n",
       " 'muffin',\n",
       " 'banana',\n",
       " 'is',\n",
       " 'like',\n",
       " 'a',\n",
       " 'eatry',\n",
       " 'banana',\n",
       " 'which',\n",
       " 'need',\n",
       " 'to',\n",
       " 'be',\n",
       " 'banana',\n",
       " 'finsihed',\n",
       " 'fished',\n",
       " 'with',\n",
       " 'aaaa',\n",
       " 'banana',\n",
       " 'shee',\n",
       " 'blakc']"
      ]
     },
     "execution_count": 17,
     "metadata": {},
     "output_type": "execute_result"
    }
   ],
   "source": [
    "data"
   ]
  },
  {
   "cell_type": "code",
   "execution_count": 18,
   "id": "f3b0654c-e2d5-4f43-96a4-dc3cae60214b",
   "metadata": {},
   "outputs": [
    {
     "data": {
      "text/plain": [
       "['strawberry',\n",
       " 'muffin',\n",
       " 'is',\n",
       " 'like',\n",
       " 'a',\n",
       " 'eatry',\n",
       " 'which',\n",
       " 'need',\n",
       " 'to',\n",
       " 'be',\n",
       " 'finsihed',\n",
       " 'fished',\n",
       " 'with',\n",
       " 'aaaa',\n",
       " 'shee',\n",
       " 'blakc']"
      ]
     },
     "execution_count": 18,
     "metadata": {},
     "output_type": "execute_result"
    }
   ],
   "source": [
    "remove_all(data,'banana')"
   ]
  },
  {
   "cell_type": "code",
   "execution_count": 44,
   "id": "03485c7a-9f9f-41ac-8f39-2ef08dabb25f",
   "metadata": {},
   "outputs": [
    {
     "data": {
      "text/plain": [
       "['strawberry',\n",
       " 'muffin',\n",
       " 'is',\n",
       " 'like',\n",
       " 'a',\n",
       " 'eatry',\n",
       " 'which',\n",
       " 'need',\n",
       " 'to',\n",
       " 'be',\n",
       " 'finsihed',\n",
       " 'fished',\n",
       " 'with',\n",
       " 'aaaa',\n",
       " 'shee',\n",
       " 'blakc']"
      ]
     },
     "execution_count": 44,
     "metadata": {},
     "output_type": "execute_result"
    }
   ],
   "source": [
    "data # the original data gets changed"
   ]
  },
  {
   "cell_type": "markdown",
   "id": "146444c4-87e0-453c-a3bb-2dfa34c42775",
   "metadata": {},
   "source": [
    "## 12. Implement a code to find the second largest number in a given list of integers"
   ]
  },
  {
   "cell_type": "code",
   "execution_count": 20,
   "id": "e371ea0c-b094-4c5c-ac4e-e91be7decb87",
   "metadata": {},
   "outputs": [],
   "source": [
    "def second_largest(listx):\n",
    "    ''' returns the second largest integer from a list'''\n",
    "    s_listx = sorted(listx)\n",
    "    return s_listx[-2]\n",
    "    "
   ]
  },
  {
   "cell_type": "code",
   "execution_count": 19,
   "id": "ab555ad7-45f2-47df-9802-be9ff3c236f2",
   "metadata": {},
   "outputs": [
    {
     "data": {
      "text/plain": [
       "[1, 2, 3, 9, 12, 23, 33, 423]"
      ]
     },
     "execution_count": 19,
     "metadata": {},
     "output_type": "execute_result"
    }
   ],
   "source": [
    "sorted([12,1,23,33,2,3,423,9])"
   ]
  },
  {
   "cell_type": "code",
   "execution_count": 21,
   "id": "d77f7ec2-238b-4a1c-99d8-c40d60589e12",
   "metadata": {},
   "outputs": [
    {
     "data": {
      "text/plain": [
       "33"
      ]
     },
     "execution_count": 21,
     "metadata": {},
     "output_type": "execute_result"
    }
   ],
   "source": [
    "second_largest([12,1,23,33,2,3,423,9])"
   ]
  },
  {
   "cell_type": "markdown",
   "id": "54f4d9e2-aef1-4c60-944e-ae2f919f2b0b",
   "metadata": {},
   "source": [
    "## 13. Create a code to count the occurrences of each element in a list and return a dictionary with elements as keys and their counts as values`"
   ]
  },
  {
   "cell_type": "code",
   "execution_count": 29,
   "id": "d2169e80-5ac0-409d-934b-f8d761b7ac88",
   "metadata": {},
   "outputs": [],
   "source": [
    "def count_elem (listx):\n",
    "    d = {}\n",
    "    for i in listx:\n",
    "        # setdefault(key, defaultvalue) \n",
    "        # if the key exist that the original value is returned\n",
    "        # if the key does not exits than the default value is set to the new key so created\n",
    "        d.setdefault(i, 0)\n",
    "        if i in d:\n",
    "            d[i] +=1\n",
    "    return d"
   ]
  },
  {
   "cell_type": "code",
   "execution_count": 30,
   "id": "069433ee-0c76-459c-a571-eda07fd186ed",
   "metadata": {},
   "outputs": [
    {
     "data": {
      "text/plain": [
       "{'namrta': 2, 'nandini': 2, 'anjali': 2, 'shubham': 1, 'rashi': 1, 'vikran': 1}"
      ]
     },
     "execution_count": 30,
     "metadata": {},
     "output_type": "execute_result"
    }
   ],
   "source": [
    "count_elem([\"namrta\" ,'nandini', 'anjali', 'shubham','rashi','nandini','anjali','vikran','namrta'])"
   ]
  },
  {
   "cell_type": "markdown",
   "id": "9592a675-6500-4b15-960e-27bc1489cf02",
   "metadata": {},
   "source": [
    "## 14. Write a code to reverse a list in-place without using any built-in reverse functions"
   ]
  },
  {
   "cell_type": "code",
   "execution_count": 66,
   "id": "5e85f78a-1a04-478a-9502-7dfae044158e",
   "metadata": {},
   "outputs": [],
   "source": [
    "def reverse(listx):\n",
    "    rev_list = []\n",
    "    for i in range (len(listx)-1,-1,-1):\n",
    "        rev_list.append(listx[i])\n",
    "    return rev_list  \n",
    "        "
   ]
  },
  {
   "cell_type": "code",
   "execution_count": 67,
   "id": "32d75837-670e-40d0-8ea6-3ac4e6592e7f",
   "metadata": {},
   "outputs": [
    {
     "name": "stdout",
     "output_type": "stream",
     "text": [
      "9\n",
      "8\n",
      "7\n",
      "6\n",
      "5\n",
      "4\n",
      "3\n",
      "2\n",
      "1\n",
      "0\n"
     ]
    }
   ],
   "source": [
    "for i in range (10 -1 ,-1 ,-1):\n",
    "    print(i)"
   ]
  },
  {
   "cell_type": "code",
   "execution_count": 68,
   "id": "a47cda8d-477f-411f-99f6-6bfd40d636b2",
   "metadata": {},
   "outputs": [
    {
     "data": {
      "text/plain": [
       "['shiwali', 'rishabh', 'anutu', 'vikas', 'namrta']"
      ]
     },
     "execution_count": 68,
     "metadata": {},
     "output_type": "execute_result"
    }
   ],
   "source": [
    "names = [\"namrta\", 'vikas', 'anutu', 'rishabh', 'shiwali']\n",
    "reverse(names)"
   ]
  },
  {
   "cell_type": "code",
   "execution_count": 69,
   "id": "0d3cd65a-4c06-4775-9b12-576492782b81",
   "metadata": {},
   "outputs": [],
   "source": [
    "# using list comprehensions\n",
    "y = [names[x] for x in range(len(names)-1,-1,-1)]"
   ]
  },
  {
   "cell_type": "code",
   "execution_count": 72,
   "id": "797f458a-6b01-4507-a780-c92a501fd000",
   "metadata": {},
   "outputs": [
    {
     "data": {
      "text/plain": [
       "['shiwali', 'rishabh', 'anutu', 'vikas', 'namrta']"
      ]
     },
     "execution_count": 72,
     "metadata": {},
     "output_type": "execute_result"
    }
   ],
   "source": [
    "y # reversed one liner"
   ]
  },
  {
   "cell_type": "code",
   "execution_count": 71,
   "id": "76c8bc1c-66c5-4d21-b027-19d58f5b55dd",
   "metadata": {},
   "outputs": [
    {
     "data": {
      "text/plain": [
       "['namrta', 'vikas', 'anutu', 'rishabh', 'shiwali']"
      ]
     },
     "execution_count": 71,
     "metadata": {},
     "output_type": "execute_result"
    }
   ],
   "source": [
    "names # original is intact"
   ]
  },
  {
   "cell_type": "markdown",
   "id": "86201dc1-a918-4858-8f12-773040524bc2",
   "metadata": {},
   "source": [
    "## 15. Implement a code to find and remove duplicates from a list while preserving the original order of elements"
   ]
  },
  {
   "cell_type": "code",
   "execution_count": 43,
   "id": "57a83fcc-f41b-45e2-8fd5-a93531e6c3a0",
   "metadata": {},
   "outputs": [
    {
     "data": {
      "text/plain": [
       "3"
      ]
     },
     "execution_count": 43,
     "metadata": {},
     "output_type": "execute_result"
    }
   ],
   "source": [
    "# index(elem, start, stop)\n",
    "['namrta','ajay','vijay','namrta'].index('namrta',1)"
   ]
  },
  {
   "cell_type": "code",
   "execution_count": 42,
   "id": "008511fb-a25d-42d6-bb79-22b1e9a8b765",
   "metadata": {},
   "outputs": [],
   "source": [
    "def remove_dupli(listx,elem):\n",
    "    #could be done in the argument passing time but for saftey purpose\n",
    "    l  = listx[:]\n",
    "    while elem in l:\n",
    "        # print(elem, elem in l)\n",
    "        l.remove(elem)\n",
    "    return l\n",
    "    "
   ]
  },
  {
   "cell_type": "code",
   "execution_count": 54,
   "id": "f123ffd2-a486-4819-9c55-9de04c259ab0",
   "metadata": {},
   "outputs": [],
   "source": [
    "data = ['n',\n",
    " 'a',\n",
    " 'm',\n",
    " 'r',\n",
    " 't',\n",
    " 'a',\n",
    " 't',\n",
    " 'a',\n",
    " 'n',\n",
    " 'w',\n",
    " 'a',\n",
    " 'r',\n",
    " 'l',]\n",
    "\n"
   ]
  },
  {
   "cell_type": "code",
   "execution_count": 55,
   "id": "547cbdb3-4130-4a15-8c3a-aeea7ce22a88",
   "metadata": {},
   "outputs": [
    {
     "data": {
      "text/plain": [
       "['n', 'a', 'm', 'r', 't', 'a', 't', 'a', 'n', 'w', 'a', 'r', 'l']"
      ]
     },
     "execution_count": 55,
     "metadata": {},
     "output_type": "execute_result"
    }
   ],
   "source": [
    "data"
   ]
  },
  {
   "cell_type": "code",
   "execution_count": 56,
   "id": "ac3d7fe8-810e-4fb7-9970-485642ace109",
   "metadata": {},
   "outputs": [
    {
     "data": {
      "text/plain": [
       "['n', 'm', 'r', 't', 't', 'n', 'w', 'r', 'l']"
      ]
     },
     "execution_count": 56,
     "metadata": {},
     "output_type": "execute_result"
    }
   ],
   "source": [
    "remove_dupli(data, 'a')"
   ]
  },
  {
   "cell_type": "markdown",
   "id": "a6e40e7a-318e-436d-9376-0365749136c9",
   "metadata": {},
   "source": [
    "## 16. Create a code to check if a given list is sorted (either in ascending or descending order) or not"
   ]
  },
  {
   "cell_type": "code",
   "execution_count": null,
   "id": "0c94a3f1-913f-437e-a5fd-e09b41b6f854",
   "metadata": {},
   "outputs": [],
   "source": [
    "sorted([1,3,21,3,44,22]) # defualt sort in ascending \n",
    "# if True is used as reverse = True that means list will be descending ie reversed"
   ]
  },
  {
   "cell_type": "code",
   "execution_count": 90,
   "id": "e7a55769-4b27-4c77-91d5-0ed8ad88bfbe",
   "metadata": {},
   "outputs": [],
   "source": [
    "def check_sorted(listx):\n",
    "    '''if sorted return True and the order of sort'''\n",
    "    first,last = listx[0],listx[-1]\n",
    "    key = True if first > last else False\n",
    "    sort = \"Descending\" if key == True else \"Ascending\"\n",
    "    # sorted(list, fun, reverse=Bool) \n",
    "    # False for ascending and True for descending\n",
    "    sorted_listx = sorted(listx,reverse=key)\n",
    "    print(sorted_listx, listx)\n",
    "    if listx == sorted_listx:\n",
    "        return True, sort\n",
    "    else:\n",
    "        return False\n",
    "    "
   ]
  },
  {
   "cell_type": "code",
   "execution_count": 91,
   "id": "cb11403a-26fe-4edc-a2b8-bc129a7a862d",
   "metadata": {},
   "outputs": [
    {
     "name": "stdout",
     "output_type": "stream",
     "text": [
      "[223, 122, 53, 34, 1] [122, 34, 53, 223, 1]\n"
     ]
    },
    {
     "data": {
      "text/plain": [
       "False"
      ]
     },
     "execution_count": 91,
     "metadata": {},
     "output_type": "execute_result"
    }
   ],
   "source": [
    "check_sorted([122,34,53,223,1])"
   ]
  },
  {
   "cell_type": "code",
   "execution_count": 92,
   "id": "2cb83635-ab8f-45c6-90df-ec2ea2ac9cfd",
   "metadata": {},
   "outputs": [
    {
     "name": "stdout",
     "output_type": "stream",
     "text": [
      "[6, 5, 4, 3, 2, 1] [6, 5, 4, 3, 2, 1]\n"
     ]
    },
    {
     "data": {
      "text/plain": [
       "(True, 'Descending')"
      ]
     },
     "execution_count": 92,
     "metadata": {},
     "output_type": "execute_result"
    }
   ],
   "source": [
    "check_sorted([6,5,4,3,2,1])"
   ]
  },
  {
   "cell_type": "code",
   "execution_count": 94,
   "id": "0be10817-c32a-4e24-8281-a3c7aeda907d",
   "metadata": {},
   "outputs": [
    {
     "name": "stdout",
     "output_type": "stream",
     "text": [
      "[1, 2, 3, 4, 5, 6] [1, 2, 3, 4, 5, 6]\n"
     ]
    },
    {
     "data": {
      "text/plain": [
       "(True, 'Ascending')"
      ]
     },
     "execution_count": 94,
     "metadata": {},
     "output_type": "execute_result"
    }
   ],
   "source": [
    "check_sorted(sorted([6,5,4,3,2,1],reverse=False))"
   ]
  },
  {
   "cell_type": "code",
   "execution_count": 87,
   "id": "06cee54d-327a-464c-b844-a68367accfab",
   "metadata": {},
   "outputs": [],
   "source": [
    "[1,2,3,4,5,6,7].reverse() # doesn't return a new list it modifies the old one"
   ]
  },
  {
   "cell_type": "markdown",
   "id": "a557ebcd-1c94-46f9-96a1-d4dba376c3db",
   "metadata": {},
   "source": [
    "## 17. Write a code to merge two sorted lists into a single sorted list"
   ]
  },
  {
   "cell_type": "code",
   "execution_count": 95,
   "id": "fdcc9180-2400-4cf9-8a3d-851a98660f89",
   "metadata": {},
   "outputs": [],
   "source": [
    "def merger_sort(s1, s2):\n",
    "    return sorted(s1+s2)"
   ]
  },
  {
   "cell_type": "code",
   "execution_count": 96,
   "id": "c4127fa1-dc72-4d00-bdeb-6c4142e9c40b",
   "metadata": {},
   "outputs": [
    {
     "data": {
      "text/plain": [
       "[1, 2, 3, 9, 10, 11, 12, 45]"
      ]
     },
     "execution_count": 96,
     "metadata": {},
     "output_type": "execute_result"
    }
   ],
   "source": [
    "merger_sort([1,2,3,45], [9,10,11,12])"
   ]
  },
  {
   "cell_type": "markdown",
   "id": "ca5e96a1-319e-4716-8b41-45bbe758e7e0",
   "metadata": {},
   "source": [
    "## 18. Implement a code to find the intersection of two given lists"
   ]
  },
  {
   "cell_type": "code",
   "execution_count": 101,
   "id": "535a3b91-e210-48ca-bffe-3e43038e15a8",
   "metadata": {},
   "outputs": [],
   "source": [
    "# using the set\n",
    "# & is intersection\n",
    "# | union\n",
    "# - difference"
   ]
  },
  {
   "cell_type": "code",
   "execution_count": 102,
   "id": "5f6b28ab-b6f9-424d-a5ab-a5cab24bf9d9",
   "metadata": {},
   "outputs": [
    {
     "data": {
      "text/plain": [
       "{1, 2, 3, 4, 5, 9, 11}"
      ]
     },
     "execution_count": 102,
     "metadata": {},
     "output_type": "execute_result"
    }
   ],
   "source": [
    "set([1,2,3,4,5]) | set([ 3,4,9,11])"
   ]
  },
  {
   "cell_type": "code",
   "execution_count": 1,
   "id": "bde65638-3dc4-4b51-9cb6-c019361648ec",
   "metadata": {},
   "outputs": [],
   "source": [
    "def find_intersection(l1,l2):\n",
    "    '''find intersection that is the common elements'''\n",
    "    # set is the datastructure that lets us do that \n",
    "    # it provides  a intersection method that does that\n",
    "    return set(l1).intersection(set(l2))\n"
   ]
  },
  {
   "cell_type": "code",
   "execution_count": 2,
   "id": "7199b391-43f6-4ec0-b76a-c0bd8cbe9795",
   "metadata": {},
   "outputs": [
    {
     "data": {
      "text/plain": [
       "{2, 3, 9, 12}"
      ]
     },
     "execution_count": 2,
     "metadata": {},
     "output_type": "execute_result"
    }
   ],
   "source": [
    "find_intersection({9,12,3,4,5,2,21,},{12,45,3,2,1,56,9})"
   ]
  },
  {
   "cell_type": "code",
   "execution_count": 9,
   "id": "033fa54f-e1cf-44e0-8497-ead479964793",
   "metadata": {},
   "outputs": [],
   "source": [
    "def fi(l1,l2):\n",
    "    common = []\n",
    "    for x in l2:\n",
    "        for y in l1:\n",
    "             if x == y :\n",
    "                 if x not in common:\n",
    "                    common.append(x)\n",
    "    return common"
   ]
  },
  {
   "cell_type": "code",
   "execution_count": 10,
   "id": "d81f48d5-31d0-4e3e-9f41-4c33a6f1509f",
   "metadata": {},
   "outputs": [
    {
     "data": {
      "text/plain": [
       "[2, 5]"
      ]
     },
     "execution_count": 10,
     "metadata": {},
     "output_type": "execute_result"
    }
   ],
   "source": [
    "fi([1,2,3,2,1,2,5],[2,4,5,7,7,44,5,6])"
   ]
  },
  {
   "cell_type": "markdown",
   "id": "b35f6aae-8629-4375-b53f-91792ad90d1a",
   "metadata": {},
   "source": [
    "## 19. Create a code to find the union of two lists without duplicates"
   ]
  },
  {
   "cell_type": "code",
   "execution_count": 12,
   "id": "507d00aa-cb0d-46fc-a1ff-84e924dd909f",
   "metadata": {},
   "outputs": [],
   "source": [
    "# again makeing use of the sets\n",
    "def lisuni(l1,l2):\n",
    "    '''returns all the elments of the l1 and l2'''\n",
    "    # also the benifit of sets is that they dont record duplicates\n",
    "    # duplicates get auto removed\n",
    "    return list(set(l1).union(set(l2)))"
   ]
  },
  {
   "cell_type": "code",
   "execution_count": 13,
   "id": "d0655a37-3a5f-45b6-94ad-639da9ed9924",
   "metadata": {},
   "outputs": [
    {
     "data": {
      "text/plain": [
       "[1, 2, 3, 42, 11, 45, 23]"
      ]
     },
     "execution_count": 13,
     "metadata": {},
     "output_type": "execute_result"
    }
   ],
   "source": [
    "lisuni([1,11,23,42,3],[2,3,1,2,45])"
   ]
  },
  {
   "cell_type": "markdown",
   "id": "215ea1cd-6023-46ee-8d42-02e4296aebc0",
   "metadata": {},
   "source": [
    "## 20. Write a code to shuffle a given list randomly without using any built-in shuffle functions"
   ]
  },
  {
   "cell_type": "code",
   "execution_count": null,
   "id": "4daae74f-1100-4e6e-bbf0-a71797c53d48",
   "metadata": {},
   "outputs": [],
   "source": [
    "# guess the input list doesn't need to be same\n",
    "def shuffle (l):\n",
    "    "
   ]
  },
  {
   "cell_type": "code",
   "execution_count": 14,
   "id": "41264c4e-19da-47cd-9dee-e1a52dd316c6",
   "metadata": {},
   "outputs": [
    {
     "ename": "NameError",
     "evalue": "name 'Math' is not defined",
     "output_type": "error",
     "traceback": [
      "\u001b[0;31m---------------------------------------------------------------------------\u001b[0m",
      "\u001b[0;31mNameError\u001b[0m                                 Traceback (most recent call last)",
      "Cell \u001b[0;32mIn [14], line 1\u001b[0m\n\u001b[0;32m----> 1\u001b[0m \u001b[43mMath\u001b[49m\u001b[38;5;241m.\u001b[39mrandom(\u001b[38;5;241m1\u001b[39m)\n",
      "\u001b[0;31mNameError\u001b[0m: name 'Math' is not defined"
     ]
    }
   ],
   "source": [
    "Math.random(1)"
   ]
  },
  {
   "cell_type": "code",
   "execution_count": 210,
   "id": "e7c77b95-81c1-4b71-b9e2-1716e5c167c7",
   "metadata": {},
   "outputs": [
    {
     "data": {
      "text/plain": [
       "9"
      ]
     },
     "execution_count": 210,
     "metadata": {},
     "output_type": "execute_result"
    }
   ],
   "source": [
    "import random\n",
    "random.randint(1,9)"
   ]
  },
  {
   "cell_type": "code",
   "execution_count": 211,
   "id": "3383705d-ae4e-4598-a62a-9e182cb86f11",
   "metadata": {},
   "outputs": [],
   "source": [
    "import random\n",
    "\n",
    "def shuffle_list(lst):\n",
    "    n = len(lst)\n",
    "    for i in range(n - 1, 0, -1): \n",
    "        j = random.randint(0, i)  \n",
    "        lst[i], lst[j] = lst[j], lst[i] \n"
   ]
  },
  {
   "cell_type": "code",
   "execution_count": 213,
   "id": "49db5025-1adb-4c8c-82a0-881ea161e581",
   "metadata": {},
   "outputs": [],
   "source": [
    "\n",
    "my_list = [1, 2, 3, 4, 5]\n",
    "\n"
   ]
  },
  {
   "cell_type": "code",
   "execution_count": 214,
   "id": "170ea2b9-1a11-434d-a2d3-ccdd9118d94b",
   "metadata": {},
   "outputs": [],
   "source": [
    "shuffle_list(my_list)\n"
   ]
  },
  {
   "cell_type": "code",
   "execution_count": 215,
   "id": "d1a1bc0d-b146-4c13-be43-2209311ccd6d",
   "metadata": {},
   "outputs": [
    {
     "name": "stdout",
     "output_type": "stream",
     "text": [
      "[4, 2, 1, 5, 3]\n"
     ]
    }
   ],
   "source": [
    "\n",
    "print(my_list)"
   ]
  },
  {
   "cell_type": "code",
   "execution_count": null,
   "id": "8ed6d069-1d4a-4ed6-ba18-288d0e349a6a",
   "metadata": {},
   "outputs": [],
   "source": []
  },
  {
   "cell_type": "markdown",
   "id": "c927cae7-ac16-476b-8b10-5118b24300b4",
   "metadata": {},
   "source": [
    "## 21.Write a code that takes two tuples as input and returns a new tuple containing elements that are common to both input tuples"
   ]
  },
  {
   "cell_type": "code",
   "execution_count": 38,
   "id": "5a89ff1b-394f-48d3-a796-0ea36f614443",
   "metadata": {},
   "outputs": [],
   "source": [
    "def common_tups(t1, t2):\n",
    "\n",
    "    return tuple(set(t1) & set(t2)) # "
   ]
  },
  {
   "cell_type": "code",
   "execution_count": 39,
   "id": "5439fd27-22fa-4912-9d74-ba81a7f6b3a6",
   "metadata": {},
   "outputs": [
    {
     "data": {
      "text/plain": [
       "(12, 2, 3, 1, 2, 3)"
      ]
     },
     "execution_count": 39,
     "metadata": {},
     "output_type": "execute_result"
    }
   ],
   "source": [
    "(*(12,2,3),*(1,2,3)) # ohhh"
   ]
  },
  {
   "cell_type": "code",
   "execution_count": 40,
   "id": "6a2a0663-aa10-4bd0-91bd-cabb73406111",
   "metadata": {},
   "outputs": [
    {
     "data": {
      "text/plain": [
       "(12, 2, 3, 1, 2, 3)"
      ]
     },
     "execution_count": 40,
     "metadata": {},
     "output_type": "execute_result"
    }
   ],
   "source": [
    "((12,2,3) +(1,2,3)) # more ohhh"
   ]
  },
  {
   "cell_type": "code",
   "execution_count": 41,
   "id": "6524a364-aad7-4916-9048-1bc0c05bf0a5",
   "metadata": {},
   "outputs": [
    {
     "data": {
      "text/plain": [
       "{4}"
      ]
     },
     "execution_count": 41,
     "metadata": {},
     "output_type": "execute_result"
    }
   ],
   "source": [
    "({1,23,4}  & {12,3,4})"
   ]
  },
  {
   "cell_type": "code",
   "execution_count": 42,
   "id": "cb0332b2-2466-4664-b7ce-c3ea0f96a77c",
   "metadata": {},
   "outputs": [
    {
     "data": {
      "text/plain": [
       "(1, 2, 3, 5)"
      ]
     },
     "execution_count": 42,
     "metadata": {},
     "output_type": "execute_result"
    }
   ],
   "source": [
    "common_tups((1,3,4,2,5),(5,6,7,8,3,2,1))"
   ]
  },
  {
   "cell_type": "markdown",
   "id": "baf87ed5-3d8e-4a9a-8d76-a4b56b80dd08",
   "metadata": {},
   "source": [
    "## 22. Create a code that prompts the user to enter two sets of integers separated by commas. Then, print the intersection of these two sets"
   ]
  },
  {
   "cell_type": "code",
   "execution_count": 62,
   "id": "5400b74b-25bc-4727-88b4-0d38dcd78fa3",
   "metadata": {},
   "outputs": [],
   "source": [
    "def prompt_intersect (rng:int):\n",
    "    print(\"Enter in this format : {1,3,44,32,4} Two sets of 5 element each\")\n",
    "    x , y = set() , set() # see this behaviour where {} means dictionary \n",
    "    for i in range(rng):\n",
    "        s1  = int(input(f\"Enter for  a set of integer setA{i}:\"))\n",
    "        s2 = int(input(f\"Enter for another set of integer setB{i}:\"))\n",
    "        x.add(s1)\n",
    "        y.add(s2)\n",
    "    print(x, y)\n",
    "    return x & y"
   ]
  },
  {
   "cell_type": "code",
   "execution_count": 63,
   "id": "35466d01-c2e3-4e9b-bacc-3e6fa0493093",
   "metadata": {},
   "outputs": [
    {
     "name": "stdout",
     "output_type": "stream",
     "text": [
      "Enter in this format : {1,3,44,32,4} Two sets of 5 element each\n"
     ]
    },
    {
     "name": "stdin",
     "output_type": "stream",
     "text": [
      "Enter for  a set of integer setA0: 12\n",
      "Enter for another set of integer setB0: 44\n",
      "Enter for  a set of integer setA1: 33\n",
      "Enter for another set of integer setB1: 12\n",
      "Enter for  a set of integer setA2: 1\n",
      "Enter for another set of integer setB2: 4\n",
      "Enter for  a set of integer setA3: 1\n",
      "Enter for another set of integer setB3: 3\n",
      "Enter for  a set of integer setA4: 3\n",
      "Enter for another set of integer setB4: 5\n"
     ]
    },
    {
     "name": "stdout",
     "output_type": "stream",
     "text": [
      "{33, 3, 12, 1} {3, 4, 5, 44, 12}\n"
     ]
    },
    {
     "data": {
      "text/plain": [
       "{3, 12}"
      ]
     },
     "execution_count": 63,
     "metadata": {},
     "output_type": "execute_result"
    }
   ],
   "source": [
    "prompt_intersect(5)"
   ]
  },
  {
   "cell_type": "code",
   "execution_count": 48,
   "id": "a69b21d6-cad5-42f7-9ddd-9f0fe623a4fa",
   "metadata": {},
   "outputs": [
    {
     "data": {
      "text/plain": [
       "{',', '1', '2', '3', '4', '5', '{', '}'}"
      ]
     },
     "execution_count": 48,
     "metadata": {},
     "output_type": "execute_result"
    }
   ],
   "source": [
    "set(\"{34,53,23,1,3,2,4}\")"
   ]
  },
  {
   "cell_type": "code",
   "execution_count": 50,
   "id": "cc755795-2da5-42e5-9d57-b928f0fac728",
   "metadata": {},
   "outputs": [
    {
     "data": {
      "text/plain": [
       "['{',\n",
       " '3',\n",
       " '4',\n",
       " ',',\n",
       " '5',\n",
       " '3',\n",
       " ',',\n",
       " '2',\n",
       " '3',\n",
       " ',',\n",
       " '1',\n",
       " ',',\n",
       " '3',\n",
       " ',',\n",
       " '2',\n",
       " ',',\n",
       " '4',\n",
       " '}']"
      ]
     },
     "execution_count": 50,
     "metadata": {},
     "output_type": "execute_result"
    }
   ],
   "source": []
  },
  {
   "cell_type": "markdown",
   "id": "18b68377-45e9-4d3f-bbfc-26d402b87bc3",
   "metadata": {},
   "source": [
    "## 23. Write a code to concatenate two tuples. The function should take two tuples as input and return a new tuple containing elements from both input tuples."
   ]
  },
  {
   "cell_type": "code",
   "execution_count": 64,
   "id": "0d820ead-221d-4435-97b2-2d0a62c32db7",
   "metadata": {},
   "outputs": [],
   "source": [
    "def conca_tu(t1,t2):\n",
    "    return t1+t2"
   ]
  },
  {
   "cell_type": "code",
   "execution_count": 65,
   "id": "25c1301f-b9f9-4dd1-b855-d30f02075d00",
   "metadata": {},
   "outputs": [
    {
     "data": {
      "text/plain": [
       "('age', 'mage', 1, 3)"
      ]
     },
     "execution_count": 65,
     "metadata": {},
     "output_type": "execute_result"
    }
   ],
   "source": [
    "conca_tu((\"age\",\"mage\"),(1,3))"
   ]
  },
  {
   "cell_type": "markdown",
   "id": "34700abb-eda2-4177-915f-a314b3be2ddf",
   "metadata": {},
   "source": [
    "## 24. Develop a code that prompts the user to input two sets of strings. Then, print the elements that are present in the first set but not in the second set"
   ]
  },
  {
   "cell_type": "code",
   "execution_count": 96,
   "id": "aef091d6-40d4-4661-ad37-b2b5259536d2",
   "metadata": {},
   "outputs": [],
   "source": [
    "def in_one_only():\n",
    "    print(\"Provide the data in form {1,2,3,4,5} \")\n",
    "    x = input(\"Data for setA : \")\n",
    "    y = input(\"Data for setB : \")\n",
    "    x = set(x.strip(\"{}\").split(\",\")) # convert it to a   {'1','2','3','4','5'}\n",
    "    y = set(y.strip(\"{}\").split(\",\"))\n",
    "    return x - y"
   ]
  },
  {
   "cell_type": "code",
   "execution_count": 97,
   "id": "32654190-8977-487d-a525-bf43bfdffe87",
   "metadata": {},
   "outputs": [
    {
     "name": "stdout",
     "output_type": "stream",
     "text": [
      "Provide the data in form {1,2,3,4,5} \n"
     ]
    },
    {
     "name": "stdin",
     "output_type": "stream",
     "text": [
      "Data for setA :  {1,44,223,4,2}\n",
      "Data for setB :  {99,44,223,0}\n"
     ]
    },
    {
     "data": {
      "text/plain": [
       "{'1', '2', '4'}"
      ]
     },
     "execution_count": 97,
     "metadata": {},
     "output_type": "execute_result"
    }
   ],
   "source": [
    "in_one_only()"
   ]
  },
  {
   "cell_type": "code",
   "execution_count": null,
   "id": "1ea1379f-f12a-4fd1-ac89-3bc1951cdb1c",
   "metadata": {},
   "outputs": [],
   "source": []
  },
  {
   "cell_type": "code",
   "execution_count": 72,
   "id": "6fb5935c-41db-4b07-bed2-b4c14484dc4f",
   "metadata": {},
   "outputs": [
    {
     "data": {
      "text/plain": [
       "{1, 2, 3, 4}"
      ]
     },
     "execution_count": 72,
     "metadata": {},
     "output_type": "execute_result"
    }
   ],
   "source": [
    "set(map(lambda x : int(x) if int(,set(\"{1,2,3,4}\".strip(\"{}\").split(\",\")))) # for the numbers conversion"
   ]
  },
  {
   "cell_type": "code",
   "execution_count": 73,
   "id": "d6636ddb-a0af-4c45-b08d-47017b4b34f1",
   "metadata": {},
   "outputs": [
    {
     "ename": "ValueError",
     "evalue": "invalid literal for int() with base 10: 'a'",
     "output_type": "error",
     "traceback": [
      "\u001b[0;31m---------------------------------------------------------------------------\u001b[0m",
      "\u001b[0;31mValueError\u001b[0m                                Traceback (most recent call last)",
      "Cell \u001b[0;32mIn [73], line 1\u001b[0m\n\u001b[0;32m----> 1\u001b[0m \u001b[38;5;28;43mint\u001b[39;49m\u001b[43m(\u001b[49m\u001b[38;5;124;43m\"\u001b[39;49m\u001b[38;5;124;43ma\u001b[39;49m\u001b[38;5;124;43m\"\u001b[39;49m\u001b[43m)\u001b[49m\n",
      "\u001b[0;31mValueError\u001b[0m: invalid literal for int() with base 10: 'a'"
     ]
    }
   ],
   "source": [
    "int(\"a\")"
   ]
  },
  {
   "cell_type": "markdown",
   "id": "42e94806-f287-4794-99e3-6f119fb27614",
   "metadata": {},
   "source": [
    "## 25.Create a code that takes a tuple and two integers as input. The function should return a new tuple containing elements from the original tuple within the specified range of indices"
   ]
  },
  {
   "cell_type": "code",
   "execution_count": 92,
   "id": "703cc893-773e-481c-ab32-8bec0e6e2087",
   "metadata": {},
   "outputs": [],
   "source": [
    "def tup_in_range(tup, start , end):\n",
    "    if start < 0:\n",
    "        return \"INVALID START ( start not negative) \"\n",
    "    return tup[start:end] # dont know if you meant this"
   ]
  },
  {
   "cell_type": "code",
   "execution_count": 93,
   "id": "2bfb1a0a-fcaf-4abe-abcf-d8e460d12a70",
   "metadata": {},
   "outputs": [],
   "source": [
    "x = (1,2,3,4,5,6,7,7)"
   ]
  },
  {
   "cell_type": "code",
   "execution_count": 94,
   "id": "7fe1bd2a-e7e0-4601-8983-a3fd1df4ba0b",
   "metadata": {},
   "outputs": [
    {
     "data": {
      "text/plain": [
       "'INVALID START ( start not negative) '"
      ]
     },
     "execution_count": 94,
     "metadata": {},
     "output_type": "execute_result"
    }
   ],
   "source": [
    "tup_in_range(x,-1,5)"
   ]
  },
  {
   "cell_type": "code",
   "execution_count": 87,
   "id": "058026f4-b5e4-4d3b-b2be-9329b4ed154f",
   "metadata": {},
   "outputs": [
    {
     "data": {
      "text/plain": [
       "(2, 3, 4, 5, 6, 7, 7)"
      ]
     },
     "execution_count": 87,
     "metadata": {},
     "output_type": "execute_result"
    }
   ],
   "source": [
    "x[1:10] # no error even if the end exceeds the length"
   ]
  },
  {
   "cell_type": "code",
   "execution_count": 95,
   "id": "95836564-f392-454b-bb1c-184217ca249b",
   "metadata": {},
   "outputs": [
    {
     "data": {
      "text/plain": [
       "()"
      ]
     },
     "execution_count": 95,
     "metadata": {},
     "output_type": "execute_result"
    }
   ],
   "source": [
    "\n",
    "x[100:10]"
   ]
  },
  {
   "cell_type": "markdown",
   "id": "6733cf3b-3e26-45f3-88e9-40da3d1522d3",
   "metadata": {},
   "source": [
    "## 26.Write a code that prompts the user to input two sets of characters. Then, print the union of these two sets"
   ]
  },
  {
   "cell_type": "code",
   "execution_count": 98,
   "id": "bf837e6b-d973-43ae-b706-07017d49ff4a",
   "metadata": {},
   "outputs": [],
   "source": [
    "def uni_char_set():\n",
    "    print(\"Provide the data(characters) in form {a,b,d ,e} \")\n",
    "    x = input(\"Data for setA : \")\n",
    "    y = input(\"Data for setB : \")\n",
    "    x = set(x.strip(\"{}\").split(\",\")) # convert it to a   {'1','2','3','4','5'}\n",
    "    y = set(y.strip(\"{}\").split(\",\"))\n",
    "    return x | y"
   ]
  },
  {
   "cell_type": "code",
   "execution_count": 99,
   "id": "e0668e91-d125-492e-9915-aff9b2463b6c",
   "metadata": {},
   "outputs": [
    {
     "name": "stdout",
     "output_type": "stream",
     "text": [
      "Provide the data(characters) in form {a,b,d ,e} \n"
     ]
    },
    {
     "name": "stdin",
     "output_type": "stream",
     "text": [
      "Data for setA :  {a,s,g,G}\n",
      "Data for setB :  {n,c,e,d}\n"
     ]
    },
    {
     "data": {
      "text/plain": [
       "{'G', 'a', 'c', 'd', 'e', 'g', 'n', 's'}"
      ]
     },
     "execution_count": 99,
     "metadata": {},
     "output_type": "execute_result"
    }
   ],
   "source": [
    "uni_char_set()"
   ]
  },
  {
   "cell_type": "markdown",
   "id": "4278e6e3-7495-4221-a342-e8c5798b5d48",
   "metadata": {},
   "source": [
    "## 27 Develop a code that takes a tuple of integers as input. The function should return the maximum and minimum values from the tuple using tuple unpacking"
   ]
  },
  {
   "cell_type": "code",
   "execution_count": 104,
   "id": "e2075756-3d8a-4951-b05a-4ff8825d6a9f",
   "metadata": {},
   "outputs": [],
   "source": [
    "def max_min (t):\n",
    "    mx = max(*t)\n",
    "    mn = min(*t)\n",
    "    return {\"max\" : mx, \"min\": mn}"
   ]
  },
  {
   "cell_type": "code",
   "execution_count": 105,
   "id": "8942d35e-d2d0-4bd5-b826-ffb5d8e5ac70",
   "metadata": {},
   "outputs": [
    {
     "data": {
      "text/plain": [
       "{'max': 45, 'min': 1}"
      ]
     },
     "execution_count": 105,
     "metadata": {},
     "output_type": "execute_result"
    }
   ],
   "source": [
    "max_min((1,22,11,20,3,45))"
   ]
  },
  {
   "cell_type": "code",
   "execution_count": null,
   "id": "eebb1c5a-dded-40a7-b1f8-c26c1236ad4e",
   "metadata": {},
   "outputs": [],
   "source": []
  },
  {
   "cell_type": "code",
   "execution_count": 103,
   "id": "423dbe73-943a-4985-9cb0-fe106883089f",
   "metadata": {},
   "outputs": [
    {
     "data": {
      "text/plain": [
       "12"
      ]
     },
     "execution_count": 103,
     "metadata": {},
     "output_type": "execute_result"
    }
   ],
   "source": [
    "max([12,3,4,]) # works fine too"
   ]
  },
  {
   "cell_type": "code",
   "execution_count": 101,
   "id": "a361bb4d-afe6-4f6f-8c92-441cedd08b28",
   "metadata": {},
   "outputs": [
    {
     "data": {
      "text/plain": [
       "100"
      ]
     },
     "execution_count": 101,
     "metadata": {},
     "output_type": "execute_result"
    }
   ],
   "source": [
    "max((99,1,2,3,100)) # works fine"
   ]
  },
  {
   "cell_type": "code",
   "execution_count": 102,
   "id": "0f3d987f-c415-41a0-a3ee-54cfb3a61155",
   "metadata": {},
   "outputs": [
    {
     "data": {
      "text/plain": [
       "1091"
      ]
     },
     "execution_count": 102,
     "metadata": {},
     "output_type": "execute_result"
    }
   ],
   "source": [
    "max(99,1,2,3,41,100,1091)"
   ]
  },
  {
   "cell_type": "markdown",
   "id": "87339ed9-e343-44d4-9546-ef917f54dcd0",
   "metadata": {},
   "source": [
    "## 28.Create a code that defines two sets of integers. Then, print the union, intersection, and difference of these two sets"
   ]
  },
  {
   "cell_type": "code",
   "execution_count": 106,
   "id": "7662262a-ffc0-4856-bd10-fd06ef08c053",
   "metadata": {},
   "outputs": [],
   "source": [
    "def uni_inter_diff():\n",
    "    print(\"Provide the data in form {a,b,d ,e} \")\n",
    "    x = input(\"Data for setA : \")\n",
    "    y = input(\"Data for setB : \")\n",
    "    x = set(x.strip(\"{}\").split(\",\")) # convert it to a   {'1','2','3','4','5'}\n",
    "    y = set(y.strip(\"{}\").split(\",\"))\n",
    "    return {\"union\":x|y, \"difference\" : x - y , \"intersection\" : x & y}"
   ]
  },
  {
   "cell_type": "code",
   "execution_count": 107,
   "id": "28a14acc-519f-4884-b803-89b7084e6c4f",
   "metadata": {},
   "outputs": [
    {
     "name": "stdout",
     "output_type": "stream",
     "text": [
      "Provide the data in form {a,b,d ,e} \n"
     ]
    },
    {
     "name": "stdin",
     "output_type": "stream",
     "text": [
      "Data for setA :  {1,22,14,53,2}\n",
      "Data for setB :  {14,2,3,4,22}\n"
     ]
    },
    {
     "data": {
      "text/plain": [
       "{'union': {'1', '14', '2', '22', '3', '4', '53'},\n",
       " 'difference': {'1', '53'},\n",
       " 'intersection': {'14', '2', '22'}}"
      ]
     },
     "execution_count": 107,
     "metadata": {},
     "output_type": "execute_result"
    }
   ],
   "source": [
    "uni_inter_diff()"
   ]
  },
  {
   "cell_type": "markdown",
   "id": "489804fb-eb9b-404b-a780-892bfc1bb5b1",
   "metadata": {},
   "source": [
    "## 29. Write a code that takes a tuple and an element as input. The function should return the count of occurrences of the given element in the tuple"
   ]
  },
  {
   "cell_type": "code",
   "execution_count": 109,
   "id": "4563d770-2212-4f49-b6b2-4abfb44b8d9a",
   "metadata": {},
   "outputs": [],
   "source": [
    "def counter(tup , elem):\n",
    "    # using the count method \n",
    "    return tup.count(elem)"
   ]
  },
  {
   "cell_type": "code",
   "execution_count": 110,
   "id": "a0feec84-81bb-4f11-9311-8d147c438ba6",
   "metadata": {},
   "outputs": [
    {
     "data": {
      "text/plain": [
       "3"
      ]
     },
     "execution_count": 110,
     "metadata": {},
     "output_type": "execute_result"
    }
   ],
   "source": [
    "counter(('a','z','e','f','a','c','t','e','a','b'),'a')"
   ]
  },
  {
   "cell_type": "code",
   "execution_count": 113,
   "id": "1ad744ed-e184-4b85-b452-0e1c9ebae7c2",
   "metadata": {},
   "outputs": [],
   "source": [
    "def counter(tup , elem):\n",
    "    # using the count method \n",
    "    l = list(tup)\n",
    "    count = 0 \n",
    "    while elem in l:\n",
    "        l.remove(elem)\n",
    "        count +=1\n",
    "    return count"
   ]
  },
  {
   "cell_type": "code",
   "execution_count": 118,
   "id": "a4d6557c-9bd8-47ef-bfb2-52fb46edc63b",
   "metadata": {},
   "outputs": [
    {
     "data": {
      "text/plain": [
       "4"
      ]
     },
     "execution_count": 118,
     "metadata": {},
     "output_type": "execute_result"
    }
   ],
   "source": [
    "counter(z,'a')"
   ]
  },
  {
   "cell_type": "code",
   "execution_count": 119,
   "id": "5db61208-0e39-4404-8440-f39fed571100",
   "metadata": {},
   "outputs": [
    {
     "data": {
      "text/plain": [
       "('a', 'z', 'e', 'f', 'a', 'c', 't', 'e', 'a', 'b', 'a')"
      ]
     },
     "execution_count": 119,
     "metadata": {},
     "output_type": "execute_result"
    }
   ],
   "source": [
    "z"
   ]
  },
  {
   "cell_type": "code",
   "execution_count": 108,
   "id": "4a20ab9e-5f57-424c-acd1-78b0c3ee2dc9",
   "metadata": {},
   "outputs": [
    {
     "data": {
      "text/plain": [
       "3"
      ]
     },
     "execution_count": 108,
     "metadata": {},
     "output_type": "execute_result"
    }
   ],
   "source": [
    "(1,2,3,1,3,1,3,2).count(1)"
   ]
  },
  {
   "cell_type": "markdown",
   "id": "d06a7bec-36e1-4f39-8dbd-e3d3607f286e",
   "metadata": {},
   "source": [
    "## 30. Develop a code that prompts the user to input two sets of strings. Then, print the symmetric difference of these two sets"
   ]
  },
  {
   "cell_type": "code",
   "execution_count": 121,
   "id": "52e6b2c3-58c8-4099-8dfe-5007a241d701",
   "metadata": {},
   "outputs": [
    {
     "data": {
      "text/plain": [
       "{'a', 'd', 's'}"
      ]
     },
     "execution_count": 121,
     "metadata": {},
     "output_type": "execute_result"
    }
   ],
   "source": [
    "set(\"adadadas\")"
   ]
  },
  {
   "cell_type": "code",
   "execution_count": null,
   "id": "cc944254-802b-486e-894c-7ff73fa7e9c0",
   "metadata": {},
   "outputs": [],
   "source": [
    "# either of the set but not in both of the set \n",
    "# symmetric_difference() method\n",
    "# x ^ y"
   ]
  },
  {
   "cell_type": "code",
   "execution_count": 124,
   "id": "e3305dde-85c0-4d59-af55-43794dbc37ed",
   "metadata": {},
   "outputs": [],
   "source": [
    "def sym_dif():\n",
    "    print(\"Provide the data in form {a,b,d ,e} \")\n",
    "    x = input(\"Data for setA : \")\n",
    "    y = input(\"Data for setB : \")\n",
    "    x = set(x) # convert \"abblaanode\" to a   {a,b,l,n,o,d,e}\n",
    "    y = set(y)\n",
    "    print(x,y)\n",
    "    return x ^ y\n",
    "    "
   ]
  },
  {
   "cell_type": "code",
   "execution_count": 125,
   "id": "ffa264dc-7d73-422d-917a-ab0cd2847d8b",
   "metadata": {},
   "outputs": [
    {
     "name": "stdout",
     "output_type": "stream",
     "text": [
      "Provide the data in form {a,b,d ,e} \n"
     ]
    },
    {
     "name": "stdin",
     "output_type": "stream",
     "text": [
      "Data for setA :  blacksheep\n",
      "Data for setB :  whitesheep\n"
     ]
    },
    {
     "name": "stdout",
     "output_type": "stream",
     "text": [
      "{'k', 'a', 'e', 'p', 'h', 'c', 'b', 'l', 's'} {'e', 'p', 'h', 't', 'i', 'w', 's'}\n"
     ]
    },
    {
     "data": {
      "text/plain": [
       "{'a', 'b', 'c', 'i', 'k', 'l', 't', 'w'}"
      ]
     },
     "execution_count": 125,
     "metadata": {},
     "output_type": "execute_result"
    }
   ],
   "source": [
    "sym_dif()"
   ]
  },
  {
   "cell_type": "markdown",
   "id": "65478123-ef39-4bc5-9fb8-f8b04dd1bb30",
   "metadata": {},
   "source": [
    "## 31. Write a code that takes a list of words as input and returns a dictionary where the keys are unique words and the values are the frequencies of those words in the input list"
   ]
  },
  {
   "cell_type": "code",
   "execution_count": null,
   "id": "87728dcf-c3d2-4ef8-b7ed-585fa3bed02a",
   "metadata": {},
   "outputs": [],
   "source": []
  },
  {
   "cell_type": "code",
   "execution_count": 126,
   "id": "a8cc527f-9ea4-4e58-9d7e-eb198ee0f1a2",
   "metadata": {},
   "outputs": [],
   "source": [
    "\n",
    "def count_elem (listx):\n",
    "    d = {}\n",
    "    for i in listx:\n",
    "        # setdefault(key, defaultvalue) \n",
    "        # if the key exist that the original value is returned\n",
    "        # if the key does not exits than the default value is set to the new key so created\n",
    "        d.setdefault(i, 0)\n",
    "        if i in d:\n",
    "            d[i] +=1\n",
    "    return d"
   ]
  },
  {
   "cell_type": "code",
   "execution_count": 129,
   "id": "9bbe8788-c56b-4c82-91c9-ceda611cb7ce",
   "metadata": {},
   "outputs": [],
   "source": [
    "words = \"Write a code that takes a list of words as input and returns a dictionary where the keys are unique words and the values are the frequencies of those words in the input list\".lower().split(\" \")"
   ]
  },
  {
   "cell_type": "code",
   "execution_count": 130,
   "id": "3353785f-359f-4a7e-9ecc-ad44e6bf5ddf",
   "metadata": {},
   "outputs": [
    {
     "data": {
      "text/plain": [
       "['write',\n",
       " 'a',\n",
       " 'code',\n",
       " 'that',\n",
       " 'takes',\n",
       " 'a',\n",
       " 'list',\n",
       " 'of',\n",
       " 'words',\n",
       " 'as',\n",
       " 'input',\n",
       " 'and',\n",
       " 'returns',\n",
       " 'a',\n",
       " 'dictionary',\n",
       " 'where',\n",
       " 'the',\n",
       " 'keys',\n",
       " 'are',\n",
       " 'unique',\n",
       " 'words',\n",
       " 'and',\n",
       " 'the',\n",
       " 'values',\n",
       " 'are',\n",
       " 'the',\n",
       " 'frequencies',\n",
       " 'of',\n",
       " 'those',\n",
       " 'words',\n",
       " 'in',\n",
       " 'the',\n",
       " 'input',\n",
       " 'list']"
      ]
     },
     "execution_count": 130,
     "metadata": {},
     "output_type": "execute_result"
    }
   ],
   "source": [
    "words"
   ]
  },
  {
   "cell_type": "code",
   "execution_count": 131,
   "id": "f7e02a8e-0dc7-4c61-951a-6076afbaed24",
   "metadata": {},
   "outputs": [
    {
     "data": {
      "text/plain": [
       "{'write': 1,\n",
       " 'a': 3,\n",
       " 'code': 1,\n",
       " 'that': 1,\n",
       " 'takes': 1,\n",
       " 'list': 2,\n",
       " 'of': 2,\n",
       " 'words': 3,\n",
       " 'as': 1,\n",
       " 'input': 2,\n",
       " 'and': 2,\n",
       " 'returns': 1,\n",
       " 'dictionary': 1,\n",
       " 'where': 1,\n",
       " 'the': 4,\n",
       " 'keys': 1,\n",
       " 'are': 2,\n",
       " 'unique': 1,\n",
       " 'values': 1,\n",
       " 'frequencies': 1,\n",
       " 'those': 1,\n",
       " 'in': 1}"
      ]
     },
     "execution_count": 131,
     "metadata": {},
     "output_type": "execute_result"
    }
   ],
   "source": [
    "count_elem(words)"
   ]
  },
  {
   "cell_type": "markdown",
   "id": "c5d42d1a-e301-4709-9e33-04e63aab0a80",
   "metadata": {},
   "source": [
    "## 32. Write a code that takes two dictionaries as input and merges them into a single dictionary. If there are common keys, the values should be added together"
   ]
  },
  {
   "cell_type": "code",
   "execution_count": 168,
   "id": "cda7f53a-396e-4351-beb6-374d6eea6265",
   "metadata": {},
   "outputs": [],
   "source": [
    "def concat_dict(d1,d2):\n",
    "    items1= list(d1.items())\n",
    "    items2 = list(d2.items())\n",
    "    # print(items1, items2)\n",
    "    for i in items2:\n",
    "        \n",
    "        if i not in items1:\n",
    "            items1.append(i)\n",
    "            \n",
    "    return dict(items1)\n",
    "        "
   ]
  },
  {
   "cell_type": "code",
   "execution_count": 169,
   "id": "594301d6-cc17-4232-8c57-b22b49b2d997",
   "metadata": {},
   "outputs": [],
   "source": [
    "x = {\"name\": \"namrta\",\"surname\" : \"tanwar\", \"gender\" : \"female\"}"
   ]
  },
  {
   "cell_type": "code",
   "execution_count": 170,
   "id": "ad644884-d4ca-41e1-93f2-f13d4ecb8c4e",
   "metadata": {},
   "outputs": [],
   "source": [
    "y = {\"name\": \"suman\",\"age\" : 27, \"address\" : \"solan\"}"
   ]
  },
  {
   "cell_type": "code",
   "execution_count": 172,
   "id": "ea606332-55ec-4f51-ac62-f150b21159ce",
   "metadata": {},
   "outputs": [
    {
     "data": {
      "text/plain": [
       "{'name': 'suman',\n",
       " 'surname': 'tanwar',\n",
       " 'gender': 'female',\n",
       " 'age': 27,\n",
       " 'address': 'solan'}"
      ]
     },
     "execution_count": 172,
     "metadata": {},
     "output_type": "execute_result"
    }
   ],
   "source": [
    "concat_dict(x,y) # updates the dictionary if similar key is there"
   ]
  },
  {
   "cell_type": "code",
   "execution_count": null,
   "id": "cc7a69c2-cf93-425e-a655-e20e2444a0c0",
   "metadata": {},
   "outputs": [],
   "source": []
  },
  {
   "cell_type": "code",
   "execution_count": null,
   "id": "3a20be40-bf8d-4030-a8d2-35dc31ffdd5f",
   "metadata": {},
   "outputs": [],
   "source": []
  },
  {
   "cell_type": "code",
   "execution_count": 132,
   "id": "d9b2120b-33b1-47b2-944b-19a3f6352375",
   "metadata": {},
   "outputs": [
    {
     "ename": "TypeError",
     "evalue": "unsupported operand type(s) for +: 'dict' and 'dict'",
     "output_type": "error",
     "traceback": [
      "\u001b[0;31m---------------------------------------------------------------------------\u001b[0m",
      "\u001b[0;31mTypeError\u001b[0m                                 Traceback (most recent call last)",
      "Cell \u001b[0;32mIn [132], line 1\u001b[0m\n\u001b[0;32m----> 1\u001b[0m \u001b[43m{\u001b[49m\u001b[38;5;124;43m\"\u001b[39;49m\u001b[38;5;124;43mname\u001b[39;49m\u001b[38;5;124;43m\"\u001b[39;49m\u001b[43m:\u001b[49m\u001b[38;5;124;43m\"\u001b[39;49m\u001b[38;5;124;43mnamrta\u001b[39;49m\u001b[38;5;124;43m\"\u001b[39;49m\u001b[43m}\u001b[49m\u001b[43m \u001b[49m\u001b[38;5;241;43m+\u001b[39;49m\u001b[43m \u001b[49m\u001b[43m{\u001b[49m\u001b[38;5;124;43m\"\u001b[39;49m\u001b[38;5;124;43mage\u001b[39;49m\u001b[38;5;124;43m\"\u001b[39;49m\u001b[43m \u001b[49m\u001b[43m:\u001b[49m\u001b[43m \u001b[49m\u001b[38;5;241;43m27\u001b[39;49m\u001b[43m}\u001b[49m\n",
      "\u001b[0;31mTypeError\u001b[0m: unsupported operand type(s) for +: 'dict' and 'dict'"
     ]
    }
   ],
   "source": [
    "{\"name\":\"namrta\"} + {\"age\" : 27}"
   ]
  },
  {
   "cell_type": "code",
   "execution_count": null,
   "id": "9f6c15eb-3a65-4e5e-b5f7-5f50e1f19766",
   "metadata": {},
   "outputs": [],
   "source": [
    "def concat_dict(d1,d2):\n",
    "    "
   ]
  },
  {
   "cell_type": "code",
   "execution_count": 135,
   "id": "9004c7c8-0c53-4fb0-bc59-e4c2a63dc5df",
   "metadata": {},
   "outputs": [
    {
     "data": {
      "text/plain": [
       "dict_items([('name', 'namrta'), ('age', 27), ('address', 'solan')])"
      ]
     },
     "execution_count": 135,
     "metadata": {},
     "output_type": "execute_result"
    }
   ],
   "source": [
    "{\"name\": \"namrta\",\"age\" : 27, \"address\" : \"solan\"} .items()"
   ]
  },
  {
   "cell_type": "code",
   "execution_count": 137,
   "id": "912b8029-72d3-4bc4-a184-4d9c5e19da3d",
   "metadata": {},
   "outputs": [
    {
     "data": {
      "text/plain": [
       "dict_items([('name', 'namrta'), ('surname', 'tanwar'), ('gender', 'female')])"
      ]
     },
     "execution_count": 137,
     "metadata": {},
     "output_type": "execute_result"
    }
   ],
   "source": [
    "{\"name\": \"namrta\",\"surname\" : \"tanwar\", \"gender\" : \"female\"}.items()"
   ]
  },
  {
   "cell_type": "code",
   "execution_count": 138,
   "id": "f45b1d79-2c9c-4052-8968-a97ad92fce88",
   "metadata": {},
   "outputs": [
    {
     "data": {
      "text/plain": [
       "True"
      ]
     },
     "execution_count": 138,
     "metadata": {},
     "output_type": "execute_result"
    }
   ],
   "source": [
    "('name','namrta') in [('name', 'namrta'), ('surname', 'tanwar'), ('gender', 'female')]"
   ]
  },
  {
   "cell_type": "markdown",
   "id": "90b38f1e-586b-463e-a093-40e07f61bf78",
   "metadata": {},
   "source": [
    "## 33. Write a code to access a value in a nested dictionary. The function should take the dictionary and a list of keys as input, and return the corresponding value. If any of the keys do not exist in the dictionary, the function should return None"
   ]
  },
  {
   "cell_type": "markdown",
   "id": "d4d68dfb-5ede-486e-9452-968fbe15fe39",
   "metadata": {},
   "source": [
    "#### again sample inputs would be of great help"
   ]
  },
  {
   "cell_type": "code",
   "execution_count": 179,
   "id": "21de29a2-d262-4cee-94fb-25a9554f6f4c",
   "metadata": {},
   "outputs": [],
   "source": [
    "def access_dict(d, keys):\n",
    "\n",
    "    for i in keys :\n",
    "        if i not in d.keys():\n",
    "            yield None\n",
    "        yield (d[i])"
   ]
  },
  {
   "cell_type": "code",
   "execution_count": 182,
   "id": "7906205a-7761-4a1b-b934-abe6ac634d81",
   "metadata": {},
   "outputs": [],
   "source": [
    "def access_dict(d, keys):\n",
    "\n",
    "    for i in keys :\n",
    "        yield None if i not in d.keys() else d[i]"
   ]
  },
  {
   "cell_type": "code",
   "execution_count": 183,
   "id": "0b8f8d34-8f71-4f32-86fc-0bc21c399e3f",
   "metadata": {},
   "outputs": [],
   "source": [
    "x = access_dict({\"name\": \"namrta\",\"surname\" : \"tanwar\", \"gender\" : \"female\"},['name','surname','age','gender'])"
   ]
  },
  {
   "cell_type": "code",
   "execution_count": 184,
   "id": "36f24890-8f73-427d-b768-adfc0ea6f298",
   "metadata": {},
   "outputs": [
    {
     "name": "stdout",
     "output_type": "stream",
     "text": [
      "namrta\n",
      "tanwar\n",
      "None\n",
      "female\n"
     ]
    }
   ],
   "source": [
    "for i in x:\n",
    "    print(i)"
   ]
  },
  {
   "cell_type": "markdown",
   "id": "3cbf286d-23c9-435d-ad46-e30c689baa4b",
   "metadata": {},
   "source": [
    "## 34 Write a code that takes a dictionary as input and returns a sorted version of it based on the values. You\n",
    "can choose whether to sort in ascending or descending order`"
   ]
  },
  {
   "cell_type": "code",
   "execution_count": 185,
   "id": "a8eb8b5c-869d-47f1-b82d-d169386aa00e",
   "metadata": {},
   "outputs": [],
   "source": [
    "def sort_dict(d):\n",
    "    return dict(sorted(d.items() ,key=lambda item : item[1]))"
   ]
  },
  {
   "cell_type": "code",
   "execution_count": 186,
   "id": "496fcc68-9c4c-4fb0-b3cd-6340f53ad0b8",
   "metadata": {},
   "outputs": [
    {
     "data": {
      "text/plain": [
       "{1: 'anirudh', 0: 'namrta', 2: 'shiwalik'}"
      ]
     },
     "execution_count": 186,
     "metadata": {},
     "output_type": "execute_result"
    }
   ],
   "source": [
    "sort_dict({0:\"namrta\",1: \"anirudh\",2:\"shiwalik\"})"
   ]
  },
  {
   "cell_type": "markdown",
   "id": "25d3ec41-a8e5-439a-8b57-28f4b49515fc",
   "metadata": {},
   "source": [
    "## 35.Write a code that inverts a dictionary, swapping keys and values. Ensure that the inverted dictionary correctly handles cases where multiple keys have the same value by storing the keys as a list in the inverted dictionary"
   ]
  },
  {
   "cell_type": "code",
   "execution_count": 187,
   "id": "b1051bac-163e-4e11-b3eb-0f18d63296f5",
   "metadata": {},
   "outputs": [],
   "source": [
    "def invert_dicti(d):\n",
    "    inverted = {}\n",
    "    for key, value in d.items():\n",
    "        if value in inverted:\n",
    "            inverted[value].append(key)  # Append key to the existing list\n",
    "        else:\n",
    "            inverted[value] = [key]  # Create a new list with the key\n",
    "    return inverted\n",
    "\n",
    "\n"
   ]
  },
  {
   "cell_type": "code",
   "execution_count": 188,
   "id": "5bad0e61-8edf-44ff-ac2d-7be2129775db",
   "metadata": {},
   "outputs": [
    {
     "name": "stdout",
     "output_type": "stream",
     "text": [
      "{1: ['a', 'c'], 2: ['b'], 3: ['d']}\n"
     ]
    }
   ],
   "source": [
    "\n",
    "original_dict = {'a': 1, 'b': 2, 'c': 1, 'd': 3}\n",
    "inverted_dict = invert_dicti(original_dict)\n",
    "print(inverted_dict)"
   ]
  },
  {
   "cell_type": "code",
   "execution_count": null,
   "id": "6213f24a-1de7-4bcf-a485-d02669ac9f35",
   "metadata": {},
   "outputs": [],
   "source": []
  }
 ],
 "metadata": {
  "kernelspec": {
   "display_name": "Python 3 (ipykernel)",
   "language": "python",
   "name": "python3"
  },
  "language_info": {
   "codemirror_mode": {
    "name": "ipython",
    "version": 3
   },
   "file_extension": ".py",
   "mimetype": "text/x-python",
   "name": "python",
   "nbconvert_exporter": "python",
   "pygments_lexer": "ipython3",
   "version": "3.10.12"
  }
 },
 "nbformat": 4,
 "nbformat_minor": 5
}
