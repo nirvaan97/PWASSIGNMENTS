{
 "cells": [
  {
   "cell_type": "markdown",
   "id": "8fe09eaf-8122-4a93-a421-8761e1052833",
   "metadata": {},
   "source": [
    "# Common Data Structure"
   ]
  },
  {
   "cell_type": "markdown",
   "id": "6026d5b2-65b2-40ca-a441-7d22e2cd6c6e",
   "metadata": {
    "jp-MarkdownHeadingCollapsed": true
   },
   "source": [
    "## 1. Discuss String slicing and provide examples ."
   ]
  },
  {
   "cell_type": "markdown",
   "id": "d1b68518-f13f-46a7-836e-eaf8b7dec787",
   "metadata": {},
   "source": [
    "Strings use indexes and slices the same way lists do. You can think of the\n",
    "string 'Hello, world!' as a list and each character in the string as an item\n",
    "with a corresponding index."
   ]
  },
  {
   "cell_type": "markdown",
   "id": "2a4e4d9d-3cc6-40ab-9842-1bb13421f1d2",
   "metadata": {},
   "source": [
    "| H  | e  | l  | l  | o  | ,  |    | w  | o  | r  | l  | d  | !  |\n",
    "|----|----|----|----|----|----|----|----|----|----|----|----|----|\n",
    "| 0  | 1  | 2  | 3  | 4  | 5  | 6  | 7  | 8  | 9  | 10 | 11 | 12 |\n",
    "| -13| -12| -11| -10| -9 | -8 | -7 | -6 | -5 | -4 | -3 | -2 | -1 |\n",
    "\n"
   ]
  },
  {
   "cell_type": "code",
   "execution_count": 62,
   "id": "b70ce465-5da4-40ab-80f5-ea297c83c2e3",
   "metadata": {},
   "outputs": [],
   "source": [
    "st = 'Hello, world!'"
   ]
  },
  {
   "cell_type": "code",
   "execution_count": 63,
   "id": "f7f7ba89-f84f-4372-bd3d-728c61c74a59",
   "metadata": {},
   "outputs": [
    {
     "ename": "ValueError",
     "evalue": "empty separator",
     "output_type": "error",
     "traceback": [
      "\u001b[0;31m---------------------------------------------------------------------------\u001b[0m",
      "\u001b[0;31mValueError\u001b[0m                                Traceback (most recent call last)",
      "Cell \u001b[0;32mIn [63], line 1\u001b[0m\n\u001b[0;32m----> 1\u001b[0m \u001b[43mst\u001b[49m\u001b[38;5;241;43m.\u001b[39;49m\u001b[43msplit\u001b[49m\u001b[43m(\u001b[49m\u001b[38;5;124;43m'\u001b[39;49m\u001b[38;5;124;43m'\u001b[39;49m\u001b[43m)\u001b[49m\n",
      "\u001b[0;31mValueError\u001b[0m: empty separator"
     ]
    }
   ],
   "source": [
    "st.split('') # apparantly split cant atomic split a string"
   ]
  },
  {
   "cell_type": "code",
   "execution_count": 65,
   "id": "4fc069f0-2643-4f0b-90f0-3b2e88110eda",
   "metadata": {
    "scrolled": true
   },
   "outputs": [
    {
     "data": {
      "text/plain": [
       "['hello']"
      ]
     },
     "execution_count": 65,
     "metadata": {},
     "output_type": "execute_result"
    }
   ],
   "source": [
    "\"hello\".split() # also not like this"
   ]
  },
  {
   "cell_type": "code",
   "execution_count": 64,
   "id": "154da71a-a3ac-4ad7-bfef-57a8450cb92e",
   "metadata": {},
   "outputs": [
    {
     "data": {
      "text/plain": [
       "['Hello,', 'world!']"
      ]
     },
     "execution_count": 64,
     "metadata": {},
     "output_type": "execute_result"
    }
   ],
   "source": [
    "st.split() "
   ]
  },
  {
   "cell_type": "markdown",
   "id": "9901c3cc-be83-48b5-9ad5-4ad5a607501c",
   "metadata": {},
   "source": [
    "### 1. string Slicing\n",
    "- square brackets way\n",
    "```python\n",
    "name = \"Namrta\"\n",
    "name[0] # \"N\"\n",
    "name[-1] # 'a'\n",
    "\n",
    "```"
   ]
  },
  {
   "cell_type": "markdown",
   "id": "c4d89588-3078-4688-9140-a930f444265f",
   "metadata": {},
   "source": [
    "#### `str[ start : end : [step]]`\n",
    "- start is index value to begin\n",
    "- end is not included\n",
    "- step means to jump "
   ]
  },
  {
   "cell_type": "code",
   "execution_count": 5,
   "id": "0e9ae484-6982-4218-ae03-5e0643983de7",
   "metadata": {},
   "outputs": [
    {
     "data": {
      "text/plain": [
       "9"
      ]
     },
     "execution_count": 5,
     "metadata": {},
     "output_type": "execute_result"
    }
   ],
   "source": [
    "name = \"Abhimanyu\"\n",
    "len(name) # up to 8 indexes"
   ]
  },
  {
   "cell_type": "markdown",
   "id": "47012155-4a1d-4dde-8f3b-9df94f375065",
   "metadata": {},
   "source": [
    "#### 1 .using only start and end[not included]"
   ]
  },
  {
   "cell_type": "code",
   "execution_count": 24,
   "id": "7140d758-d86f-441d-b07d-76b1cb9c4def",
   "metadata": {},
   "outputs": [
    {
     "name": "stdout",
     "output_type": "stream",
     "text": [
      "b m\n"
     ]
    }
   ],
   "source": [
    "print(name [1] , name[4]) # but check out the below result as end is not included"
   ]
  },
  {
   "cell_type": "code",
   "execution_count": 26,
   "id": "1aa9a608-d97b-4b0a-9e4a-3a49eb66baf0",
   "metadata": {},
   "outputs": [
    {
     "data": {
      "text/plain": [
       "'bhi'"
      ]
     },
     "execution_count": 26,
     "metadata": {},
     "output_type": "execute_result"
    }
   ],
   "source": [
    "name[1:4] # will start from 1 index to 3 "
   ]
  },
  {
   "cell_type": "code",
   "execution_count": 27,
   "id": "e1b8aa89-5491-4a70-a995-56fe516e5f68",
   "metadata": {},
   "outputs": [
    {
     "name": "stdout",
     "output_type": "stream",
     "text": [
      "h u\n"
     ]
    }
   ],
   "source": [
    "print(name[2] , name[-1])"
   ]
  },
  {
   "cell_type": "code",
   "execution_count": 30,
   "id": "75381b3b-dcfc-4437-a592-fdc53951e45c",
   "metadata": {},
   "outputs": [
    {
     "data": {
      "text/plain": [
       "'himany'"
      ]
     },
     "execution_count": 30,
     "metadata": {},
     "output_type": "execute_result"
    }
   ],
   "source": [
    "name[2:-1] # same with the negatives indexes End is not included"
   ]
  },
  {
   "cell_type": "markdown",
   "id": "0a3624f1-9efc-4d4c-8e14-8cd10173f0b9",
   "metadata": {},
   "source": [
    "1. __What happens when start > end__\n",
    "    - the string returna empty string\n",
    "    - meaning that start can not be greater than the end"
   ]
  },
  {
   "cell_type": "code",
   "execution_count": 6,
   "id": "3a7ae409-d6e4-46be-b703-a9fd08d967fc",
   "metadata": {},
   "outputs": [
    {
     "data": {
      "text/plain": [
       "''"
      ]
     },
     "execution_count": 6,
     "metadata": {},
     "output_type": "execute_result"
    }
   ],
   "source": [
    "name[4:1]"
   ]
  },
  {
   "cell_type": "markdown",
   "id": "689f417c-e13b-4ab0-a65c-f77bbe33408b",
   "metadata": {},
   "source": [
    "2. __invalid start or end__|"
   ]
  },
  {
   "cell_type": "code",
   "execution_count": 12,
   "id": "3078f9fc-7c99-41d6-9561-647428c3bfcd",
   "metadata": {},
   "outputs": [
    {
     "data": {
      "text/plain": [
       "''"
      ]
     },
     "execution_count": 12,
     "metadata": {},
     "output_type": "execute_result"
    }
   ],
   "source": [
    "name[ 0:-1111]   # cuz negativ starts from right to left so this was expected"
   ]
  },
  {
   "cell_type": "code",
   "execution_count": 13,
   "id": "560763e2-0750-4550-a79e-e9fdea5f3c61",
   "metadata": {},
   "outputs": [
    {
     "data": {
      "text/plain": [
       "'Abhimanyu'"
      ]
     },
     "execution_count": 13,
     "metadata": {},
     "output_type": "execute_result"
    }
   ],
   "source": [
    "name[0: 100000] # doent matter as long as the end is an int it and greater than start every thing will be fine"
   ]
  },
  {
   "cell_type": "code",
   "execution_count": 15,
   "id": "50664e22-e4fb-4a41-be3a-c861350e4634",
   "metadata": {},
   "outputs": [
    {
     "data": {
      "text/plain": [
       "''"
      ]
     },
     "execution_count": 15,
     "metadata": {},
     "output_type": "execute_result"
    }
   ],
   "source": [
    "name [9999:-1] # out of index start produces empty string"
   ]
  },
  {
   "cell_type": "markdown",
   "id": "98cced85-efb9-4a77-b0ec-8511dc268cec",
   "metadata": {},
   "source": [
    "3. __Getting string from some start and to the end when the length is not known__\n",
    "   - ` str [ start  : ]`\n",
    "   - just leave out the end index value"
   ]
  },
  {
   "cell_type": "code",
   "execution_count": 17,
   "id": "50af9b1e-b43a-4908-bcd4-db1f079821b1",
   "metadata": {},
   "outputs": [
    {
     "data": {
      "text/plain": [
       "'imanyu'"
      ]
     },
     "execution_count": 17,
     "metadata": {},
     "output_type": "execute_result"
    }
   ],
   "source": [
    "name [3:]  # this will out put the string from the 3rd index (after 0)  to the end"
   ]
  },
  {
   "cell_type": "markdown",
   "id": "82351d3b-ea68-4f13-b285-512831b99355",
   "metadata": {},
   "source": [
    "4. __Getting string from some end and to the start when the length is not known__\n",
    "   - ` str [   : negative end]`\n",
    "   - just leave out the start index value\n",
    "   - `end will always be ignored` "
   ]
  },
  {
   "cell_type": "code",
   "execution_count": 32,
   "id": "46d7e32d-377d-45b0-b887-cc4e83465b29",
   "metadata": {},
   "outputs": [
    {
     "data": {
      "text/plain": [
       "'Abhimany'"
      ]
     },
     "execution_count": 32,
     "metadata": {},
     "output_type": "execute_result"
    }
   ],
   "source": [
    "name[ : -1]"
   ]
  },
  {
   "cell_type": "code",
   "execution_count": 35,
   "id": "656a5ac0-e63c-44c8-af8b-efb612633367",
   "metadata": {},
   "outputs": [
    {
     "name": "stdout",
     "output_type": "stream",
     "text": [
      "A u\n"
     ]
    }
   ],
   "source": [
    "print(name[0] , name[-1]) # see how the end was ignored "
   ]
  },
  {
   "cell_type": "code",
   "execution_count": 36,
   "id": "69369158-d360-4dda-b4d0-977d1fdc5cb9",
   "metadata": {},
   "outputs": [
    {
     "data": {
      "text/plain": [
       "'Abhima'"
      ]
     },
     "execution_count": 36,
     "metadata": {},
     "output_type": "execute_result"
    }
   ],
   "source": [
    "name [ : -3]"
   ]
  },
  {
   "cell_type": "code",
   "execution_count": 37,
   "id": "f8b119e7-80a8-4d3e-97ea-4464e41583a8",
   "metadata": {},
   "outputs": [
    {
     "name": "stdout",
     "output_type": "stream",
     "text": [
      "A n\n"
     ]
    }
   ],
   "source": [
    "print(name[0] , name[-3])"
   ]
  },
  {
   "cell_type": "markdown",
   "id": "cd048609-54be-4bf9-aea1-f0a0904d0e14",
   "metadata": {},
   "source": [
    "#### 2. using the step field too\n",
    "- ` str[ start : end : step]`\n",
    "- step is like jumping if step = 2  , count will be like 0 , 2 , 4"
   ]
  },
  {
   "cell_type": "code",
   "execution_count": 38,
   "id": "147b2800-56cd-4ecc-ba12-7ac580458578",
   "metadata": {},
   "outputs": [
    {
     "data": {
      "text/plain": [
       "'Ahmn'"
      ]
     },
     "execution_count": 38,
     "metadata": {},
     "output_type": "execute_result"
    }
   ],
   "source": [
    "name [0: -1: 2]"
   ]
  },
  {
   "cell_type": "code",
   "execution_count": 39,
   "id": "f93e1a4e-d5f4-443b-a4f7-8fcc4f7ee89e",
   "metadata": {},
   "outputs": [
    {
     "name": "stdout",
     "output_type": "stream",
     "text": [
      "Abhimanyu\n"
     ]
    }
   ],
   "source": [
    "print(name)"
   ]
  },
  {
   "cell_type": "code",
   "execution_count": 44,
   "id": "559242f2-3851-48ff-8061-64bc2972d020",
   "metadata": {},
   "outputs": [],
   "source": [
    "''' lets see more concrete examples'''\n",
    "\n",
    "nums ='0123456789'"
   ]
  },
  {
   "cell_type": "code",
   "execution_count": 45,
   "id": "c41b1f84-7481-4de9-b25f-7bdf5ebdb994",
   "metadata": {},
   "outputs": [
    {
     "data": {
      "text/plain": [
       "'0123456789'"
      ]
     },
     "execution_count": 45,
     "metadata": {},
     "output_type": "execute_result"
    }
   ],
   "source": [
    "nums"
   ]
  },
  {
   "cell_type": "markdown",
   "id": "86d3fb18-d686-4573-8cd4-1aca7e6dde0e",
   "metadata": {},
   "source": [
    "#### yes followin is completely valid \n",
    "- str[  :  ]\n",
    "    - this is valid too this creates a copy of the string"
   ]
  },
  {
   "cell_type": "code",
   "execution_count": 48,
   "id": "3adf7e5b-5b6c-4120-b812-70e9daad6753",
   "metadata": {},
   "outputs": [
    {
     "data": {
      "text/plain": [
       "'02468'"
      ]
     },
     "execution_count": 48,
     "metadata": {},
     "output_type": "execute_result"
    }
   ],
   "source": [
    "nums[ : :2] # jumps one step"
   ]
  },
  {
   "cell_type": "code",
   "execution_count": 50,
   "id": "823991ee-8510-4e23-bf09-23a80b110893",
   "metadata": {},
   "outputs": [
    {
     "data": {
      "text/plain": [
       "'0369'"
      ]
     },
     "execution_count": 50,
     "metadata": {},
     "output_type": "execute_result"
    }
   ],
   "source": [
    "nums [ : : 3] # jumps two step"
   ]
  },
  {
   "cell_type": "markdown",
   "id": "4160e23f-0ebb-4350-97ff-43368d670536",
   "metadata": {},
   "source": [
    "### 2.  can step be negative (REVERSING A STRING)\n",
    "- string can be revered too using the negative value of the step\n",
    "- ` str [ :  : -1]`"
   ]
  },
  {
   "cell_type": "code",
   "execution_count": 53,
   "id": "904848a8-6765-438d-807f-472d8386e73c",
   "metadata": {},
   "outputs": [
    {
     "data": {
      "text/plain": [
       "'9876543210'"
      ]
     },
     "execution_count": 53,
     "metadata": {},
     "output_type": "execute_result"
    }
   ],
   "source": [
    "nums [ : : -1] "
   ]
  },
  {
   "cell_type": "code",
   "execution_count": 55,
   "id": "60b81a84-e4b1-4e4e-ae14-560f9e3f8f87",
   "metadata": {},
   "outputs": [
    {
     "ename": "AttributeError",
     "evalue": "'str' object has no attribute 'reverse'",
     "output_type": "error",
     "traceback": [
      "\u001b[0;31m---------------------------------------------------------------------------\u001b[0m",
      "\u001b[0;31mAttributeError\u001b[0m                            Traceback (most recent call last)",
      "Cell \u001b[0;32mIn [55], line 1\u001b[0m\n\u001b[0;32m----> 1\u001b[0m \u001b[43mnums\u001b[49m\u001b[43m \u001b[49m\u001b[38;5;241;43m.\u001b[39;49m\u001b[43mreverse\u001b[49m()\n",
      "\u001b[0;31mAttributeError\u001b[0m: 'str' object has no attribute 'reverse'"
     ]
    }
   ],
   "source": [
    "nums .reverse()  # list method don't apply to it \n",
    "# you will have to change it to list first"
   ]
  },
  {
   "cell_type": "code",
   "execution_count": null,
   "id": "8e62b2e0-5725-44d1-a9a2-4ec468ecbf4d",
   "metadata": {},
   "outputs": [],
   "source": []
  },
  {
   "cell_type": "markdown",
   "id": "7b16efad-1c64-4d37-846c-26c5815c8d4b",
   "metadata": {
    "jp-MarkdownHeadingCollapsed": true
   },
   "source": [
    "## 2. Explain the key feature of lists in Python"
   ]
  },
  {
   "cell_type": "markdown",
   "id": "13cf5980-994a-4893-8087-3bfedc1b7cfa",
   "metadata": {},
   "source": [
    "Following are the key features of lists in Python:\n",
    "1. Ordered\n",
    "2. Mutable\n",
    "3. Dynamic\n",
    "4. Heterogenous\n",
    "5. Indexing & Slicing\n",
    "6. Nested Lists\n",
    "7. Built-in-Methods"
   ]
  },
  {
   "cell_type": "markdown",
   "id": "d5e97330-df22-49d1-9e85-055d51aa2799",
   "metadata": {},
   "source": [
    "### 1. Ordered\n",
    "- Lists are orederd in Python meaning each item in the list is accessible via an index starting from the 0 to the -1 which is the last item of the list\n",
    "- Always the search will be from the left to right i.e. ascending oreder\n",
    "- ![Local Image](./Lists.png)"
   ]
  },
  {
   "cell_type": "markdown",
   "id": "143139e6-c9db-49db-a8fe-5ce46f6d9334",
   "metadata": {},
   "source": [
    "#### Examples"
   ]
  },
  {
   "cell_type": "markdown",
   "id": "8a07a803-6d5a-4852-af05-e8b4f6dace1c",
   "metadata": {},
   "source": [
    "\n",
    "0. Items are indexed"
   ]
  },
  {
   "cell_type": "code",
   "execution_count": 148,
   "id": "bcd4a933-e6be-4a0c-9497-b78c6f10990a",
   "metadata": {},
   "outputs": [],
   "source": [
    "colors = [\"red\", \"green\",\"blue\",\"yellow\",\"white\",\"black\"]\n"
   ]
  },
  {
   "cell_type": "code",
   "execution_count": 95,
   "id": "5ea3ea29-0360-4b74-aba8-6b1a446e552e",
   "metadata": {},
   "outputs": [
    {
     "data": {
      "text/plain": [
       "0"
      ]
     },
     "execution_count": 95,
     "metadata": {},
     "output_type": "execute_result"
    }
   ],
   "source": [
    "colors.index('red') ## see items are indexed"
   ]
  },
  {
   "cell_type": "markdown",
   "id": "e7fec3f7-4cae-486a-9c9c-0693cfcbf1b8",
   "metadata": {},
   "source": [
    "1. len (iterable| list) function lets us know the the items no in the list\n",
    "   - ` len(list_name) `\n",
    "   - index no is alwas one less than the len of the list"
   ]
  },
  {
   "cell_type": "code",
   "execution_count": 71,
   "id": "8dee6ca0-71d4-4b38-817a-949d8f10ef2a",
   "metadata": {},
   "outputs": [
    {
     "data": {
      "text/plain": [
       "6"
      ]
     },
     "execution_count": 71,
     "metadata": {},
     "output_type": "execute_result"
    }
   ],
   "source": [
    "len(colors)"
   ]
  },
  {
   "cell_type": "markdown",
   "id": "818883f0-855f-40b3-9b79-a9976d283c59",
   "metadata": {},
   "source": [
    "2. the 1st item of the list is at index 0 not 1"
   ]
  },
  {
   "cell_type": "code",
   "execution_count": 69,
   "id": "21526a31-7d00-421e-9aed-2a69c4f27f2d",
   "metadata": {},
   "outputs": [
    {
     "data": {
      "text/plain": [
       "'red'"
      ]
     },
     "execution_count": 69,
     "metadata": {},
     "output_type": "execute_result"
    }
   ],
   "source": [
    "colors[0]"
   ]
  },
  {
   "cell_type": "code",
   "execution_count": 70,
   "id": "fa4e0161-2176-485a-82a0-bffe51869684",
   "metadata": {},
   "outputs": [
    {
     "name": "stdout",
     "output_type": "stream",
     "text": [
      "red\n",
      "green\n",
      "blue\n",
      "yellow\n",
      "white\n",
      "black\n"
     ]
    }
   ],
   "source": [
    "for color in colors: \n",
    "    print(color) "
   ]
  },
  {
   "cell_type": "code",
   "execution_count": 72,
   "id": "08e0bc4a-1320-475f-8c46-e377e4de8c74",
   "metadata": {},
   "outputs": [
    {
     "data": {
      "text/plain": [
       "'black'"
      ]
     },
     "execution_count": 72,
     "metadata": {},
     "output_type": "execute_result"
    }
   ],
   "source": [
    "colors[5] # last item"
   ]
  },
  {
   "cell_type": "markdown",
   "id": "363d26cc-daf0-403a-a440-2503a2a7c89b",
   "metadata": {},
   "source": [
    "### 2. Mutable\n",
    "- list are mutable and sequential data type\n",
    "- mutable means that their items modification do not result in creation of a different object\n",
    "- Items can be inserted , deleted and modified too"
   ]
  },
  {
   "cell_type": "markdown",
   "id": "d9cd0b4f-7f6e-4b77-9004-a643e5c2e3f5",
   "metadata": {},
   "source": [
    "#### Example"
   ]
  },
  {
   "cell_type": "code",
   "execution_count": 85,
   "id": "f3b55259-a64c-49e4-a352-931335212af6",
   "metadata": {},
   "outputs": [
    {
     "data": {
      "text/plain": [
       "['red', 'green', 'blue', 'yellow', 'white', 'black']"
      ]
     },
     "execution_count": 85,
     "metadata": {},
     "output_type": "execute_result"
    }
   ],
   "source": [
    "colors"
   ]
  },
  {
   "cell_type": "markdown",
   "id": "e9953592-388f-473f-954c-709b70926f64",
   "metadata": {},
   "source": [
    "1. adding and Modifying"
   ]
  },
  {
   "cell_type": "code",
   "execution_count": 86,
   "id": "07e61652-8b90-44bd-886b-a1f0013c99fb",
   "metadata": {},
   "outputs": [],
   "source": [
    "colors.append('tomato')"
   ]
  },
  {
   "cell_type": "code",
   "execution_count": 87,
   "id": "1b9e3d1c-5a1d-48af-a001-3c0744d2dd57",
   "metadata": {},
   "outputs": [
    {
     "data": {
      "text/plain": [
       "['red', 'green', 'blue', 'yellow', 'white', 'black', 'tomato']"
      ]
     },
     "execution_count": 87,
     "metadata": {},
     "output_type": "execute_result"
    }
   ],
   "source": [
    "colors"
   ]
  },
  {
   "cell_type": "code",
   "execution_count": 88,
   "id": "b0aac495-e3df-4a76-bb59-cf942f6b33a8",
   "metadata": {},
   "outputs": [],
   "source": [
    "colors.insert(0,'vilot')"
   ]
  },
  {
   "cell_type": "code",
   "execution_count": 89,
   "id": "94e788f1-e312-42c2-8828-b8336ff195fa",
   "metadata": {},
   "outputs": [
    {
     "data": {
      "text/plain": [
       "['vilot', 'red', 'green', 'blue', 'yellow', 'white', 'black', 'tomato']"
      ]
     },
     "execution_count": 89,
     "metadata": {},
     "output_type": "execute_result"
    }
   ],
   "source": [
    "colors"
   ]
  },
  {
   "cell_type": "markdown",
   "id": "18462c0e-4102-4bc2-9d9c-5cb352e760e1",
   "metadata": {},
   "source": [
    "2. deleting or removing"
   ]
  },
  {
   "cell_type": "code",
   "execution_count": 90,
   "id": "55695a2e-0843-40aa-ac00-82dcf61feec5",
   "metadata": {},
   "outputs": [
    {
     "data": {
      "text/plain": [
       "['vilot', 'red', 'green', 'blue', 'yellow', 'white', 'black', 'tomato']"
      ]
     },
     "execution_count": 90,
     "metadata": {},
     "output_type": "execute_result"
    }
   ],
   "source": [
    "colors"
   ]
  },
  {
   "cell_type": "code",
   "execution_count": 91,
   "id": "f909eeb2-1165-40be-b831-535d9a5c1056",
   "metadata": {},
   "outputs": [
    {
     "data": {
      "text/plain": [
       "'vilot'"
      ]
     },
     "execution_count": 91,
     "metadata": {},
     "output_type": "execute_result"
    }
   ],
   "source": [
    "colors .pop(0) # removing and returning the item at 0th location"
   ]
  },
  {
   "cell_type": "code",
   "execution_count": 92,
   "id": "441bbdb0-88d3-492d-9297-8c79f645e15b",
   "metadata": {},
   "outputs": [
    {
     "data": {
      "text/plain": [
       "'tomato'"
      ]
     },
     "execution_count": 92,
     "metadata": {},
     "output_type": "execute_result"
    }
   ],
   "source": [
    "colors.pop() # removing and returing item at the last location"
   ]
  },
  {
   "cell_type": "code",
   "execution_count": 93,
   "id": "878144e3-2897-409f-953a-4410fb3f4965",
   "metadata": {},
   "outputs": [],
   "source": [
    "colors.remove('blue')  # it removes the item by value when the value is not known"
   ]
  },
  {
   "cell_type": "code",
   "execution_count": 81,
   "id": "0f7a0ce2-c29d-42b9-a71e-f9d844ffa16f",
   "metadata": {},
   "outputs": [
    {
     "data": {
      "text/plain": [
       "['red', 'green', 'yellow', 'white', 'black']"
      ]
     },
     "execution_count": 81,
     "metadata": {},
     "output_type": "execute_result"
    }
   ],
   "source": [
    "colors"
   ]
  },
  {
   "cell_type": "markdown",
   "id": "e1984455-6ef4-492a-aff7-0b8042cf2d89",
   "metadata": {},
   "source": [
    "3. Mutablity using the id () function\n",
    "   - every thing in python is a object which has an address referring variable\n",
    "   - that address can be accessed using the `id( obj)` function "
   ]
  },
  {
   "cell_type": "code",
   "execution_count": 96,
   "id": "918d76a8-3c0a-44e9-9acd-8f65ce3ead75",
   "metadata": {},
   "outputs": [],
   "source": [
    "n = 1"
   ]
  },
  {
   "cell_type": "code",
   "execution_count": 97,
   "id": "caf7aef5-820d-4d2f-a69d-8e7d0b57dcc4",
   "metadata": {},
   "outputs": [
    {
     "data": {
      "text/plain": [
       "126197680832752"
      ]
     },
     "execution_count": 97,
     "metadata": {},
     "output_type": "execute_result"
    }
   ],
   "source": [
    "id (n)"
   ]
  },
  {
   "cell_type": "code",
   "execution_count": 98,
   "id": "ccee22ed-bb02-494b-b0d1-5cba0190cea9",
   "metadata": {},
   "outputs": [],
   "source": [
    "n = 2000\n"
   ]
  },
  {
   "cell_type": "code",
   "execution_count": 99,
   "id": "66e04d75-db87-444a-9920-64da130ea682",
   "metadata": {},
   "outputs": [
    {
     "data": {
      "text/plain": [
       "126197052858864"
      ]
     },
     "execution_count": 99,
     "metadata": {},
     "output_type": "execute_result"
    }
   ],
   "source": [
    "id (n)  ## it changed "
   ]
  },
  {
   "cell_type": "code",
   "execution_count": 100,
   "id": "deb04679-39f5-41cb-af3e-889e9530194a",
   "metadata": {},
   "outputs": [],
   "source": [
    "# in case of the lists"
   ]
  },
  {
   "cell_type": "code",
   "execution_count": 101,
   "id": "c2785f6c-ace9-483a-ae02-ac860fa801b9",
   "metadata": {},
   "outputs": [],
   "source": [
    "nums = [1,3,4,5]"
   ]
  },
  {
   "cell_type": "code",
   "execution_count": 103,
   "id": "9c3875b3-44a3-4b95-a784-41f1240d28ab",
   "metadata": {},
   "outputs": [
    {
     "data": {
      "text/plain": [
       "126197052473728"
      ]
     },
     "execution_count": 103,
     "metadata": {},
     "output_type": "execute_result"
    }
   ],
   "source": [
    "id (nums) # note the id"
   ]
  },
  {
   "cell_type": "code",
   "execution_count": 104,
   "id": "0cfbde76-f986-4ad0-bd2f-9eaf71be1cc8",
   "metadata": {},
   "outputs": [],
   "source": [
    "nums.append(23)"
   ]
  },
  {
   "cell_type": "code",
   "execution_count": 106,
   "id": "b89c0b38-39d4-4cd8-9c93-d888c96a6fb0",
   "metadata": {},
   "outputs": [
    {
     "data": {
      "text/plain": [
       "126197052473728"
      ]
     },
     "execution_count": 106,
     "metadata": {},
     "output_type": "execute_result"
    }
   ],
   "source": [
    "id (nums) ## the id remains the same "
   ]
  },
  {
   "cell_type": "markdown",
   "id": "a1a4cd83-7ffe-4296-b355-02c8b19d2573",
   "metadata": {},
   "source": [
    "``` id remaind same means we are still working with the same object```"
   ]
  },
  {
   "cell_type": "markdown",
   "id": "c1bbd35c-b96c-48a3-958e-3e7b5af6d034",
   "metadata": {},
   "source": [
    "### 3. Dynamic Size \n",
    "- unlike C where to create array to you need to specify a size\n",
    "- in python the lists are dynamic that is their size can be changes at point you want"
   ]
  },
  {
   "cell_type": "markdown",
   "id": "e5218b93-d479-45cf-968d-a12186ef7f40",
   "metadata": {},
   "source": [
    "#### Example"
   ]
  },
  {
   "cell_type": "code",
   "execution_count": 108,
   "id": "5ff34e85-ea8a-4c90-baeb-a310fbb7b49c",
   "metadata": {},
   "outputs": [],
   "source": [
    "ls = [] # an empty list"
   ]
  },
  {
   "cell_type": "code",
   "execution_count": 109,
   "id": "3b3fe3e0-047f-4147-9f2e-1c442a8f6294",
   "metadata": {},
   "outputs": [
    {
     "ename": "IndexError",
     "evalue": "list assignment index out of range",
     "output_type": "error",
     "traceback": [
      "\u001b[0;31m---------------------------------------------------------------------------\u001b[0m",
      "\u001b[0;31mIndexError\u001b[0m                                Traceback (most recent call last)",
      "Cell \u001b[0;32mIn [109], line 2\u001b[0m\n\u001b[1;32m      1\u001b[0m \u001b[38;5;66;03m# you can not increase it like this\u001b[39;00m\n\u001b[0;32m----> 2\u001b[0m \u001b[43mls\u001b[49m\u001b[43m \u001b[49m\u001b[43m[\u001b[49m\u001b[38;5;241;43m0\u001b[39;49m\u001b[43m]\u001b[49m \u001b[38;5;241m=\u001b[39m \u001b[38;5;124m\"\u001b[39m\u001b[38;5;124msome\u001b[39m\u001b[38;5;124m\"\u001b[39m\n",
      "\u001b[0;31mIndexError\u001b[0m: list assignment index out of range"
     ]
    }
   ],
   "source": [
    "# you can not increase it like this\n",
    "ls [0] = \"some\""
   ]
  },
  {
   "cell_type": "code",
   "execution_count": 110,
   "id": "8385cb75-8328-44f4-95a2-1d60794770b5",
   "metadata": {},
   "outputs": [],
   "source": [
    "ls.insert(0, \"some\") # inserts at the specified location "
   ]
  },
  {
   "cell_type": "code",
   "execution_count": 111,
   "id": "1d0b0375-d86f-4d8f-9e00-4d83400c8385",
   "metadata": {},
   "outputs": [
    {
     "data": {
      "text/plain": [
       "['some']"
      ]
     },
     "execution_count": 111,
     "metadata": {},
     "output_type": "execute_result"
    }
   ],
   "source": [
    "ls"
   ]
  },
  {
   "cell_type": "code",
   "execution_count": 113,
   "id": "f0851859-93fc-46a5-8033-18c275aa5eb8",
   "metadata": {},
   "outputs": [],
   "source": [
    "ls.append(\"thing\") # increases the size of the list by adding item to the last "
   ]
  },
  {
   "cell_type": "code",
   "execution_count": 114,
   "id": "ba2c1334-8d08-41a6-b6e0-d58c14944e21",
   "metadata": {},
   "outputs": [
    {
     "data": {
      "text/plain": [
       "['some', 'thing', 'thing']"
      ]
     },
     "execution_count": 114,
     "metadata": {},
     "output_type": "execute_result"
    }
   ],
   "source": [
    "ls"
   ]
  },
  {
   "cell_type": "code",
   "execution_count": 115,
   "id": "252d1554-a268-4ca8-868e-aa40014ae46b",
   "metadata": {},
   "outputs": [],
   "source": [
    "### suppose you have a list of guests \n",
    "guests = ['namrta' , 'sushant', 'ravinder']"
   ]
  },
  {
   "cell_type": "code",
   "execution_count": 116,
   "id": "e6531530-4552-4c7d-a833-bb8c8f22680f",
   "metadata": {},
   "outputs": [],
   "source": [
    "def send_invites (guests) :\n",
    "    '''prints invitation message'''\n",
    "    for guest in guests:\n",
    "        print(f\"Hello {guest}!  you are invited to the party\")"
   ]
  },
  {
   "cell_type": "code",
   "execution_count": 117,
   "id": "88b75e0b-816b-45c2-bed5-878098a65d96",
   "metadata": {},
   "outputs": [
    {
     "name": "stdout",
     "output_type": "stream",
     "text": [
      "Hello namrta!  you are invited to the party\n",
      "Hello sushant!  you are invited to the party\n",
      "Hello ravinder!  you are invited to the party\n"
     ]
    }
   ],
   "source": [
    "send_invites(guests[:])"
   ]
  },
  {
   "cell_type": "code",
   "execution_count": 118,
   "id": "e5f85bcd-363d-4826-9ee2-ed40c6ffab04",
   "metadata": {},
   "outputs": [
    {
     "data": {
      "text/plain": [
       "' mean while you want to invite some more what to do do you create a new list Hell no'"
      ]
     },
     "execution_count": 118,
     "metadata": {},
     "output_type": "execute_result"
    }
   ],
   "source": [
    "''' mean while you want to invite some more what to do do you create a new list Hell no'''\n"
   ]
  },
  {
   "cell_type": "code",
   "execution_count": 119,
   "id": "a36fb8b6-65b5-4153-9b42-d6b6912445c9",
   "metadata": {},
   "outputs": [],
   "source": [
    "guests.append(\"ramesh\")"
   ]
  },
  {
   "cell_type": "code",
   "execution_count": 120,
   "id": "b22175bb-73cb-4538-914c-25580bfdcb15",
   "metadata": {},
   "outputs": [],
   "source": [
    "guests.append(\"suresh\")"
   ]
  },
  {
   "cell_type": "code",
   "execution_count": 122,
   "id": "2a98f59b-7858-4aec-8d99-4bbda1cb44af",
   "metadata": {},
   "outputs": [
    {
     "data": {
      "text/plain": [
       "['namrta', 'sushant', 'ravinder', 'ramesh', 'suresh']"
      ]
     },
     "execution_count": 122,
     "metadata": {},
     "output_type": "execute_result"
    }
   ],
   "source": [
    "guests # the list increased"
   ]
  },
  {
   "cell_type": "markdown",
   "id": "f37fa32b-3817-4a93-a48e-331f2e8b8b9e",
   "metadata": {},
   "source": [
    "### 4. Heterogeneous \n",
    "- unlike in somelanguages you can create list\\array of only one type\n",
    "- but here in the pyton you are free to add any type of data to the list\n",
    "- ` [int, boolean, None , [list]......]`"
   ]
  },
  {
   "cell_type": "code",
   "execution_count": 123,
   "id": "00cc1ef8-3625-45e4-b4e2-903401eca3bb",
   "metadata": {},
   "outputs": [],
   "source": [
    "hetero = ['name', 12, True, None, {\"name\": \"namrta\"}, {1,2,3,},(12,\"naam\")]"
   ]
  },
  {
   "cell_type": "code",
   "execution_count": 124,
   "id": "908fb856-699f-4183-9129-5f3b5fce8108",
   "metadata": {},
   "outputs": [
    {
     "data": {
      "text/plain": [
       "['name', 12, True, None, {'name': 'namrta'}, {1, 2, 3}, (12, 'naam')]"
      ]
     },
     "execution_count": 124,
     "metadata": {},
     "output_type": "execute_result"
    }
   ],
   "source": [
    "hetero"
   ]
  },
  {
   "cell_type": "code",
   "execution_count": 125,
   "id": "c5d7c203-2f21-4071-91f9-dad29771dcfe",
   "metadata": {},
   "outputs": [
    {
     "name": "stdout",
     "output_type": "stream",
     "text": [
      "name is of type <class 'str'>\n",
      "12 is of type <class 'int'>\n",
      "True is of type <class 'bool'>\n",
      "None is of type <class 'NoneType'>\n",
      "{'name': 'namrta'} is of type <class 'dict'>\n",
      "{1, 2, 3} is of type <class 'set'>\n",
      "(12, 'naam') is of type <class 'tuple'>\n"
     ]
    }
   ],
   "source": [
    "for item in hetero:\n",
    "    print(item, \"is of type\" , type(item))"
   ]
  },
  {
   "cell_type": "markdown",
   "id": "0cd61563-f228-4d8d-991c-984f93d8087c",
   "metadata": {},
   "source": [
    "### 5. Indexing and Slicing"
   ]
  },
  {
   "attachments": {},
   "cell_type": "markdown",
   "id": "ecdc11a5-9893-4617-adbc-bc9f4f45b8da",
   "metadata": {},
   "source": [
    "#### indexing\n",
    "- list are indexed from 0 not 1\n",
    "- __ACCESSING ITEMS IN LIST__\n",
    "      - squre brackets l_name[inx]\n",
    "\n",
    "\n"
   ]
  },
  {
   "cell_type": "code",
   "execution_count": 126,
   "id": "4d61c1e8-75af-4c57-9f85-d66a298dfb6b",
   "metadata": {},
   "outputs": [
    {
     "data": {
      "text/plain": [
       "['red', 'green', 'yellow', 'white', 'black']"
      ]
     },
     "execution_count": 126,
     "metadata": {},
     "output_type": "execute_result"
    }
   ],
   "source": [
    "colors"
   ]
  },
  {
   "cell_type": "code",
   "execution_count": 127,
   "id": "64eecff5-db07-4b80-ac20-c6d7ead36bce",
   "metadata": {},
   "outputs": [
    {
     "data": {
      "text/plain": [
       "'red'"
      ]
     },
     "execution_count": 127,
     "metadata": {},
     "output_type": "execute_result"
    }
   ],
   "source": [
    "\n",
    "colors[0]"
   ]
  },
  {
   "cell_type": "code",
   "execution_count": 128,
   "id": "7ab1a2d2-b1c9-488a-943c-8f491e629935",
   "metadata": {},
   "outputs": [
    {
     "data": {
      "text/plain": [
       "'green'"
      ]
     },
     "execution_count": 128,
     "metadata": {},
     "output_type": "execute_result"
    }
   ],
   "source": [
    "colors[1]"
   ]
  },
  {
   "cell_type": "markdown",
   "id": "7d0be458-46e8-4d19-ae3c-8b72b1326691",
   "metadata": {},
   "source": [
    "- getting the last item when the length is not known\n",
    "    - the negative indexing starts from -1 and goes on\n",
    "    - second last item is at -2 and so on"
   ]
  },
  {
   "cell_type": "code",
   "execution_count": 129,
   "id": "fc23ebbe-4979-43fd-a535-f29b5bfdadd7",
   "metadata": {},
   "outputs": [
    {
     "data": {
      "text/plain": [
       "'black'"
      ]
     },
     "execution_count": 129,
     "metadata": {},
     "output_type": "execute_result"
    }
   ],
   "source": [
    "colors [-1] "
   ]
  },
  {
   "cell_type": "code",
   "execution_count": 130,
   "id": "1212f995-2201-442d-9ab7-c87baf602a8c",
   "metadata": {},
   "outputs": [
    {
     "data": {
      "text/plain": [
       "'white'"
      ]
     },
     "execution_count": 130,
     "metadata": {},
     "output_type": "execute_result"
    }
   ],
   "source": [
    "colors[-2]"
   ]
  },
  {
   "cell_type": "code",
   "execution_count": 131,
   "id": "19ec46a1-62f7-4cba-bfd5-db20421d8f4b",
   "metadata": {},
   "outputs": [
    {
     "data": {
      "text/plain": [
       "['red', 'green', 'yellow', 'white', 'black']"
      ]
     },
     "execution_count": 131,
     "metadata": {},
     "output_type": "execute_result"
    }
   ],
   "source": [
    "colors"
   ]
  },
  {
   "cell_type": "markdown",
   "id": "897f7a00-8399-4b9a-a93f-972152b43bcc",
   "metadata": {},
   "source": [
    "-__index() function  of list__"
   ]
  },
  {
   "cell_type": "code",
   "execution_count": 132,
   "id": "c7d424cb-e30f-4922-8e76-79553180e430",
   "metadata": {},
   "outputs": [
    {
     "data": {
      "text/plain": [
       "0"
      ]
     },
     "execution_count": 132,
     "metadata": {},
     "output_type": "execute_result"
    }
   ],
   "source": [
    "\n",
    "colors.index('red')"
   ]
  },
  {
   "cell_type": "code",
   "execution_count": 133,
   "id": "c0fc0e13-49e2-4da3-970e-c2a6ae531d28",
   "metadata": {},
   "outputs": [
    {
     "data": {
      "text/plain": [
       "4"
      ]
     },
     "execution_count": 133,
     "metadata": {},
     "output_type": "execute_result"
    }
   ],
   "source": [
    "colors.index('black')"
   ]
  },
  {
   "cell_type": "markdown",
   "id": "e1382828-eb66-4bcd-9084-f909aefa6b14",
   "metadata": {},
   "source": [
    "#### slicing\n",
    "- no famous function for this but square bracket way is the way to slice\n",
    "- ` list [start : end]` (end is not included)\n",
    "    - **returns a new list**"
   ]
  },
  {
   "cell_type": "code",
   "execution_count": 135,
   "id": "76088ba6-cbec-499b-85ca-167ede7dde10",
   "metadata": {},
   "outputs": [
    {
     "data": {
      "text/plain": [
       "['red', 'green', 'yellow', 'white', 'black']"
      ]
     },
     "execution_count": 135,
     "metadata": {},
     "output_type": "execute_result"
    }
   ],
   "source": [
    "colors"
   ]
  },
  {
   "cell_type": "code",
   "execution_count": 136,
   "id": "e0343d45-8ad5-4547-a81d-67a0346007fc",
   "metadata": {},
   "outputs": [
    {
     "data": {
      "text/plain": [
       "['green', 'yellow', 'white']"
      ]
     },
     "execution_count": 136,
     "metadata": {},
     "output_type": "execute_result"
    }
   ],
   "source": [
    "colors[1: 4] # end is not included"
   ]
  },
  {
   "cell_type": "code",
   "execution_count": 137,
   "id": "e327ce07-a1d0-4498-be99-56543230320b",
   "metadata": {},
   "outputs": [
    {
     "data": {
      "text/plain": [
       "['red', 'green', 'yellow', 'white', 'black']"
      ]
     },
     "execution_count": 137,
     "metadata": {},
     "output_type": "execute_result"
    }
   ],
   "source": [
    "colors"
   ]
  },
  {
   "cell_type": "markdown",
   "id": "ea25c647-bce1-4d45-bcbf-0b2d439d3cb1",
   "metadata": {},
   "source": [
    "- getting list from start to second or any last index\n",
    "    - here too the end is not included"
   ]
  },
  {
   "cell_type": "code",
   "execution_count": 138,
   "id": "652c715a-ae20-4bc6-b0ef-e799837c35ea",
   "metadata": {},
   "outputs": [
    {
     "data": {
      "text/plain": [
       "['red', 'green', 'yellow']"
      ]
     },
     "execution_count": 138,
     "metadata": {},
     "output_type": "execute_result"
    }
   ],
   "source": [
    "colors [ : -2] "
   ]
  },
  {
   "cell_type": "code",
   "execution_count": 140,
   "id": "7ebc846d-bf3e-4380-b1a7-0063c6281f34",
   "metadata": {},
   "outputs": [
    {
     "data": {
      "text/plain": [
       "['red', 'green']"
      ]
     },
     "execution_count": 140,
     "metadata": {},
     "output_type": "execute_result"
    }
   ],
   "source": [
    "colors [  :  -3]"
   ]
  },
  {
   "cell_type": "markdown",
   "id": "773f744e-a238-4ad4-a26d-9e010fe42006",
   "metadata": {},
   "source": [
    "- getting list from some index to the end\n",
    "- <p style =\"color:red\">as the end is never included than what to do if we want up to last</p>\n",
    "- ` l [ start :  ] => empty end`"
   ]
  },
  {
   "cell_type": "code",
   "execution_count": 141,
   "id": "0bc7ee19-e55a-4702-a3c8-eebedea38487",
   "metadata": {},
   "outputs": [
    {
     "data": {
      "text/plain": [
       "['red', 'green', 'yellow', 'white', 'black']"
      ]
     },
     "execution_count": 141,
     "metadata": {},
     "output_type": "execute_result"
    }
   ],
   "source": [
    "colors"
   ]
  },
  {
   "cell_type": "code",
   "execution_count": 144,
   "id": "68c94de4-fd81-46f6-be11-afcdf2002313",
   "metadata": {},
   "outputs": [
    {
     "data": {
      "text/plain": [
       "['yellow', 'white']"
      ]
     },
     "execution_count": 144,
     "metadata": {},
     "output_type": "execute_result"
    }
   ],
   "source": [
    "\n",
    "colors [2: -1] # here -1 indicates the last item \n",
    "# but the last item was 'black'"
   ]
  },
  {
   "cell_type": "code",
   "execution_count": 146,
   "id": "51e22279-8894-4394-ad21-6cb8b3295c5c",
   "metadata": {},
   "outputs": [
    {
     "data": {
      "text/plain": [
       "['yellow', 'white', 'black']"
      ]
     },
     "execution_count": 146,
     "metadata": {},
     "output_type": "execute_result"
    }
   ],
   "source": [
    "# solution is always letting go\n",
    "colors [ 2: ] # and we got that"
   ]
  },
  {
   "cell_type": "markdown",
   "id": "7e2b29f0-a17d-4cec-a37b-09724cc86971",
   "metadata": {},
   "source": [
    "### 7. Built-in-Methods\n",
    "List provides humangous built in method for :\n",
    "1. adding items\n",
    "    - insert(inx, item) method\n",
    "    - append(item)\n",
    "    - square brackets for modification\n",
    "3. removing items\n",
    "    - del keyword\n",
    "    - remove (value) method\n",
    "    - pop([inx]) \n",
    "4. Organising \n",
    "    - sort() method\n",
    "        - sort(reverse=True)\n",
    "    - sorted (list) function\n",
    "    - reverse() method\n",
    "5. Concatenatig String\n",
    "    - binary + for concatenating 2 string\n",
    "6. Repeating \n",
    "    - [item, item] * int\n",
    "7. Copying Lists\n",
    "    - copy() method - shallow copy\n",
    "    - deepcopy() - deep copy"
   ]
  },
  {
   "cell_type": "markdown",
   "id": "332b47b4-5726-4982-94f6-a9883dea2a36",
   "metadata": {
    "jp-MarkdownHeadingCollapsed": true
   },
   "source": [
    "## 3. Describe how to access , modify and delete elements in a list with examples."
   ]
  },
  {
   "cell_type": "markdown",
   "id": "50f2aed8-9cec-4fb2-99e2-1e99af5d802e",
   "metadata": {},
   "source": [
    "List provides Following built in method for :\n",
    "1. adding items\n",
    "    - insert(inx, item) method\n",
    "    - append(item)\n",
    "    - square brackets for modification\n",
    "3. removing items\n",
    "    - del keyword\n",
    "    - remove (value) method\n",
    "    - pop([inx])\n",
    "4. accesing items\n",
    "    - [] square brackets\n",
    "        - `list_name[inx]` - index start from 0 and last item can be accessed using -1"
   ]
  },
  {
   "cell_type": "code",
   "execution_count": 181,
   "id": "0e2bf0b2-6642-419e-935e-71852ec97bdc",
   "metadata": {},
   "outputs": [],
   "source": [
    "colors = ['red', 'green', 'blue', 'yellow', 'white', 'black']\n",
    "\n"
   ]
  },
  {
   "cell_type": "code",
   "execution_count": 151,
   "id": "41d2ebb5-bc4a-4c56-90ed-3e52c50b5099",
   "metadata": {},
   "outputs": [
    {
     "data": {
      "text/plain": [
       "['red', 'green', 'blue', 'yellow', 'white', 'black']"
      ]
     },
     "execution_count": 151,
     "metadata": {},
     "output_type": "execute_result"
    }
   ],
   "source": [
    "colors"
   ]
  },
  {
   "cell_type": "markdown",
   "id": "f91389d2-6747-48d8-b45d-beb8ba354a63",
   "metadata": {},
   "source": [
    "### Accessing \n",
    "- square brackets}"
   ]
  },
  {
   "cell_type": "code",
   "execution_count": 155,
   "id": "753ec858-d55e-49e9-a537-855c5ec561ea",
   "metadata": {},
   "outputs": [
    {
     "data": {
      "text/plain": [
       "'red'"
      ]
     },
     "execution_count": 155,
     "metadata": {},
     "output_type": "execute_result"
    }
   ],
   "source": [
    "colors [0] # the first element"
   ]
  },
  {
   "cell_type": "code",
   "execution_count": 156,
   "id": "9453abce-d2d8-4133-b420-742310cbb3f2",
   "metadata": {},
   "outputs": [
    {
     "data": {
      "text/plain": [
       "'green'"
      ]
     },
     "execution_count": 156,
     "metadata": {},
     "output_type": "execute_result"
    }
   ],
   "source": [
    "colors [1] # second element is at 1st index"
   ]
  },
  {
   "cell_type": "markdown",
   "id": "a8db45d1-6265-4794-bb6b-3ddb15058674",
   "metadata": {},
   "source": [
    "#### getting the last item\n",
    "1. use negative index\n",
    "2. find out length using the `len (list)` function and access it `list[length-1]` as the indexx starts from 0"
   ]
  },
  {
   "cell_type": "code",
   "execution_count": 157,
   "id": "3538a0ab-07f0-46e7-be86-830da53c8561",
   "metadata": {},
   "outputs": [
    {
     "data": {
      "text/plain": [
       "['red', 'green', 'blue', 'yellow', 'white', 'black']"
      ]
     },
     "execution_count": 157,
     "metadata": {},
     "output_type": "execute_result"
    }
   ],
   "source": [
    "colors"
   ]
  },
  {
   "cell_type": "code",
   "execution_count": 159,
   "id": "63b8d520-a21c-4951-b93f-a51c81d438d5",
   "metadata": {},
   "outputs": [
    {
     "data": {
      "text/plain": [
       "'black'"
      ]
     },
     "execution_count": 159,
     "metadata": {},
     "output_type": "execute_result"
    }
   ],
   "source": [
    "colors[-1] # the very last element"
   ]
  },
  {
   "cell_type": "code",
   "execution_count": 160,
   "id": "adc81754-2f8c-45b4-999c-5e7c66d60063",
   "metadata": {},
   "outputs": [
    {
     "data": {
      "text/plain": [
       "'white'"
      ]
     },
     "execution_count": 160,
     "metadata": {},
     "output_type": "execute_result"
    }
   ],
   "source": [
    "colors[-2]  # the second last element"
   ]
  },
  {
   "cell_type": "code",
   "execution_count": 161,
   "id": "deb80e19-614c-4826-a6dc-8effc4317262",
   "metadata": {},
   "outputs": [],
   "source": [
    "# using the length function "
   ]
  },
  {
   "cell_type": "code",
   "execution_count": 163,
   "id": "18557410-2fdf-4a55-bafa-6bad64784e27",
   "metadata": {},
   "outputs": [],
   "source": [
    "le =  len(colors)"
   ]
  },
  {
   "cell_type": "code",
   "execution_count": 164,
   "id": "76dd09e9-9767-476e-ae9c-fe338a3fba09",
   "metadata": {},
   "outputs": [
    {
     "data": {
      "text/plain": [
       "6"
      ]
     },
     "execution_count": 164,
     "metadata": {},
     "output_type": "execute_result"
    }
   ],
   "source": [
    "le"
   ]
  },
  {
   "cell_type": "code",
   "execution_count": 165,
   "id": "c7c0ab5e-ef8d-438c-ad61-cd9513a48e61",
   "metadata": {},
   "outputs": [
    {
     "ename": "IndexError",
     "evalue": "list index out of range",
     "output_type": "error",
     "traceback": [
      "\u001b[0;31m---------------------------------------------------------------------------\u001b[0m",
      "\u001b[0;31mIndexError\u001b[0m                                Traceback (most recent call last)",
      "Cell \u001b[0;32mIn [165], line 1\u001b[0m\n\u001b[0;32m----> 1\u001b[0m \u001b[43mcolors\u001b[49m\u001b[43m[\u001b[49m\u001b[43mle\u001b[49m\u001b[43m]\u001b[49m\n",
      "\u001b[0;31mIndexError\u001b[0m: list index out of range"
     ]
    }
   ],
   "source": [
    "colors[le] # see what happens if 1 is not subtracted"
   ]
  },
  {
   "cell_type": "code",
   "execution_count": 167,
   "id": "20915f70-4117-4a92-81df-366e5c39aee2",
   "metadata": {},
   "outputs": [
    {
     "data": {
      "text/plain": [
       "'black'"
      ]
     },
     "execution_count": 167,
     "metadata": {},
     "output_type": "execute_result"
    }
   ],
   "source": [
    "colors[le-1] # same as colors[-1]"
   ]
  },
  {
   "cell_type": "markdown",
   "id": "80e724e7-5aa3-40af-ab5c-c2f2beb491d2",
   "metadata": {},
   "source": [
    "### Modifying\n",
    "- modifying is using the same as access but assingment happens in this\n",
    "- ` list_name[inx] = \"new value\"`\n",
    "- __Other use case is that the Questioneer may mean to say modification like addition , removing , sortin etc__ I dont know"
   ]
  },
  {
   "cell_type": "code",
   "execution_count": 168,
   "id": "232ab5e4-4f73-4324-ba6b-b1efecc23d36",
   "metadata": {},
   "outputs": [
    {
     "data": {
      "text/plain": [
       "['red', 'green', 'blue', 'yellow', 'white', 'black']"
      ]
     },
     "execution_count": 168,
     "metadata": {},
     "output_type": "execute_result"
    }
   ],
   "source": [
    "colors"
   ]
  },
  {
   "cell_type": "code",
   "execution_count": 169,
   "id": "33a341a3-3ed7-4ae2-8724-ebfb31befb8d",
   "metadata": {},
   "outputs": [],
   "source": [
    "colors [0] = \"Brown\""
   ]
  },
  {
   "cell_type": "code",
   "execution_count": 170,
   "id": "2d3ee61f-075a-4e62-b212-8213762629f4",
   "metadata": {},
   "outputs": [
    {
     "data": {
      "text/plain": [
       "['Brown', 'green', 'blue', 'yellow', 'white', 'black']"
      ]
     },
     "execution_count": 170,
     "metadata": {},
     "output_type": "execute_result"
    }
   ],
   "source": [
    "colors"
   ]
  },
  {
   "cell_type": "code",
   "execution_count": 171,
   "id": "03da5bf1-3540-42ec-b89c-5f509041b527",
   "metadata": {},
   "outputs": [],
   "source": [
    "colors [-1] = \"Zett Black\""
   ]
  },
  {
   "cell_type": "markdown",
   "id": "4393997b-6aad-41da-a92f-d272a486e124",
   "metadata": {},
   "source": [
    "#### Bored Yet changin one one item what if you want to change adjusting multipleitems\n",
    "- or want ot add multiple items\n",
    "- [ : ] remember mee "
   ]
  },
  {
   "cell_type": "markdown",
   "id": "3ebf4f7b-e3f0-4c29-886a-a65638c12c3c",
   "metadata": {},
   "source": [
    "**Here REmoval and addition is happening at the same time**"
   ]
  },
  {
   "cell_type": "code",
   "execution_count": 192,
   "id": "a0130230-f8df-4a3a-ac53-8183538c1a1e",
   "metadata": {},
   "outputs": [],
   "source": [
    "colors = ['red', 'green', 'blue', 'yellow', 'white', 'black']\n"
   ]
  },
  {
   "cell_type": "code",
   "execution_count": 193,
   "id": "bcd740d3-6b50-4059-8064-dd72f2b0a19f",
   "metadata": {},
   "outputs": [],
   "source": [
    "colors[ 0: 3 ] = [ \"olive green\", 'tomato', 'sky blue']"
   ]
  },
  {
   "cell_type": "code",
   "execution_count": 194,
   "id": "072c30e9-00fa-4e38-9cf3-cd76cf6a5c50",
   "metadata": {
    "scrolled": true
   },
   "outputs": [
    {
     "data": {
      "text/plain": [
       "['olive green', 'tomato', 'sky blue', 'yellow', 'white', 'black']"
      ]
     },
     "execution_count": 194,
     "metadata": {},
     "output_type": "execute_result"
    }
   ],
   "source": [
    "colors # boom"
   ]
  },
  {
   "attachments": {},
   "cell_type": "markdown",
   "id": "e6f48eb9-e32b-4140-a7f3-43eb1dff8a76",
   "metadata": {
    "jp-MarkdownHeadingCollapsed": true
   },
   "source": [
    "#### <p style=\"color:yellow\"> This is how you add multiple items but at cost of replacing some </p>\n",
    "- assignment operators with  [: ] slicing\n",
    "-  do notice the right hand side how the values are provided\n",
    "\n",
    "colors = ['red', 'green', 'blue', 'yellow', 'white', 'black']\n"
   ]
  },
  {
   "cell_type": "code",
   "execution_count": 249,
   "id": "13ee4f44-705c-48d3-939e-23d0d57e9ac3",
   "metadata": {},
   "outputs": [],
   "source": [
    "colors = ['red', 'green', 'blue', 'yellow', 'white', 'black']"
   ]
  },
  {
   "cell_type": "code",
   "execution_count": 250,
   "id": "da98e706-4d5c-45a9-b579-616375808b26",
   "metadata": {},
   "outputs": [],
   "source": [
    "# what this is doing is that it is gettig the list's frst 3 items than adding up the right hand side list \n",
    "# concatenation going on \n",
    "# also thana dding the last items back to it\n",
    "colors[ 0: 3 ] += [ \"olive green\", 'tomato', 'sky blue']"
   ]
  },
  {
   "cell_type": "code",
   "execution_count": 252,
   "id": "239a03ad-50ef-4200-880a-3bb57539b7e5",
   "metadata": {},
   "outputs": [
    {
     "data": {
      "text/plain": [
       "['red',\n",
       " 'green',\n",
       " 'blue',\n",
       " 'olive green',\n",
       " 'tomato',\n",
       " 'sky blue',\n",
       " 'yellow',\n",
       " 'white',\n",
       " 'black']"
      ]
     },
     "execution_count": 252,
     "metadata": {},
     "output_type": "execute_result"
    }
   ],
   "source": [
    "colors # behaving differently than in python docs"
   ]
  },
  {
   "cell_type": "code",
   "execution_count": 187,
   "id": "f708f60f-e0ff-444a-983a-08713265a3fc",
   "metadata": {},
   "outputs": [
    {
     "data": {
      "text/plain": [
       "126197052357440"
      ]
     },
     "execution_count": 187,
     "metadata": {},
     "output_type": "execute_result"
    }
   ],
   "source": [
    "id(colors) # same id meaning the object is not changing"
   ]
  },
  {
   "cell_type": "code",
   "execution_count": 182,
   "id": "4bd93056-03cf-4b51-a696-b702e8a884cf",
   "metadata": {},
   "outputs": [
    {
     "data": {
      "text/plain": [
       "['red', 'green', 'blue', 'yellow', 'white', 'black']"
      ]
     },
     "execution_count": 182,
     "metadata": {},
     "output_type": "execute_result"
    }
   ],
   "source": [
    "colors"
   ]
  },
  {
   "cell_type": "code",
   "execution_count": 184,
   "id": "cdb574a6-5d5f-4b3a-ab54-77c93a08922f",
   "metadata": {},
   "outputs": [
    {
     "data": {
      "text/plain": [
       "126197052357440"
      ]
     },
     "execution_count": 184,
     "metadata": {},
     "output_type": "execute_result"
    }
   ],
   "source": [
    "id (colors) # note this id "
   ]
  },
  {
   "cell_type": "code",
   "execution_count": 188,
   "id": "250c02f5-4dd7-4e25-ab31-f7ad1f62b8cd",
   "metadata": {},
   "outputs": [],
   "source": [
    "colors[ : -1] += [ \"grass\", 'sea', 'sky']"
   ]
  },
  {
   "cell_type": "code",
   "execution_count": 189,
   "id": "d0896f4b-24e9-4408-913b-a462fbc986bd",
   "metadata": {},
   "outputs": [
    {
     "data": {
      "text/plain": [
       "['red',\n",
       " 'green',\n",
       " 'blue',\n",
       " 'olive green',\n",
       " 'tomato',\n",
       " 'sky blue',\n",
       " 'yellow',\n",
       " 'white',\n",
       " 'grass',\n",
       " 'sea',\n",
       " 'sky',\n",
       " 'black']"
      ]
     },
     "execution_count": 189,
     "metadata": {},
     "output_type": "execute_result"
    }
   ],
   "source": [
    "colors"
   ]
  },
  {
   "cell_type": "code",
   "execution_count": 215,
   "id": "800af909-778e-421d-84a2-2cb6b6793d22",
   "metadata": {},
   "outputs": [],
   "source": [
    "colors = ['red', 'green', 'blue', 'yellow', 'white', 'black']\n"
   ]
  },
  {
   "cell_type": "code",
   "execution_count": 216,
   "id": "3455f5d8-9f44-49f2-8008-f483d7f9b7ce",
   "metadata": {},
   "outputs": [
    {
     "data": {
      "text/plain": [
       "126197052285312"
      ]
     },
     "execution_count": 216,
     "metadata": {},
     "output_type": "execute_result"
    }
   ],
   "source": [
    "id (colors)"
   ]
  },
  {
   "cell_type": "code",
   "execution_count": 217,
   "id": "777fe700-0b2c-4711-b260-72825ba48c7b",
   "metadata": {},
   "outputs": [],
   "source": [
    "colors[ :] = [\"grass\",\"wood\"] "
   ]
  },
  {
   "cell_type": "code",
   "execution_count": 218,
   "id": "26bb987a-bc56-4488-a5a2-0cade81e5c57",
   "metadata": {},
   "outputs": [
    {
     "data": {
      "text/plain": [
       "['grass', 'wood']"
      ]
     },
     "execution_count": 218,
     "metadata": {},
     "output_type": "execute_result"
    }
   ],
   "source": [
    "colors"
   ]
  },
  {
   "cell_type": "code",
   "execution_count": 219,
   "id": "006fbea5-e754-49e7-934e-ee9e5b7d8c4a",
   "metadata": {},
   "outputs": [
    {
     "data": {
      "text/plain": [
       "126197052285312"
      ]
     },
     "execution_count": 219,
     "metadata": {},
     "output_type": "execute_result"
    }
   ],
   "source": [
    "id (colors)"
   ]
  },
  {
   "cell_type": "markdown",
   "id": "c177a46a-257e-46a2-91af-a6af7ce08818",
   "metadata": {},
   "source": [
    "#### Adding items (Draw back is that you can insert one item at time in the 1st two)\n",
    "- insert(inx, value)\n",
    "- append(item)\n",
    "- extends([item.item1......]) - single argument list"
   ]
  },
  {
   "cell_type": "code",
   "execution_count": 256,
   "id": "153817a3-40a8-432e-acd4-41b3ca8401e4",
   "metadata": {},
   "outputs": [],
   "source": [
    "planets = []\n",
    "# empty list"
   ]
  },
  {
   "cell_type": "code",
   "execution_count": 257,
   "id": "a2b70fbb-8b63-406a-a8ef-02f104335526",
   "metadata": {},
   "outputs": [],
   "source": [
    "# append(value) method\n",
    "planets.append(\"mercury\")"
   ]
  },
  {
   "cell_type": "code",
   "execution_count": 258,
   "id": "43135f76-8d7c-4f26-99bf-a4b4d986f062",
   "metadata": {},
   "outputs": [
    {
     "data": {
      "text/plain": [
       "['mercury']"
      ]
     },
     "execution_count": 258,
     "metadata": {},
     "output_type": "execute_result"
    }
   ],
   "source": [
    "planets"
   ]
  },
  {
   "cell_type": "code",
   "execution_count": 259,
   "id": "a8b9459a-2840-463d-aca8-0f66de54f9ab",
   "metadata": {},
   "outputs": [],
   "source": [
    "planets.append(\"venus\")"
   ]
  },
  {
   "cell_type": "code",
   "execution_count": 260,
   "id": "b8decd3a-eab2-4136-97a5-cbeb8b053a3a",
   "metadata": {},
   "outputs": [
    {
     "data": {
      "text/plain": [
       "['mercury', 'venus']"
      ]
     },
     "execution_count": 260,
     "metadata": {},
     "output_type": "execute_result"
    }
   ],
   "source": [
    "planets"
   ]
  },
  {
   "cell_type": "markdown",
   "id": "7bc79238-45ca-4057-9be2-b8a93ed07d41",
   "metadata": {},
   "source": [
    "- insert(inx,value) \n",
    "    - insert items at a given index"
   ]
  },
  {
   "cell_type": "code",
   "execution_count": 261,
   "id": "5a49f754-2906-4dae-aca6-3cc6e26b8675",
   "metadata": {},
   "outputs": [
    {
     "data": {
      "text/plain": [
       "['mercury', 'venus']"
      ]
     },
     "execution_count": 261,
     "metadata": {},
     "output_type": "execute_result"
    }
   ],
   "source": [
    "planets"
   ]
  },
  {
   "cell_type": "code",
   "execution_count": 262,
   "id": "f325759b-bd1a-4517-a39b-bb60d8cbc865",
   "metadata": {},
   "outputs": [],
   "source": [
    "planets.insert(1,'earth')"
   ]
  },
  {
   "cell_type": "code",
   "execution_count": 263,
   "id": "ce02e9a0-d7c1-4c18-ba53-0b29a688b878",
   "metadata": {},
   "outputs": [
    {
     "data": {
      "text/plain": [
       "['mercury', 'earth', 'venus']"
      ]
     },
     "execution_count": 263,
     "metadata": {},
     "output_type": "execute_result"
    }
   ],
   "source": [
    "planets"
   ]
  },
  {
   "cell_type": "code",
   "execution_count": 264,
   "id": "816e4240-683f-4c67-b844-4ce32b756cd4",
   "metadata": {},
   "outputs": [],
   "source": [
    "planets.insert(-1,'mars') # see what happens is that it pushes the preexisting element to forward"
   ]
  },
  {
   "cell_type": "code",
   "execution_count": 265,
   "id": "75f9f2a1-b8a2-4499-9e36-c41ae1f26ad6",
   "metadata": {},
   "outputs": [
    {
     "data": {
      "text/plain": [
       "['mercury', 'earth', 'mars', 'venus']"
      ]
     },
     "execution_count": 265,
     "metadata": {},
     "output_type": "execute_result"
    }
   ],
   "source": [
    "planets"
   ]
  },
  {
   "cell_type": "code",
   "execution_count": 254,
   "id": "b1561173-9efe-4d9b-8a41-df6623720ec7",
   "metadata": {},
   "outputs": [
    {
     "ename": "TypeError",
     "evalue": "list.extend() takes exactly one argument (3 given)",
     "output_type": "error",
     "traceback": [
      "\u001b[0;31m---------------------------------------------------------------------------\u001b[0m",
      "\u001b[0;31mTypeError\u001b[0m                                 Traceback (most recent call last)",
      "Cell \u001b[0;32mIn [254], line 1\u001b[0m\n\u001b[0;32m----> 1\u001b[0m \u001b[43mplanets\u001b[49m\u001b[38;5;241;43m.\u001b[39;49m\u001b[43mextend\u001b[49m\u001b[43m(\u001b[49m\u001b[38;5;124;43m\"\u001b[39;49m\u001b[38;5;124;43mroot\u001b[39;49m\u001b[38;5;124;43m\"\u001b[39;49m\u001b[43m,\u001b[49m\u001b[43m \u001b[49m\u001b[38;5;124;43m'\u001b[39;49m\u001b[38;5;124;43mrooh\u001b[39;49m\u001b[38;5;124;43m'\u001b[39;49m\u001b[43m,\u001b[49m\u001b[38;5;124;43m'\u001b[39;49m\u001b[38;5;124;43mgiraffe\u001b[39;49m\u001b[38;5;124;43m'\u001b[39;49m\u001b[43m)\u001b[49m\n",
      "\u001b[0;31mTypeError\u001b[0m: list.extend() takes exactly one argument (3 given)"
     ]
    }
   ],
   "source": [
    "planets.extend(\"root\", 'rooh','giraffe') # takes exactly one argument"
   ]
  },
  {
   "cell_type": "code",
   "execution_count": 268,
   "id": "7648d975-b0e1-41c1-b8ce-4d249fdec374",
   "metadata": {},
   "outputs": [],
   "source": [
    "planets.extend([\"root\", 'rooh','giraffe'])"
   ]
  },
  {
   "cell_type": "code",
   "execution_count": 269,
   "id": "52738f2c-3fdb-45a2-969c-5be027cad043",
   "metadata": {},
   "outputs": [
    {
     "data": {
      "text/plain": [
       "['mercury', 'earth', 'mars', 'venus', 'root', 'rooh', 'giraffe']"
      ]
     },
     "execution_count": 269,
     "metadata": {},
     "output_type": "execute_result"
    }
   ],
   "source": [
    "planets"
   ]
  },
  {
   "cell_type": "markdown",
   "id": "ed113ccb-9906-49c4-8215-ec9712fdf5ed",
   "metadata": {},
   "source": [
    "### Deleting\n",
    "- del keyword\n",
    "    - `del listname[inx]`\n",
    "- remove(item) method\n",
    "    - `list_name .remove(value)`\n",
    "- pop(inx)  method **<span style =\"color:yellow\">returns</span>** and remove a element from the list\n",
    "    - ` listname .pop() # pops the last item`\n",
    "    - `list name.pop(inx) # pops the item from the index` "
   ]
  },
  {
   "cell_type": "code",
   "execution_count": 283,
   "id": "e46bb3fd-ebd1-4102-b6bd-0831df4cfaa2",
   "metadata": {},
   "outputs": [],
   "source": [
    "colors  =['red',\n",
    " 'green',\n",
    " 'blue',\n",
    " 'olive green',\n",
    " 'tomato',\n",
    " 'sky blue',\n",
    " 'yellow',\n",
    " 'white',\n",
    " 'black']"
   ]
  },
  {
   "cell_type": "code",
   "execution_count": 276,
   "id": "41c75310-e165-4679-971b-db4439e53c12",
   "metadata": {},
   "outputs": [
    {
     "data": {
      "text/plain": [
       "'black'"
      ]
     },
     "execution_count": 276,
     "metadata": {},
     "output_type": "execute_result"
    }
   ],
   "source": [
    "# pop() without argument\n",
    "colors.pop()"
   ]
  },
  {
   "cell_type": "code",
   "execution_count": 277,
   "id": "06186dfd-cda7-4fc3-b582-b5d910f0197c",
   "metadata": {},
   "outputs": [
    {
     "data": {
      "text/plain": [
       "['red',\n",
       " 'green',\n",
       " 'blue',\n",
       " 'olive green',\n",
       " 'tomato',\n",
       " 'sky blue',\n",
       " 'yellow',\n",
       " 'white']"
      ]
     },
     "execution_count": 277,
     "metadata": {},
     "output_type": "execute_result"
    }
   ],
   "source": [
    "colors"
   ]
  },
  {
   "cell_type": "code",
   "execution_count": 278,
   "id": "33d9db8b-ba62-44dc-9005-5a8222f2444a",
   "metadata": {},
   "outputs": [
    {
     "data": {
      "text/plain": [
       "'tomato'"
      ]
     },
     "execution_count": 278,
     "metadata": {},
     "output_type": "execute_result"
    }
   ],
   "source": [
    "colors.pop(4) # from index 4"
   ]
  },
  {
   "cell_type": "code",
   "execution_count": 284,
   "id": "32fe4007-50fc-41a0-8ab5-a11b11103baf",
   "metadata": {},
   "outputs": [
    {
     "data": {
      "text/plain": [
       "['red',\n",
       " 'green',\n",
       " 'blue',\n",
       " 'olive green',\n",
       " 'tomato',\n",
       " 'sky blue',\n",
       " 'yellow',\n",
       " 'white',\n",
       " 'black']"
      ]
     },
     "execution_count": 284,
     "metadata": {},
     "output_type": "execute_result"
    }
   ],
   "source": [
    "# using the remove(value) method\n",
    "\n",
    "colors"
   ]
  },
  {
   "cell_type": "code",
   "execution_count": 285,
   "id": "8874d6af-69d1-4aee-b521-e30f7f9f6766",
   "metadata": {},
   "outputs": [],
   "source": [
    "colors.remove('olive green') # nothing gets returned"
   ]
  },
  {
   "cell_type": "code",
   "execution_count": 286,
   "id": "1076c856-c18f-4b12-aa7d-cc36f563c29f",
   "metadata": {},
   "outputs": [
    {
     "data": {
      "text/plain": [
       "['red', 'green', 'blue', 'tomato', 'sky blue', 'yellow', 'white', 'black']"
      ]
     },
     "execution_count": 286,
     "metadata": {},
     "output_type": "execute_result"
    }
   ],
   "source": [
    "colors"
   ]
  },
  {
   "cell_type": "code",
   "execution_count": 287,
   "id": "e37e9897-28ce-4f18-b37d-5aafd8acd340",
   "metadata": {},
   "outputs": [],
   "source": [
    "# remove () removes only the first instance\n",
    "colors.append(\"red\")"
   ]
  },
  {
   "cell_type": "code",
   "execution_count": 288,
   "id": "312c528a-9e63-4b5b-a785-3c39b7e69f61",
   "metadata": {},
   "outputs": [],
   "source": [
    "# using the while loop to remove all\n",
    "while 'red' in colors:\n",
    "    colors.remove('red')"
   ]
  },
  {
   "cell_type": "code",
   "execution_count": 290,
   "id": "d13f9877-f940-4c5e-9b49-b7848d5420cc",
   "metadata": {},
   "outputs": [
    {
     "data": {
      "text/plain": [
       "['green', 'blue', 'tomato', 'sky blue', 'yellow', 'white', 'black']"
      ]
     },
     "execution_count": 290,
     "metadata": {},
     "output_type": "execute_result"
    }
   ],
   "source": [
    "colors  #removed all the instance"
   ]
  },
  {
   "cell_type": "code",
   "execution_count": 292,
   "id": "92e5d761-8ea5-4046-bbde-a5f011bb0f66",
   "metadata": {},
   "outputs": [],
   "source": [
    "# del keyword\n",
    "\n",
    "del colors[5]"
   ]
  },
  {
   "cell_type": "code",
   "execution_count": 293,
   "id": "14a76ee5-82c1-4150-9066-366d77a0dcee",
   "metadata": {},
   "outputs": [
    {
     "data": {
      "text/plain": [
       "['green', 'blue', 'tomato', 'sky blue', 'yellow', 'black']"
      ]
     },
     "execution_count": 293,
     "metadata": {},
     "output_type": "execute_result"
    }
   ],
   "source": [
    "colors"
   ]
  },
  {
   "cell_type": "code",
   "execution_count": 294,
   "id": "66a816b3-2d99-4650-92ab-7ed7f026cbb5",
   "metadata": {},
   "outputs": [],
   "source": [
    "del colors"
   ]
  },
  {
   "cell_type": "code",
   "execution_count": 297,
   "id": "bfee22c8-eddf-44a7-ac22-3de9d4dbd0b3",
   "metadata": {},
   "outputs": [
    {
     "ename": "NameError",
     "evalue": "name 'colors' is not defined",
     "output_type": "error",
     "traceback": [
      "\u001b[0;31m---------------------------------------------------------------------------\u001b[0m",
      "\u001b[0;31mNameError\u001b[0m                                 Traceback (most recent call last)",
      "Cell \u001b[0;32mIn [297], line 1\u001b[0m\n\u001b[0;32m----> 1\u001b[0m \u001b[38;5;28mprint\u001b[39m(\u001b[43mcolors\u001b[49m)\n",
      "\u001b[0;31mNameError\u001b[0m: name 'colors' is not defined"
     ]
    }
   ],
   "source": [
    "print(colors) # deleted the whole instance"
   ]
  },
  {
   "cell_type": "markdown",
   "id": "f9919eab-5f1e-4ca3-8577-eb9a79cac209",
   "metadata": {
    "jp-MarkdownHeadingCollapsed": true
   },
   "source": [
    "## 4. Compare and contrast tuples and lists with examples"
   ]
  },
  {
   "cell_type": "markdown",
   "id": "68c29f44-4e49-437d-8ede-5a6c422dc9ad",
   "metadata": {},
   "source": [
    "List and tuple both belong to sequential datastructure category.\n",
    "**Below are the differences (some) between them**\n",
    "- Mutable and Immutable \n",
    "    - List are mutable where as the Tuple belongs to Immutable\n",
    "- Creation \n",
    "    - List and Tuple also differs on the bases of their creation\n",
    "- Memory \n",
    "    - Tuple are memory Efficient Than List and faster access \n"
   ]
  },
  {
   "cell_type": "markdown",
   "id": "f80218c6-8cf7-40c4-aa4f-03fd2c72de49",
   "metadata": {},
   "source": [
    "#### Mutable and Immutable\n",
    "- lists are Mutable that is data can be added and removed from the lists\n",
    "- tuples on the other hand are immutable once defined its data cant be changed"
   ]
  },
  {
   "cell_type": "code",
   "execution_count": 298,
   "id": "35ced4e3-bd58-43a0-8b32-46d229376287",
   "metadata": {},
   "outputs": [],
   "source": [
    "a_list = [1,2,3,4,5]\n",
    "a_tuple = (1,2,3,4,5)"
   ]
  },
  {
   "cell_type": "code",
   "execution_count": 304,
   "id": "5a3fa0fe-654d-4ef2-96be-6f551026f0ac",
   "metadata": {},
   "outputs": [],
   "source": [
    "a_list[0] = 0"
   ]
  },
  {
   "cell_type": "code",
   "execution_count": 305,
   "id": "f062b097-f0de-4745-b8a6-f5b28ed1eccd",
   "metadata": {},
   "outputs": [
    {
     "data": {
      "text/plain": [
       "[0, 2, 3, 4, 5, 6]"
      ]
     },
     "execution_count": 305,
     "metadata": {},
     "output_type": "execute_result"
    }
   ],
   "source": [
    "a_list"
   ]
  },
  {
   "cell_type": "code",
   "execution_count": 306,
   "id": "0c15822d-13ea-422d-ac4d-763817aa470a",
   "metadata": {},
   "outputs": [
    {
     "ename": "TypeError",
     "evalue": "'tuple' object does not support item assignment",
     "output_type": "error",
     "traceback": [
      "\u001b[0;31m---------------------------------------------------------------------------\u001b[0m",
      "\u001b[0;31mTypeError\u001b[0m                                 Traceback (most recent call last)",
      "Cell \u001b[0;32mIn [306], line 1\u001b[0m\n\u001b[0;32m----> 1\u001b[0m \u001b[43ma_tuple\u001b[49m\u001b[43m[\u001b[49m\u001b[38;5;241;43m0\u001b[39;49m\u001b[43m]\u001b[49m \u001b[38;5;241m=\u001b[39m \u001b[38;5;241m1\u001b[39m\n",
      "\u001b[0;31mTypeError\u001b[0m: 'tuple' object does not support item assignment"
     ]
    }
   ],
   "source": [
    "a_tuple[0] = 1 # error cuz data can't be changed"
   ]
  },
  {
   "cell_type": "markdown",
   "id": "e6ff6a95-4b9b-4e4f-8c39-da1c05f45ece",
   "metadata": {},
   "source": [
    "- Dynamic nature of the list"
   ]
  },
  {
   "cell_type": "code",
   "execution_count": 307,
   "id": "63fb10b3-6362-48cb-ae70-82e8babb524a",
   "metadata": {},
   "outputs": [
    {
     "data": {
      "text/plain": [
       "6"
      ]
     },
     "execution_count": 307,
     "metadata": {},
     "output_type": "execute_result"
    }
   ],
   "source": [
    "len(a_list)"
   ]
  },
  {
   "cell_type": "code",
   "execution_count": 308,
   "id": "7ffef321-b064-4597-9a1d-f79f60946393",
   "metadata": {},
   "outputs": [
    {
     "data": {
      "text/plain": [
       "5"
      ]
     },
     "execution_count": 308,
     "metadata": {},
     "output_type": "execute_result"
    }
   ],
   "source": [
    "len(a_tuple)"
   ]
  },
  {
   "cell_type": "code",
   "execution_count": 311,
   "id": "ef66f595-9cdc-4841-bc80-7404e9e610a2",
   "metadata": {},
   "outputs": [],
   "source": [
    "a_list .append( 88)"
   ]
  },
  {
   "cell_type": "code",
   "execution_count": 312,
   "id": "e01534db-21c6-4bef-abcf-13553e0be0d4",
   "metadata": {},
   "outputs": [
    {
     "data": {
      "text/plain": [
       "7"
      ]
     },
     "execution_count": 312,
     "metadata": {},
     "output_type": "execute_result"
    }
   ],
   "source": [
    "len(a_list)"
   ]
  },
  {
   "cell_type": "code",
   "execution_count": 314,
   "id": "4ef3b8f6-afc6-43e3-9c0b-58f747492e99",
   "metadata": {},
   "outputs": [
    {
     "ename": "AttributeError",
     "evalue": "'tuple' object has no attribute 'append'",
     "output_type": "error",
     "traceback": [
      "\u001b[0;31m---------------------------------------------------------------------------\u001b[0m",
      "\u001b[0;31mAttributeError\u001b[0m                            Traceback (most recent call last)",
      "Cell \u001b[0;32mIn [314], line 1\u001b[0m\n\u001b[0;32m----> 1\u001b[0m \u001b[43ma_tuple\u001b[49m\u001b[38;5;241;43m.\u001b[39;49m\u001b[43mappend\u001b[49m(\u001b[38;5;241m33\u001b[39m)\n",
      "\u001b[0;31mAttributeError\u001b[0m: 'tuple' object has no attribute 'append'"
     ]
    }
   ],
   "source": [
    "a_tuple.append(33)  # no such method"
   ]
  },
  {
   "cell_type": "markdown",
   "id": "9d63aa85-8fc8-4865-b2ad-abda11008f79",
   "metadata": {},
   "source": [
    "#### CReation\n",
    "- list are associated with `[]` square brackets\n",
    "- tuples are associated with `()` round brackets\n",
    "- also the type casting method are `list()` and `tuple()`\n"
   ]
  },
  {
   "cell_type": "code",
   "execution_count": 320,
   "id": "f0b09d87-10ba-4a96-8280-26ba5e1a1bb1",
   "metadata": {},
   "outputs": [],
   "source": [
    "a_li = [] # empty list"
   ]
  },
  {
   "cell_type": "code",
   "execution_count": 321,
   "id": "8575c9cf-47dc-4bcf-88b8-4c6976108d0e",
   "metadata": {},
   "outputs": [],
   "source": [
    "a_tu = () # empty tuple"
   ]
  },
  {
   "cell_type": "code",
   "execution_count": 322,
   "id": "f8412acb-8691-4237-b13d-557eadf7a68e",
   "metadata": {},
   "outputs": [],
   "source": [
    "a_li1= [1] # single item list"
   ]
  },
  {
   "cell_type": "code",
   "execution_count": 326,
   "id": "4b52e09c-4955-4ffb-b92b-ea958c9110a1",
   "metadata": {},
   "outputs": [
    {
     "data": {
      "text/plain": [
       "list"
      ]
     },
     "execution_count": 326,
     "metadata": {},
     "output_type": "execute_result"
    }
   ],
   "source": [
    "type(a_li1)"
   ]
  },
  {
   "cell_type": "code",
   "execution_count": 323,
   "id": "2445e0a9-fa44-41f4-8b84-fed012859eb5",
   "metadata": {},
   "outputs": [],
   "source": [
    "a_tu1 = (1) # wont create a single itemed tuple"
   ]
  },
  {
   "cell_type": "code",
   "execution_count": 327,
   "id": "aa37c8f8-6258-43a8-858d-62d4301cc848",
   "metadata": {},
   "outputs": [
    {
     "data": {
      "text/plain": [
       "int"
      ]
     },
     "execution_count": 327,
     "metadata": {},
     "output_type": "execute_result"
    }
   ],
   "source": [
    "type(a_tu1) # instead a int type is created"
   ]
  },
  {
   "cell_type": "code",
   "execution_count": 328,
   "id": "93c82742-d65e-4d52-90a9-e64e9d5758b1",
   "metadata": {},
   "outputs": [],
   "source": [
    "a_tu2 = 1, # one way to create a single itemed tuple"
   ]
  },
  {
   "cell_type": "code",
   "execution_count": 330,
   "id": "d64307e0-039c-4bf6-a226-c92e2bf6ff27",
   "metadata": {},
   "outputs": [
    {
     "data": {
      "text/plain": [
       "(1,)"
      ]
     },
     "execution_count": 330,
     "metadata": {},
     "output_type": "execute_result"
    }
   ],
   "source": [
    "a_tu2 # see it created"
   ]
  },
  {
   "cell_type": "markdown",
   "id": "28a36662-ab46-417d-bf40-25fcc73e8d26",
   "metadata": {},
   "source": [
    "- **interchanging the list to tuple and tuple to list**\n",
    "- list() and tuple() functions are used"
   ]
  },
  {
   "cell_type": "code",
   "execution_count": 332,
   "id": "a1779c13-ac6a-40f2-a835-aadac90b1c6e",
   "metadata": {},
   "outputs": [],
   "source": [
    "num = [1,2,3,4,5]"
   ]
  },
  {
   "cell_type": "code",
   "execution_count": 336,
   "id": "60d8c0ff-3028-45a3-a1e2-4544651d6a3f",
   "metadata": {},
   "outputs": [],
   "source": [
    "num_tuple = tuple (num) # returns a new object of tuple type"
   ]
  },
  {
   "cell_type": "code",
   "execution_count": 337,
   "id": "691abd0c-49ae-4a80-87bd-7170b0b51972",
   "metadata": {},
   "outputs": [
    {
     "data": {
      "text/plain": [
       "(1, 2, 3, 4, 5)"
      ]
     },
     "execution_count": 337,
     "metadata": {},
     "output_type": "execute_result"
    }
   ],
   "source": [
    "num_tuple"
   ]
  },
  {
   "cell_type": "code",
   "execution_count": 338,
   "id": "207ea662-352d-45dc-ad89-b534c10fc99c",
   "metadata": {},
   "outputs": [],
   "source": [
    "num_list = list(num_tuple) "
   ]
  },
  {
   "cell_type": "code",
   "execution_count": 339,
   "id": "2299a383-dcae-4d82-85cb-9f73924e4afe",
   "metadata": {},
   "outputs": [
    {
     "data": {
      "text/plain": [
       "[1, 2, 3, 4, 5]"
      ]
     },
     "execution_count": 339,
     "metadata": {},
     "output_type": "execute_result"
    }
   ],
   "source": [
    "num_list"
   ]
  },
  {
   "cell_type": "markdown",
   "id": "d89638ae-5b81-456f-b560-065e228ba391",
   "metadata": {},
   "source": [
    "#### Memory\n",
    "- tuple are more memory effecient"
   ]
  },
  {
   "cell_type": "code",
   "execution_count": 340,
   "id": "d17dbf2a-b43d-469d-b844-a5f30505dbb1",
   "metadata": {},
   "outputs": [],
   "source": [
    "a_list = [1,2,3,4,5]\n",
    "a_tuple = (1,2,3,4,5)"
   ]
  },
  {
   "cell_type": "code",
   "execution_count": 341,
   "id": "31eeb840-f212-4ca1-a58f-7c4dbb00c876",
   "metadata": {},
   "outputs": [],
   "source": [
    "import sys"
   ]
  },
  {
   "cell_type": "code",
   "execution_count": 342,
   "id": "68f5cf72-4420-428c-8bd9-bc87e22bfcc1",
   "metadata": {},
   "outputs": [
    {
     "data": {
      "text/plain": [
       "104"
      ]
     },
     "execution_count": 342,
     "metadata": {},
     "output_type": "execute_result"
    }
   ],
   "source": [
    "sys.getsizeof(a_list)"
   ]
  },
  {
   "cell_type": "code",
   "execution_count": 343,
   "id": "b0326bab-7561-4ded-ae0a-36740b5d8782",
   "metadata": {},
   "outputs": [
    {
     "data": {
      "text/plain": [
       "80"
      ]
     },
     "execution_count": 343,
     "metadata": {},
     "output_type": "execute_result"
    }
   ],
   "source": [
    "sys.getsizeof(a_tuple)"
   ]
  },
  {
   "cell_type": "markdown",
   "id": "5f3bf5cf-c98f-43fe-a713-3af6f7b4e169",
   "metadata": {},
   "source": [
    "## 5. Describe the key features of sets and provide examples of their use"
   ]
  },
  {
   "cell_type": "markdown",
   "id": "216f4b26-555a-4465-b674-078bcfe5a875",
   "metadata": {},
   "source": [
    "- Sets are **unordered**.\n",
    "- Set elements are unique,**Duplicates** elements are not allowed\n",
    "- A set itself may be modified , but the elements contained in the set must be **immutable** type"
   ]
  },
  {
   "cell_type": "markdown",
   "id": "a5bd5ba9-0a81-4995-844a-e3e07684b0f7",
   "metadata": {},
   "source": [
    "#### Creation\n",
    "1. `x = set(<iterable>)`\n",
    "2. `{<obj>,<obj>,<obj>}` here the objects must be immutable"
   ]
  },
  {
   "cell_type": "code",
   "execution_count": 10,
   "id": "79477b1e-72cf-41f0-8035-2a68f567a08e",
   "metadata": {},
   "outputs": [],
   "source": [
    "x = set( ['foo','bar','baz','foo','quz']) # from list"
   ]
  },
  {
   "cell_type": "code",
   "execution_count": 345,
   "id": "3345c59f-ff56-4064-9cef-f5f487edf183",
   "metadata": {},
   "outputs": [
    {
     "data": {
      "text/plain": [
       "{'bar', 'baz', 'foo', 'quz'}"
      ]
     },
     "execution_count": 345,
     "metadata": {},
     "output_type": "execute_result"
    }
   ],
   "source": [
    "x"
   ]
  },
  {
   "cell_type": "code",
   "execution_count": 347,
   "id": "8c69bc64-e22b-4ac7-b5f0-970c2352ac55",
   "metadata": {},
   "outputs": [],
   "source": [
    "x = set(('foo','bar','baz','foo')) # from tuple"
   ]
  },
  {
   "cell_type": "code",
   "execution_count": 348,
   "id": "91a62547-c3e4-4fda-9bec-38cb36fb106d",
   "metadata": {},
   "outputs": [
    {
     "data": {
      "text/plain": [
       "{'bar', 'baz', 'foo'}"
      ]
     },
     "execution_count": 348,
     "metadata": {},
     "output_type": "execute_result"
    }
   ],
   "source": [
    "x"
   ]
  },
  {
   "cell_type": "code",
   "execution_count": 349,
   "id": "3024e59c-4556-42b4-ad65-6b02adea3467",
   "metadata": {},
   "outputs": [],
   "source": [
    "# from stings \n",
    "s = 'namrta'"
   ]
  },
  {
   "cell_type": "code",
   "execution_count": 350,
   "id": "3b755ff3-92e1-420a-a944-5bea7bf4f136",
   "metadata": {},
   "outputs": [],
   "source": [
    "x = set(s)"
   ]
  },
  {
   "cell_type": "code",
   "execution_count": 352,
   "id": "99a03d51-1372-4b23-9b72-5b4e112bbfaf",
   "metadata": {},
   "outputs": [
    {
     "data": {
      "text/plain": [
       "{'a', 'm', 'n', 'r', 't'}"
      ]
     },
     "execution_count": 352,
     "metadata": {},
     "output_type": "execute_result"
    }
   ],
   "source": [
    "x # duplicates gets removed"
   ]
  },
  {
   "cell_type": "code",
   "execution_count": 353,
   "id": "12e257fc-758e-458b-b5ec-e93b5e009c1a",
   "metadata": {},
   "outputs": [],
   "source": [
    "# sets from set literal {}\n",
    "\n",
    "x = {'one','two','one','five'}"
   ]
  },
  {
   "cell_type": "markdown",
   "id": "5b0e2c94-275a-47b8-8547-0fbf30f8464b",
   "metadata": {},
   "source": [
    "- **mulitple items of different types (but immutable in nature)** "
   ]
  },
  {
   "cell_type": "code",
   "execution_count": 356,
   "id": "4099db22-e8ec-457e-97d0-fb08277019fb",
   "metadata": {},
   "outputs": [],
   "source": [
    "\n",
    "se  = {'namrta',12,55,True,('shillong','ding')}"
   ]
  },
  {
   "cell_type": "code",
   "execution_count": 357,
   "id": "2c081170-fcb3-49a7-9f29-23ba66fcc499",
   "metadata": {},
   "outputs": [
    {
     "data": {
      "text/plain": [
       "{('shillong', 'ding'), 12, 55, True, 'namrta'}"
      ]
     },
     "execution_count": 357,
     "metadata": {},
     "output_type": "execute_result"
    }
   ],
   "source": [
    "se"
   ]
  },
  {
   "cell_type": "markdown",
   "id": "53614ef7-402b-4876-9245-0edde99c4e79",
   "metadata": {},
   "source": [
    "- **<span style=\"color:red\">mutable items are not valid in sets </span>**"
   ]
  },
  {
   "cell_type": "code",
   "execution_count": 358,
   "id": "ee33b0ee-b880-4185-8fb9-7ad66a0924d8",
   "metadata": {},
   "outputs": [
    {
     "ename": "TypeError",
     "evalue": "unhashable type: 'list'",
     "output_type": "error",
     "traceback": [
      "\u001b[0;31m---------------------------------------------------------------------------\u001b[0m",
      "\u001b[0;31mTypeError\u001b[0m                                 Traceback (most recent call last)",
      "Cell \u001b[0;32mIn [358], line 2\u001b[0m\n\u001b[1;32m      1\u001b[0m \u001b[38;5;66;03m# will result in error\u001b[39;00m\n\u001b[0;32m----> 2\u001b[0m se \u001b[38;5;241m=\u001b[39m  {\u001b[38;5;124m'\u001b[39m\u001b[38;5;124mnamrta\u001b[39m\u001b[38;5;124m'\u001b[39m,\u001b[38;5;241m12\u001b[39m,\u001b[38;5;241m55\u001b[39m,\u001b[38;5;28;01mTrue\u001b[39;00m,[\u001b[38;5;124m'\u001b[39m\u001b[38;5;124mshillong\u001b[39m\u001b[38;5;124m'\u001b[39m,\u001b[38;5;124m'\u001b[39m\u001b[38;5;124mding\u001b[39m\u001b[38;5;124m'\u001b[39m]}\n",
      "\u001b[0;31mTypeError\u001b[0m: unhashable type: 'list'"
     ]
    }
   ],
   "source": [
    "# will result in error\n",
    "se =  {'namrta',12,55,True,['shillong','ding']}"
   ]
  },
  {
   "cell_type": "markdown",
   "id": "e7e3fccc-7b00-4912-a047-174e709e700b",
   "metadata": {},
   "source": [
    "- **creating empty set**\n",
    "- can only be created as set() function results"
   ]
  },
  {
   "cell_type": "code",
   "execution_count": 4,
   "id": "54a27b82-1d3a-4eec-aa23-ac72189cef42",
   "metadata": {},
   "outputs": [],
   "source": [
    "x = {} "
   ]
  },
  {
   "cell_type": "code",
   "execution_count": 5,
   "id": "2e44f235-67ef-4a24-9e2d-2c52681c8068",
   "metadata": {},
   "outputs": [
    {
     "data": {
      "text/plain": [
       "dict"
      ]
     },
     "execution_count": 5,
     "metadata": {},
     "output_type": "execute_result"
    }
   ],
   "source": [
    "type (x)  # its dictionary here"
   ]
  },
  {
   "cell_type": "code",
   "execution_count": 6,
   "id": "f82bba3d-eb0b-43a5-8bdf-66ecf380e0d1",
   "metadata": {},
   "outputs": [],
   "source": [
    "y = set() # only way to create empty set"
   ]
  },
  {
   "cell_type": "code",
   "execution_count": 7,
   "id": "e510fb20-baf2-4af3-a6df-e315c6fcfa68",
   "metadata": {},
   "outputs": [
    {
     "data": {
      "text/plain": [
       "set()"
      ]
     },
     "execution_count": 7,
     "metadata": {},
     "output_type": "execute_result"
    }
   ],
   "source": [
    "y"
   ]
  },
  {
   "cell_type": "markdown",
   "id": "09359ec2-b97f-4b80-82f5-8a8c2d93028a",
   "metadata": {},
   "source": [
    "- An empty set is falsy in  a Boolean Contex"
   ]
  },
  {
   "cell_type": "code",
   "execution_count": 8,
   "id": "8f8dd840-3bcf-473c-bfe6-e589f5e457d8",
   "metadata": {},
   "outputs": [
    {
     "data": {
      "text/plain": [
       "False"
      ]
     },
     "execution_count": 8,
     "metadata": {},
     "output_type": "execute_result"
    }
   ],
   "source": [
    "bool (y)"
   ]
  },
  {
   "cell_type": "code",
   "execution_count": 9,
   "id": "54d7be0b-390c-4f9a-b3df-64d3f0071de8",
   "metadata": {},
   "outputs": [
    {
     "data": {
      "text/plain": [
       "True"
      ]
     },
     "execution_count": 9,
     "metadata": {},
     "output_type": "execute_result"
    }
   ],
   "source": [
    "bool({'a'})"
   ]
  },
  {
   "cell_type": "code",
   "execution_count": 11,
   "id": "50aec558-2c3f-404b-8ba7-f133f46f9fdd",
   "metadata": {},
   "outputs": [
    {
     "data": {
      "text/plain": [
       "{'bar', 'baz', 'foo', 'quz'}"
      ]
     },
     "execution_count": 11,
     "metadata": {},
     "output_type": "execute_result"
    }
   ],
   "source": [
    "x "
   ]
  },
  {
   "cell_type": "code",
   "execution_count": 17,
   "id": "9c9de0a1-3927-4c87-9a07-7a3bd95556c6",
   "metadata": {},
   "outputs": [
    {
     "data": {
      "text/plain": [
       "4"
      ]
     },
     "execution_count": 17,
     "metadata": {},
     "output_type": "execute_result"
    }
   ],
   "source": [
    "len(x) # size can be determined"
   ]
  },
  {
   "cell_type": "markdown",
   "id": "dedbd000-0b5f-4024-b270-43a8ddd37ebc",
   "metadata": {},
   "source": [
    "#### Iteration over the set"
   ]
  },
  {
   "cell_type": "code",
   "execution_count": 13,
   "id": "cd66a8f0-38c6-46b6-81f0-1ce762f15519",
   "metadata": {},
   "outputs": [
    {
     "name": "stdout",
     "output_type": "stream",
     "text": [
      "foo\n",
      "baz\n",
      "quz\n",
      "bar\n"
     ]
    }
   ],
   "source": [
    "for i in x:\n",
    "    print(i)"
   ]
  },
  {
   "cell_type": "markdown",
   "id": "4dfea690-e540-40af-8612-5bdee3d2b941",
   "metadata": {},
   "source": [
    "#### Sets are unordered"
   ]
  },
  {
   "cell_type": "code",
   "execution_count": 14,
   "id": "c05c0cb0-1697-494d-ab2d-4720771dcd87",
   "metadata": {},
   "outputs": [
    {
     "ename": "TypeError",
     "evalue": "'set' object is not subscriptable",
     "output_type": "error",
     "traceback": [
      "\u001b[0;31m---------------------------------------------------------------------------\u001b[0m",
      "\u001b[0;31mTypeError\u001b[0m                                 Traceback (most recent call last)",
      "Cell \u001b[0;32mIn [14], line 1\u001b[0m\n\u001b[0;32m----> 1\u001b[0m \u001b[43mx\u001b[49m\u001b[43m[\u001b[49m\u001b[38;5;241;43m0\u001b[39;49m\u001b[43m]\u001b[49m\n",
      "\u001b[0;31mTypeError\u001b[0m: 'set' object is not subscriptable"
     ]
    }
   ],
   "source": [
    "x[0]"
   ]
  },
  {
   "cell_type": "markdown",
   "id": "f90d4cb4-e58f-407b-ac11-04ea2fe02a53",
   "metadata": {},
   "source": [
    "#### membership tests\n",
    "- `in` and `not in`"
   ]
  },
  {
   "cell_type": "code",
   "execution_count": 18,
   "id": "8a0c2401-1c17-4749-b2f0-1a4002b6ed9d",
   "metadata": {},
   "outputs": [],
   "source": [
    "x = {'foo', 'bar', 'baz'}"
   ]
  },
  {
   "cell_type": "code",
   "execution_count": 19,
   "id": "146087c6-9bd5-4e08-a345-092c3de547c7",
   "metadata": {},
   "outputs": [
    {
     "data": {
      "text/plain": [
       "True"
      ]
     },
     "execution_count": 19,
     "metadata": {},
     "output_type": "execute_result"
    }
   ],
   "source": [
    "'foo' in x"
   ]
  },
  {
   "cell_type": "code",
   "execution_count": 20,
   "id": "31aa0079-f0bc-47a4-8f21-84d1a6db2cfc",
   "metadata": {},
   "outputs": [
    {
     "data": {
      "text/plain": [
       "True"
      ]
     },
     "execution_count": 20,
     "metadata": {},
     "output_type": "execute_result"
    }
   ],
   "source": [
    "'loo' not in x"
   ]
  },
  {
   "cell_type": "markdown",
   "id": "0f000f3c-3859-4852-a970-87bf68a7815f",
   "metadata": {},
   "source": [
    "#### Modifying a Set\n",
    "- add(item) method\n",
    "    - `x.add(<elem>)` elem must be a single immutable object\n",
    "- remove(item) method\n",
    "    - `x.remove(<elem>)` exception is raised if <elem> not in x \n",
    "- discard(item) method\n",
    "    - `x.discard(<elem>)` same as remove but is quite when <elem> not in x\n",
    "- pop () method\n",
    "    - `x.pop()` removes a random item , as the set are unorderd\n",
    "    - exception if the set is empty\n",
    "- clear () method\n",
    "    - `x.clear()` clears the set"
   ]
  },
  {
   "cell_type": "code",
   "execution_count": 21,
   "id": "74e14e72-4753-4ffb-868a-72638c9eb673",
   "metadata": {},
   "outputs": [],
   "source": [
    "x = set()"
   ]
  },
  {
   "cell_type": "code",
   "execution_count": 22,
   "id": "95ca81be-8477-402b-900d-4ed020a8a6a0",
   "metadata": {},
   "outputs": [],
   "source": [
    "x.add(\"namrta\")"
   ]
  },
  {
   "cell_type": "code",
   "execution_count": 23,
   "id": "4ec4e7fc-6f28-4ff2-995a-d1bfa8ddb64d",
   "metadata": {},
   "outputs": [
    {
     "data": {
      "text/plain": [
       "{'namrta'}"
      ]
     },
     "execution_count": 23,
     "metadata": {},
     "output_type": "execute_result"
    }
   ],
   "source": [
    "x"
   ]
  },
  {
   "cell_type": "code",
   "execution_count": 24,
   "id": "70b3a237-e407-4ad4-88dc-f0d295e61e0c",
   "metadata": {},
   "outputs": [],
   "source": [
    "x.add(\"red\")"
   ]
  },
  {
   "cell_type": "code",
   "execution_count": 25,
   "id": "164d1c3f-e08f-485a-bb54-1676a8794fc3",
   "metadata": {},
   "outputs": [],
   "source": [
    "x.add(\"kalpa\")"
   ]
  },
  {
   "cell_type": "code",
   "execution_count": 26,
   "id": "3658e094-642b-4171-9287-0420fabd2ecd",
   "metadata": {},
   "outputs": [],
   "source": [
    "x.remove(\"namrta\")"
   ]
  },
  {
   "cell_type": "code",
   "execution_count": 28,
   "id": "9f0e6971-6f80-426c-98a7-d76950ca14c1",
   "metadata": {},
   "outputs": [
    {
     "ename": "KeyError",
     "evalue": "'laghu'",
     "output_type": "error",
     "traceback": [
      "\u001b[0;31m---------------------------------------------------------------------------\u001b[0m",
      "\u001b[0;31mKeyError\u001b[0m                                  Traceback (most recent call last)",
      "Cell \u001b[0;32mIn [28], line 1\u001b[0m\n\u001b[0;32m----> 1\u001b[0m \u001b[43mx\u001b[49m\u001b[38;5;241;43m.\u001b[39;49m\u001b[43mremove\u001b[49m\u001b[43m(\u001b[49m\u001b[38;5;124;43m\"\u001b[39;49m\u001b[38;5;124;43mlaghu\u001b[39;49m\u001b[38;5;124;43m\"\u001b[39;49m\u001b[43m)\u001b[49m\n",
      "\u001b[0;31mKeyError\u001b[0m: 'laghu'"
     ]
    }
   ],
   "source": [
    "x.remove(\"laghu\") # non existant value"
   ]
  },
  {
   "cell_type": "code",
   "execution_count": 29,
   "id": "34150d9f-70d9-4e84-92ce-1fe080ff44e6",
   "metadata": {},
   "outputs": [
    {
     "data": {
      "text/plain": [
       "{'kalpa', 'red'}"
      ]
     },
     "execution_count": 29,
     "metadata": {},
     "output_type": "execute_result"
    }
   ],
   "source": [
    "x"
   ]
  },
  {
   "cell_type": "code",
   "execution_count": 32,
   "id": "dc8a938d-fe08-49bc-a6a2-77ea904a2576",
   "metadata": {},
   "outputs": [],
   "source": [
    "x.discard(\"liberty\") # silent way of removing even if the item is not there in the set"
   ]
  },
  {
   "cell_type": "code",
   "execution_count": 33,
   "id": "d0777db0-6737-4bc6-a8bd-5e4d6c64441c",
   "metadata": {},
   "outputs": [
    {
     "data": {
      "text/plain": [
       "{'kalpa', 'red'}"
      ]
     },
     "execution_count": 33,
     "metadata": {},
     "output_type": "execute_result"
    }
   ],
   "source": [
    "x"
   ]
  },
  {
   "cell_type": "code",
   "execution_count": 46,
   "id": "21bdbb08-5b9b-48f9-8b0d-63d3db48154a",
   "metadata": {},
   "outputs": [],
   "source": [
    "x = {'foo', 'bar', 'baz'}"
   ]
  },
  {
   "cell_type": "code",
   "execution_count": 38,
   "id": "f38cc921-8a5f-4d28-8cc3-cc24710b52a2",
   "metadata": {},
   "outputs": [
    {
     "data": {
      "text/plain": [
       "'foo'"
      ]
     },
     "execution_count": 38,
     "metadata": {},
     "output_type": "execute_result"
    }
   ],
   "source": [
    "x.pop() # randomnly remove an element"
   ]
  },
  {
   "cell_type": "code",
   "execution_count": 39,
   "id": "321db34e-b8e9-4380-a2d7-945132e79b6c",
   "metadata": {},
   "outputs": [
    {
     "data": {
      "text/plain": [
       "{'bar', 'baz'}"
      ]
     },
     "execution_count": 39,
     "metadata": {},
     "output_type": "execute_result"
    }
   ],
   "source": [
    "x"
   ]
  },
  {
   "cell_type": "code",
   "execution_count": 42,
   "id": "8bea6386-1a34-47cc-baae-d8c536d15400",
   "metadata": {},
   "outputs": [],
   "source": [
    "y = set() # empty set"
   ]
  },
  {
   "cell_type": "code",
   "execution_count": 44,
   "id": "846c170f-b239-41f0-8d00-f0f78b04afe6",
   "metadata": {},
   "outputs": [
    {
     "ename": "KeyError",
     "evalue": "'pop from an empty set'",
     "output_type": "error",
     "traceback": [
      "\u001b[0;31m---------------------------------------------------------------------------\u001b[0m",
      "\u001b[0;31mKeyError\u001b[0m                                  Traceback (most recent call last)",
      "Cell \u001b[0;32mIn [44], line 1\u001b[0m\n\u001b[0;32m----> 1\u001b[0m \u001b[43my\u001b[49m\u001b[38;5;241;43m.\u001b[39;49m\u001b[43mpop\u001b[49m\u001b[43m(\u001b[49m\u001b[43m)\u001b[49m\n",
      "\u001b[0;31mKeyError\u001b[0m: 'pop from an empty set'"
     ]
    }
   ],
   "source": [
    "y.pop() # error for empty set"
   ]
  },
  {
   "cell_type": "code",
   "execution_count": 47,
   "id": "11845221-c7be-4d14-b0cf-bd4eb0cadf21",
   "metadata": {},
   "outputs": [
    {
     "data": {
      "text/plain": [
       "{'bar', 'baz', 'foo'}"
      ]
     },
     "execution_count": 47,
     "metadata": {},
     "output_type": "execute_result"
    }
   ],
   "source": [
    "x"
   ]
  },
  {
   "cell_type": "code",
   "execution_count": 48,
   "id": "42887f62-ff4a-427d-9efb-abbde1d678b2",
   "metadata": {},
   "outputs": [],
   "source": [
    "x.clear()"
   ]
  },
  {
   "cell_type": "code",
   "execution_count": 49,
   "id": "32626dad-f462-4378-96ed-8adce62892f0",
   "metadata": {},
   "outputs": [
    {
     "data": {
      "text/plain": [
       "set()"
      ]
     },
     "execution_count": 49,
     "metadata": {},
     "output_type": "execute_result"
    }
   ],
   "source": [
    "x\n"
   ]
  },
  {
   "cell_type": "markdown",
   "id": "34dd5826-60af-4916-94c2-00512b42698c",
   "metadata": {},
   "source": [
    "#### frozenset are immutable"
   ]
  },
  {
   "cell_type": "markdown",
   "id": "648d82b3-7a87-4e9f-95ca-1c9b829f3839",
   "metadata": {},
   "source": [
    "#### Operators and Methods of Sets\n",
    "- union() method  or  | operator\n",
    "    - `x.union(y)  # x | y` all the elements of the x and the y \n",
    "- intersection () method or & operator\n",
    "    - `x.intersection(y) # x & y ` returns common to both x and y\n",
    "- difference() or  - operator\n",
    "    - `x1.difference(x2,[x3..]) # x1 - x2 [-x3...]` return the set of all elements that are in x1 but not in x2\n",
    "- isdisjoint( )\n",
    "    - `x1.isdisjoint(x2)` determines whether or not two sets have any elements in common\n",
    "- issubset()\n",
    "    - `x1.issubset(x2) # x1 <= x2` if every element of x1 is in x2  than x1 is subset of x2\n",
    "    - `x1 < x2` a proper subset is the same as subset , except that the sets can't be identical.\n",
    "    - a set x1 is considered a proper subset of another set of x2 if every element of x1 is in x2, and x1 and x2 are not equal\n",
    "- issuperset() mehtod\n",
    "    - `x1.issuperset(x2) # x1 >= x2` x1 is superset of x2 if x1 contains every element of x2\n",
    "    - `x1  >  x2 ` True if x1 is a proper superset of x2"
   ]
  },
  {
   "cell_type": "markdown",
   "id": "8f3d3e00-ce84-4016-99ce-db221e3ba1b6",
   "metadata": {},
   "source": [
    "1. `x1.union(x2)  # x1 | x2`"
   ]
  },
  {
   "cell_type": "code",
   "execution_count": 1,
   "id": "0ac913e5-86e8-45dd-b84b-4e0c4903a976",
   "metadata": {},
   "outputs": [],
   "source": [
    "x1 = {'foo','bar','baz'}\n",
    "x2 = {'baz','qux','quux'}"
   ]
  },
  {
   "cell_type": "code",
   "execution_count": 3,
   "id": "5c2af4fe-f0d1-42a0-a652-7c6f5610640f",
   "metadata": {},
   "outputs": [
    {
     "data": {
      "text/plain": [
       "{'bar', 'baz', 'foo', 'quux', 'qux'}"
      ]
     },
     "execution_count": 3,
     "metadata": {},
     "output_type": "execute_result"
    }
   ],
   "source": [
    "x1.union(x2) # returns a new set"
   ]
  },
  {
   "cell_type": "code",
   "execution_count": 4,
   "id": "b07b4ec1-edb9-47da-b8e8-49b34b1f6c6e",
   "metadata": {},
   "outputs": [
    {
     "data": {
      "text/plain": [
       "{'bar', 'baz', 'foo', 'quux', 'qux'}"
      ]
     },
     "execution_count": 4,
     "metadata": {},
     "output_type": "execute_result"
    }
   ],
   "source": [
    "x1 | x2 # sort way does the same union operation"
   ]
  },
  {
   "cell_type": "code",
   "execution_count": 5,
   "id": "cd4175e0-4ad0-43db-bbb3-0f50a33c9afc",
   "metadata": {},
   "outputs": [],
   "source": [
    "# multisets can be specified with either the operator or the method\n",
    "\n",
    "a,b,c,d = {1,2,3,4}, {2,3,4,5},{3,4,5,6},{4,5,6,7}\n"
   ]
  },
  {
   "cell_type": "code",
   "execution_count": 7,
   "id": "5b756019-3cd3-4cbd-a66c-ac19596df681",
   "metadata": {},
   "outputs": [
    {
     "data": {
      "text/plain": [
       "{1, 2, 3, 4, 5, 6, 7}"
      ]
     },
     "execution_count": 7,
     "metadata": {},
     "output_type": "execute_result"
    }
   ],
   "source": [
    "a.union(b,c,d) # a set will have all elements of the subsets"
   ]
  },
  {
   "cell_type": "code",
   "execution_count": 8,
   "id": "1d66c31b-a939-400a-9c0b-912c2df921de",
   "metadata": {},
   "outputs": [
    {
     "data": {
      "text/plain": [
       "{1, 2, 3, 4, 5, 6, 7}"
      ]
     },
     "execution_count": 8,
     "metadata": {},
     "output_type": "execute_result"
    }
   ],
   "source": [
    "a | b |c | d"
   ]
  },
  {
   "cell_type": "markdown",
   "id": "b2ecb34d-d57e-4f5f-aa02-3e054aa30044",
   "metadata": {},
   "source": [
    "2. `x1.itersection(x2)`"
   ]
  },
  {
   "cell_type": "code",
   "execution_count": 11,
   "id": "73889419-2488-4be3-83ba-8ae018597c90",
   "metadata": {},
   "outputs": [
    {
     "name": "stdout",
     "output_type": "stream",
     "text": [
      "{'foo', 'baz', 'bar'} {'qux', 'quux', 'baz'} {1, 2, 3, 4} {2, 3, 4, 5} {3, 4, 5, 6} {4, 5, 6, 7}\n"
     ]
    }
   ],
   "source": [
    "print(x1,x2,a,b,c,d)"
   ]
  },
  {
   "cell_type": "code",
   "execution_count": 13,
   "id": "a5ec25cd-02cb-41b7-8f75-86ecc9c47751",
   "metadata": {},
   "outputs": [
    {
     "data": {
      "text/plain": [
       "{'baz'}"
      ]
     },
     "execution_count": 13,
     "metadata": {},
     "output_type": "execute_result"
    }
   ],
   "source": [
    "x1.intersection(x2) # only the common of the two"
   ]
  },
  {
   "cell_type": "code",
   "execution_count": 14,
   "id": "0981f738-bf18-4dcf-86e4-652b0fbf31ae",
   "metadata": {},
   "outputs": [
    {
     "data": {
      "text/plain": [
       "{'baz'}"
      ]
     },
     "execution_count": 14,
     "metadata": {},
     "output_type": "execute_result"
    }
   ],
   "source": [
    "x1 & x2"
   ]
  },
  {
   "cell_type": "code",
   "execution_count": 15,
   "id": "6ac2e3f2-fc57-4ecd-a0c1-36d2546f7b33",
   "metadata": {},
   "outputs": [],
   "source": [
    "# multiple sets and intersection\n"
   ]
  },
  {
   "cell_type": "code",
   "execution_count": 16,
   "id": "16e907df-922b-495a-a775-f02685bc7ed5",
   "metadata": {},
   "outputs": [
    {
     "data": {
      "text/plain": [
       "{4}"
      ]
     },
     "execution_count": 16,
     "metadata": {},
     "output_type": "execute_result"
    }
   ],
   "source": [
    "a.intersection(b,c,d)"
   ]
  },
  {
   "cell_type": "code",
   "execution_count": 17,
   "id": "f1311e76-0479-4d4b-9f6d-a9d51e1a76f1",
   "metadata": {},
   "outputs": [
    {
     "data": {
      "text/plain": [
       "{4}"
      ]
     },
     "execution_count": 17,
     "metadata": {},
     "output_type": "execute_result"
    }
   ],
   "source": [
    "a & b & c & d"
   ]
  },
  {
   "cell_type": "markdown",
   "id": "02c54160-232e-4f6a-b1e1-6f90bac2f0f9",
   "metadata": {},
   "source": [
    "3 .`x1.difference(x2,[x3....])`"
   ]
  },
  {
   "cell_type": "code",
   "execution_count": 18,
   "id": "d57e1faa-2bb5-417b-bbe5-2b69647b1f05",
   "metadata": {},
   "outputs": [
    {
     "name": "stdout",
     "output_type": "stream",
     "text": [
      "{'foo', 'baz', 'bar'} {'qux', 'quux', 'baz'}\n"
     ]
    }
   ],
   "source": [
    "print(x1,x2)"
   ]
  },
  {
   "cell_type": "code",
   "execution_count": 20,
   "id": "44724c1b-c007-4d52-b539-07158789efce",
   "metadata": {},
   "outputs": [
    {
     "data": {
      "text/plain": [
       "{'bar', 'foo'}"
      ]
     },
     "execution_count": 20,
     "metadata": {},
     "output_type": "execute_result"
    }
   ],
   "source": [
    "x1.difference(x2) # all the elements that are in x1 not in x2"
   ]
  },
  {
   "cell_type": "code",
   "execution_count": 21,
   "id": "b1423808-a4fe-4e0c-9beb-b384b53597ea",
   "metadata": {},
   "outputs": [
    {
     "data": {
      "text/plain": [
       "{'quux', 'qux'}"
      ]
     },
     "execution_count": 21,
     "metadata": {},
     "output_type": "execute_result"
    }
   ],
   "source": [
    "x2.difference(x1)"
   ]
  },
  {
   "cell_type": "code",
   "execution_count": 22,
   "id": "00e742c8-b409-4aea-854f-e94d27fd6559",
   "metadata": {},
   "outputs": [],
   "source": [
    "a,b,c = {1,2,3,30,300} , {10,20,30,40} , {100,200,300,400}"
   ]
  },
  {
   "cell_type": "code",
   "execution_count": 24,
   "id": "d8492f40-cf6b-4283-95c2-e24838b6e8af",
   "metadata": {},
   "outputs": [
    {
     "data": {
      "text/plain": [
       "{1, 2, 3}"
      ]
     },
     "execution_count": 24,
     "metadata": {},
     "output_type": "execute_result"
    }
   ],
   "source": [
    "a.difference(b,c) #all the elements of a not in b or c"
   ]
  },
  {
   "cell_type": "code",
   "execution_count": 25,
   "id": "51033409-22ca-456b-9024-b082d5834be7",
   "metadata": {},
   "outputs": [
    {
     "data": {
      "text/plain": [
       "{1, 2, 3}"
      ]
     },
     "execution_count": 25,
     "metadata": {},
     "output_type": "execute_result"
    }
   ],
   "source": [
    "a - b - c"
   ]
  },
  {
   "cell_type": "markdown",
   "id": "fa091a5e-d021-40b4-9dc3-11e85711f403",
   "metadata": {},
   "source": [
    "4. `x1.isdisjoint(x2)`\n",
    "- nothing common True , if common False"
   ]
  },
  {
   "cell_type": "code",
   "execution_count": 26,
   "id": "db31e0dd-e7d7-4f06-9a21-2acab048fadc",
   "metadata": {},
   "outputs": [
    {
     "name": "stdout",
     "output_type": "stream",
     "text": [
      "{'foo', 'baz', 'bar'} {'qux', 'quux', 'baz'}\n"
     ]
    }
   ],
   "source": [
    "print(x1,x2)"
   ]
  },
  {
   "cell_type": "code",
   "execution_count": 27,
   "id": "14f8de56-8387-4d5d-a49c-2ad9644cb56c",
   "metadata": {},
   "outputs": [
    {
     "data": {
      "text/plain": [
       "False"
      ]
     },
     "execution_count": 27,
     "metadata": {},
     "output_type": "execute_result"
    }
   ],
   "source": [
    "x1.isdisjoint(x2) # determines whether they don;t have any in common "
   ]
  },
  {
   "cell_type": "code",
   "execution_count": 29,
   "id": "baed9175-cbb6-4f21-ae56-8b8c652f8224",
   "metadata": {},
   "outputs": [
    {
     "data": {
      "text/plain": [
       "True"
      ]
     },
     "execution_count": 29,
     "metadata": {},
     "output_type": "execute_result"
    }
   ],
   "source": [
    "x1.isdisjoint(x2 - {'baz'}) # once the common is removed "
   ]
  },
  {
   "cell_type": "markdown",
   "id": "ee1816c2-d9c0-4ea0-9351-4068c6ff31df",
   "metadata": {},
   "source": [
    "5. `x1.issubset(x2) # x1 <= x2`\n",
    "- determine whether one set is subset of the other"
   ]
  },
  {
   "cell_type": "code",
   "execution_count": 30,
   "id": "d7f2f6b0-9886-481b-977f-c12849d4df65",
   "metadata": {},
   "outputs": [
    {
     "name": "stdout",
     "output_type": "stream",
     "text": [
      "{'foo', 'baz', 'bar'} {'qux', 'quux', 'baz'}\n"
     ]
    }
   ],
   "source": [
    "print(x1,x2)"
   ]
  },
  {
   "cell_type": "code",
   "execution_count": 31,
   "id": "1da023e4-6557-435b-ac1e-34ac6877edfd",
   "metadata": {},
   "outputs": [
    {
     "data": {
      "text/plain": [
       "True"
      ]
     },
     "execution_count": 31,
     "metadata": {},
     "output_type": "execute_result"
    }
   ],
   "source": [
    "x1.issubset({'foo','bar','baz','quz','quux'})"
   ]
  },
  {
   "cell_type": "code",
   "execution_count": 32,
   "id": "26979f5c-b007-4d0b-b6e8-85b450fce384",
   "metadata": {},
   "outputs": [
    {
     "data": {
      "text/plain": [
       "False"
      ]
     },
     "execution_count": 32,
     "metadata": {},
     "output_type": "execute_result"
    }
   ],
   "source": [
    "x1 <= x2 "
   ]
  },
  {
   "cell_type": "code",
   "execution_count": 34,
   "id": "90138216-9d5f-4cca-b9a3-6eb510bb4334",
   "metadata": {},
   "outputs": [],
   "source": [
    "# for proper set\n",
    "# x1 in x2 but x1 != x2"
   ]
  },
  {
   "cell_type": "code",
   "execution_count": 37,
   "id": "541e78b1-6759-4720-9a79-5432e4af08bb",
   "metadata": {},
   "outputs": [],
   "source": [
    "x1 = {'foo','bar'}\n",
    "x2 = {*x1, 'baz'} # used the spread operator"
   ]
  },
  {
   "cell_type": "code",
   "execution_count": 38,
   "id": "84406fb0-364c-46b8-b418-fe3baabfbc74",
   "metadata": {},
   "outputs": [
    {
     "data": {
      "text/plain": [
       "{'bar', 'baz', 'foo'}"
      ]
     },
     "execution_count": 38,
     "metadata": {},
     "output_type": "execute_result"
    }
   ],
   "source": [
    "x2"
   ]
  },
  {
   "cell_type": "code",
   "execution_count": 39,
   "id": "2eded35e-4cfa-49ea-8d8c-25687506f2f4",
   "metadata": {},
   "outputs": [
    {
     "data": {
      "text/plain": [
       "True"
      ]
     },
     "execution_count": 39,
     "metadata": {},
     "output_type": "execute_result"
    }
   ],
   "source": [
    "x1 < x2"
   ]
  },
  {
   "cell_type": "code",
   "execution_count": 40,
   "id": "cd010140-c159-4792-86bd-e23eddf73ea1",
   "metadata": {},
   "outputs": [],
   "source": [
    "x1 = {'foo', 'bar','baz'}\n",
    "x2 = {'foo','bar','baz'}"
   ]
  },
  {
   "cell_type": "code",
   "execution_count": 41,
   "id": "84530a0d-f6b5-4dc0-819f-af0518bd4074",
   "metadata": {},
   "outputs": [
    {
     "data": {
      "text/plain": [
       "False"
      ]
     },
     "execution_count": 41,
     "metadata": {},
     "output_type": "execute_result"
    }
   ],
   "source": [
    "x1 < x2"
   ]
  },
  {
   "cell_type": "code",
   "execution_count": 42,
   "id": "0dc86dbf-fcee-4222-8c81-b26b8fbad4ed",
   "metadata": {},
   "outputs": [],
   "source": [
    "# every set is a subset of itself but not a proper set of itself"
   ]
  },
  {
   "cell_type": "code",
   "execution_count": 46,
   "id": "31a0b950-9df4-4133-b044-2e3840795402",
   "metadata": {},
   "outputs": [
    {
     "data": {
      "text/plain": [
       "True"
      ]
     },
     "execution_count": 46,
     "metadata": {},
     "output_type": "execute_result"
    }
   ],
   "source": [
    "x1 <= x1 # for subset"
   ]
  },
  {
   "cell_type": "code",
   "execution_count": 47,
   "id": "c22b3403-5a62-4fb6-a619-2334b82305ed",
   "metadata": {},
   "outputs": [
    {
     "data": {
      "text/plain": [
       "False"
      ]
     },
     "execution_count": 47,
     "metadata": {},
     "output_type": "execute_result"
    }
   ],
   "source": [
    "x1 < x1 # for proper set"
   ]
  },
  {
   "cell_type": "markdown",
   "id": "6ad123d5-b175-4403-8fd3-3ed6307db983",
   "metadata": {},
   "source": [
    "6. `x1.issuperset(x2) # x1 >= x2`\n",
    "- a superset is reverse of subset , x1 is considered a superset of another set x2 if x1 contains evey element of x2"
   ]
  },
  {
   "cell_type": "code",
   "execution_count": 49,
   "id": "c5df6e8a-cceb-4732-8660-e7c0d520dc10",
   "metadata": {},
   "outputs": [
    {
     "data": {
      "text/plain": [
       "{'bar', 'baz', 'foo'}"
      ]
     },
     "execution_count": 49,
     "metadata": {},
     "output_type": "execute_result"
    }
   ],
   "source": [
    "x1"
   ]
  },
  {
   "cell_type": "code",
   "execution_count": 51,
   "id": "1e7f48ce-2a4b-4a3d-af2a-581c9d714f0e",
   "metadata": {},
   "outputs": [
    {
     "data": {
      "text/plain": [
       "True"
      ]
     },
     "execution_count": 51,
     "metadata": {},
     "output_type": "execute_result"
    }
   ],
   "source": [
    "x1 .issuperset({'bar','foo'})"
   ]
  },
  {
   "cell_type": "code",
   "execution_count": 53,
   "id": "176db447-beb2-48db-9b96-33b26aaeb48c",
   "metadata": {},
   "outputs": [],
   "source": [
    "x2 = {'baz','bar','quz'}"
   ]
  },
  {
   "cell_type": "code",
   "execution_count": 54,
   "id": "76121b7f-a1cb-4fdf-915b-6ea89af6a77c",
   "metadata": {},
   "outputs": [
    {
     "data": {
      "text/plain": [
       "False"
      ]
     },
     "execution_count": 54,
     "metadata": {},
     "output_type": "execute_result"
    }
   ],
   "source": [
    "x1 >= x2"
   ]
  },
  {
   "cell_type": "code",
   "execution_count": 55,
   "id": "65de23cb-0dc3-4479-b793-0bcd04160e01",
   "metadata": {},
   "outputs": [],
   "source": [
    "x = {1,2,3,4,5}\n"
   ]
  },
  {
   "cell_type": "code",
   "execution_count": 56,
   "id": "c5f38034-f6b4-4776-9aea-336727ea9fe8",
   "metadata": {},
   "outputs": [
    {
     "data": {
      "text/plain": [
       "True"
      ]
     },
     "execution_count": 56,
     "metadata": {},
     "output_type": "execute_result"
    }
   ],
   "source": [
    "x.issuperset(x)"
   ]
  },
  {
   "cell_type": "code",
   "execution_count": 58,
   "id": "9607abe8-bfe9-4cda-a01f-ddd28ef68e96",
   "metadata": {},
   "outputs": [
    {
     "data": {
      "text/plain": [
       "True"
      ]
     },
     "execution_count": 58,
     "metadata": {},
     "output_type": "execute_result"
    }
   ],
   "source": [
    "x >= x"
   ]
  },
  {
   "cell_type": "markdown",
   "id": "a93da772-891a-4fea-b4ea-f25bcbca0ae3",
   "metadata": {},
   "source": [
    "`x1 > x2` proper superset"
   ]
  },
  {
   "cell_type": "code",
   "execution_count": 59,
   "id": "6840b941-f0f8-43af-a144-eb923cec1bd1",
   "metadata": {},
   "outputs": [],
   "source": [
    "x1 = {'foo','bar','baz'}\n",
    "x2 = {'foo','bar'}"
   ]
  },
  {
   "cell_type": "code",
   "execution_count": 60,
   "id": "8883afe5-9c56-4e75-b9b0-1700857ccc33",
   "metadata": {},
   "outputs": [
    {
     "data": {
      "text/plain": [
       "True"
      ]
     },
     "execution_count": 60,
     "metadata": {},
     "output_type": "execute_result"
    }
   ],
   "source": [
    "x1 > x2"
   ]
  },
  {
   "cell_type": "code",
   "execution_count": 61,
   "id": "753f306c-a618-4980-9dd7-f6cf6041a5af",
   "metadata": {},
   "outputs": [],
   "source": [
    "x2 ={'foo','bar','baz'}"
   ]
  },
  {
   "cell_type": "code",
   "execution_count": 63,
   "id": "d1f38936-651b-40a5-aa54-389014f1c4d1",
   "metadata": {},
   "outputs": [
    {
     "data": {
      "text/plain": [
       "False"
      ]
     },
     "execution_count": 63,
     "metadata": {},
     "output_type": "execute_result"
    }
   ],
   "source": [
    "x1 > x2 # bcz x1 is a proper superset of x2 if all elements of x2 are contained in x1 but x1 != x2"
   ]
  },
  {
   "cell_type": "markdown",
   "id": "1e829108-15b4-4feb-b7c2-27332130a916",
   "metadata": {},
   "source": [
    "## 6. Discuss the use cases of tuples and sets in Python programming"
   ]
  },
  {
   "cell_type": "markdown",
   "id": "379dcacf-bda6-4666-b9a0-9152d0b69390",
   "metadata": {},
   "source": [
    "Tuples belong to sequential immutable datastructure where as sets are mutable and non sequential datastructure.\n",
    "1. **UseCase of tuples**\n",
    "    - Immutable Data\n",
    "    - Dictionary Keys\n",
    "    - Returning Multiple Values From function\n",
    "    - Less Memory\n",
    "    - Effecient Iteration\n",
    "    - Easy Unpacking\n",
    "2. **UseCase of Sets**\n",
    "    - Unique Items\n",
    "    - Fast Membership Testing\n",
    "    - Set Operation (union, difference , intersection)\n",
    "    - Easy Duplicate Removal"
   ]
  },
  {
   "cell_type": "markdown",
   "id": "82026166-2b85-4227-bd53-ca921d6979b8",
   "metadata": {},
   "source": [
    "### UseCases of Tuple"
   ]
  },
  {
   "cell_type": "markdown",
   "id": "79aacc34-4317-47bd-a749-abfc159b42b4",
   "metadata": {},
   "source": [
    "#### 1. Immutable Data\n",
    "- also suitable for data such as Name , age etc, RGB values"
   ]
  },
  {
   "cell_type": "code",
   "execution_count": 64,
   "id": "d27a022c-0861-4125-b6c3-40f298e2b68e",
   "metadata": {},
   "outputs": [],
   "source": [
    "a_coordinate = (1,2)\n",
    "b_coordinate = (2,5)"
   ]
  },
  {
   "cell_type": "code",
   "execution_count": 65,
   "id": "f16b7b86-1f1f-4ea7-b0ad-e612ac0040f2",
   "metadata": {},
   "outputs": [
    {
     "data": {
      "text/plain": [
       "1"
      ]
     },
     "execution_count": 65,
     "metadata": {},
     "output_type": "execute_result"
    }
   ],
   "source": [
    "a_coordinate[0]"
   ]
  },
  {
   "cell_type": "code",
   "execution_count": 66,
   "id": "692582ec-d70c-4628-b8b3-df6ffe3120c4",
   "metadata": {},
   "outputs": [
    {
     "data": {
      "text/plain": [
       "2"
      ]
     },
     "execution_count": 66,
     "metadata": {},
     "output_type": "execute_result"
    }
   ],
   "source": [
    "a_coordinate[1]"
   ]
  },
  {
   "cell_type": "code",
   "execution_count": 68,
   "id": "4a9784c9-37fd-45c4-bed3-4197f4ddc468",
   "metadata": {},
   "outputs": [
    {
     "ename": "TypeError",
     "evalue": "'tuple' object does not support item assignment",
     "output_type": "error",
     "traceback": [
      "\u001b[0;31m---------------------------------------------------------------------------\u001b[0m",
      "\u001b[0;31mTypeError\u001b[0m                                 Traceback (most recent call last)",
      "Cell \u001b[0;32mIn [68], line 1\u001b[0m\n\u001b[0;32m----> 1\u001b[0m \u001b[43ma_coordinate\u001b[49m\u001b[43m[\u001b[49m\u001b[38;5;241;43m0\u001b[39;49m\u001b[43m]\u001b[49m \u001b[38;5;241m=\u001b[39m \u001b[38;5;241m22\u001b[39m\n",
      "\u001b[0;31mTypeError\u001b[0m: 'tuple' object does not support item assignment"
     ]
    }
   ],
   "source": [
    "a_coordinate[0] = 22 # error"
   ]
  },
  {
   "cell_type": "code",
   "execution_count": null,
   "id": "1af9b1b1-f455-4f5b-975a-e4f11aee8128",
   "metadata": {},
   "outputs": [],
   "source": [
    "black = (0, 0 , 0) # color black"
   ]
  },
  {
   "cell_type": "markdown",
   "id": "b1af0e90-b1f7-4ec1-8550-08dfb98f01b3",
   "metadata": {},
   "source": [
    "#### 2. Can be used as Dictionary keys\n",
    "- dictionary keys can only be immutable datatype\n",
    "- so apart from the strings tuple also serve as keys for the Dictionary\n",
    "- benifit is that multiple info can be saved in it without the fear of modification"
   ]
  },
  {
   "cell_type": "code",
   "execution_count": 69,
   "id": "c0111f83-bccd-4d52-aaa3-262e7a314e06",
   "metadata": {},
   "outputs": [],
   "source": [
    "location = {\n",
    "    (40.7128, 74.0060): \"New York\", \n",
    "    (51.5074, 0.1278): \"London\"\n",
    "}\n"
   ]
  },
  {
   "cell_type": "code",
   "execution_count": 70,
   "id": "93d54097-50e8-437d-a7cc-ffdacf5ee750",
   "metadata": {},
   "outputs": [],
   "source": [
    "a = (40.7128, 74.0060)\n",
    "b = (51.5074, 0.1278)"
   ]
  },
  {
   "cell_type": "code",
   "execution_count": 73,
   "id": "5a5b794c-a0aa-4223-8269-5f08cfc15cc4",
   "metadata": {},
   "outputs": [],
   "source": [
    "loc = {a : \"New York\",b :\"London\"} # with varibles"
   ]
  },
  {
   "cell_type": "code",
   "execution_count": 74,
   "id": "01080a05-b4a6-407f-b523-e29896fc9101",
   "metadata": {},
   "outputs": [
    {
     "data": {
      "text/plain": [
       "{(40.7128, 74.006): 'New York', (51.5074, 0.1278): 'London'}"
      ]
     },
     "execution_count": 74,
     "metadata": {},
     "output_type": "execute_result"
    }
   ],
   "source": [
    "loc"
   ]
  },
  {
   "cell_type": "markdown",
   "id": "f7c3efff-8807-4c2b-97de-5519a03e4d2f",
   "metadata": {},
   "source": [
    "#### 3. Returning Multiple Values From Function"
   ]
  },
  {
   "cell_type": "code",
   "execution_count": 78,
   "id": "32b3c7bf-4e7e-4509-81a3-465c950af1e2",
   "metadata": {},
   "outputs": [],
   "source": [
    "def sum (a,b):\n",
    "    return [a + b , \" sum \"] # one way to retun multiple items "
   ]
  },
  {
   "cell_type": "code",
   "execution_count": 79,
   "id": "623d3add-a768-45d1-ade8-fc0b12a90026",
   "metadata": {},
   "outputs": [
    {
     "data": {
      "text/plain": [
       "[8, ' sum ']"
      ]
     },
     "execution_count": 79,
     "metadata": {},
     "output_type": "execute_result"
    }
   ],
   "source": [
    "sum (3 , 5)"
   ]
  },
  {
   "cell_type": "code",
   "execution_count": 80,
   "id": "84b18db3-42d3-4601-a92c-4faf0cee39ea",
   "metadata": {},
   "outputs": [],
   "source": [
    "def sum (a,b):\n",
    "    return a + b , \" sum \" # just comma separate them "
   ]
  },
  {
   "cell_type": "code",
   "execution_count": 81,
   "id": "e722a0fd-b22b-42bf-8d2c-6da7d5e68b72",
   "metadata": {},
   "outputs": [
    {
     "data": {
      "text/plain": [
       "(20, ' sum ')"
      ]
     },
     "execution_count": 81,
     "metadata": {},
     "output_type": "execute_result"
    }
   ],
   "source": [
    "sum (9 , 11)"
   ]
  },
  {
   "cell_type": "markdown",
   "id": "44b7b1fd-b172-4d5d-80b4-36a06077f4c1",
   "metadata": {},
   "source": [
    "#### 4. Easy Unpacking"
   ]
  },
  {
   "cell_type": "code",
   "execution_count": 82,
   "id": "2fc49ce2-f495-4ded-bff3-1edb0eb6115a",
   "metadata": {},
   "outputs": [],
   "source": [
    "age, name  = (27, 'namrta')"
   ]
  },
  {
   "cell_type": "code",
   "execution_count": 83,
   "id": "f582265f-a4e8-467d-9822-d15eaa46fbe3",
   "metadata": {},
   "outputs": [
    {
     "data": {
      "text/plain": [
       "27"
      ]
     },
     "execution_count": 83,
     "metadata": {},
     "output_type": "execute_result"
    }
   ],
   "source": [
    "age"
   ]
  },
  {
   "cell_type": "code",
   "execution_count": 84,
   "id": "6e021d73-54ad-452a-9f35-d0b66ede54c9",
   "metadata": {},
   "outputs": [
    {
     "data": {
      "text/plain": [
       "'namrta'"
      ]
     },
     "execution_count": 84,
     "metadata": {},
     "output_type": "execute_result"
    }
   ],
   "source": [
    "name"
   ]
  },
  {
   "cell_type": "code",
   "execution_count": 85,
   "id": "cfe54846-7ea5-4c11-869c-05bc2b1ee1e0",
   "metadata": {},
   "outputs": [],
   "source": [
    "age, *name  = (27, 'namrta' , 'shalini')"
   ]
  },
  {
   "cell_type": "code",
   "execution_count": 86,
   "id": "6ccb57ca-a67a-4346-8d80-fb74f38d7c43",
   "metadata": {},
   "outputs": [
    {
     "data": {
      "text/plain": [
       "27"
      ]
     },
     "execution_count": 86,
     "metadata": {},
     "output_type": "execute_result"
    }
   ],
   "source": [
    "age "
   ]
  },
  {
   "cell_type": "code",
   "execution_count": 88,
   "id": "3d56d4e9-bf46-4443-a085-7041896ed1eb",
   "metadata": {},
   "outputs": [
    {
     "data": {
      "text/plain": [
       "['namrta', 'shalini']"
      ]
     },
     "execution_count": 88,
     "metadata": {},
     "output_type": "execute_result"
    }
   ],
   "source": [
    "name # rest of the items"
   ]
  },
  {
   "cell_type": "markdown",
   "id": "db1f89ca-074a-4bf6-99dc-79bc7785cc03",
   "metadata": {},
   "source": [
    "#### 5. Less memory "
   ]
  },
  {
   "cell_type": "code",
   "execution_count": 89,
   "id": "5d6336d1-50c5-49c5-8cd4-bb2fca0bedae",
   "metadata": {},
   "outputs": [],
   "source": [
    "import sys\n"
   ]
  },
  {
   "cell_type": "code",
   "execution_count": 90,
   "id": "e1535f9c-0ab7-4d14-be6a-69b32babcafb",
   "metadata": {},
   "outputs": [],
   "source": [
    "a = (1,2,3,4)\n",
    "b = [1,2,3,4]"
   ]
  },
  {
   "cell_type": "code",
   "execution_count": 92,
   "id": "f14ae028-83f0-4820-8417-73a4be45da5a",
   "metadata": {},
   "outputs": [
    {
     "data": {
      "text/plain": [
       "72"
      ]
     },
     "execution_count": 92,
     "metadata": {},
     "output_type": "execute_result"
    }
   ],
   "source": [
    "sys.getsizeof(a)"
   ]
  },
  {
   "cell_type": "code",
   "execution_count": 93,
   "id": "82cd77f1-1e95-4f41-b1ef-24d53c2e4bac",
   "metadata": {},
   "outputs": [
    {
     "data": {
      "text/plain": [
       "88"
      ]
     },
     "execution_count": 93,
     "metadata": {},
     "output_type": "execute_result"
    }
   ],
   "source": [
    "sys.getsizeof(b)"
   ]
  },
  {
   "cell_type": "markdown",
   "id": "43cb4b20-b6c5-4949-9bc4-8a9db790d1a3",
   "metadata": {},
   "source": [
    "### Use Cases of Sets"
   ]
  },
  {
   "cell_type": "markdown",
   "id": "ab8c871f-4a96-419d-9894-e4f3de577471",
   "metadata": {},
   "source": [
    "#### 1. uniqueness of data saving memory"
   ]
  },
  {
   "cell_type": "code",
   "execution_count": 97,
   "id": "ab158150-40c5-45ed-ac3d-e62493555398",
   "metadata": {},
   "outputs": [],
   "source": [
    "users = {'ashmi','bob', 'rashi','shree','bob','anjum','ashmi','shree'}"
   ]
  },
  {
   "cell_type": "code",
   "execution_count": 98,
   "id": "466443dd-c58a-4a5e-b460-aef2ea60046e",
   "metadata": {},
   "outputs": [
    {
     "data": {
      "text/plain": [
       "5"
      ]
     },
     "execution_count": 98,
     "metadata": {},
     "output_type": "execute_result"
    }
   ],
   "source": [
    "len(users)"
   ]
  },
  {
   "cell_type": "code",
   "execution_count": 99,
   "id": "310a13b9-f5ee-4b86-bcb2-e892e5aae880",
   "metadata": {},
   "outputs": [
    {
     "data": {
      "text/plain": [
       "{'anjum', 'ashmi', 'bob', 'rashi', 'shree'}"
      ]
     },
     "execution_count": 99,
     "metadata": {},
     "output_type": "execute_result"
    }
   ],
   "source": [
    "users  # it removed all the duplicates from it thus saves Memory"
   ]
  },
  {
   "cell_type": "markdown",
   "id": "7582b029-cd66-41b7-b37a-dfeec0dea313",
   "metadata": {},
   "source": [
    "#### 2. Membership Testing\n",
    "- it allows fast checking or members underlying hashbased implementation"
   ]
  },
  {
   "cell_type": "code",
   "execution_count": 100,
   "id": "61692a8e-3225-455f-87ec-7f6565ef3877",
   "metadata": {},
   "outputs": [
    {
     "name": "stdout",
     "output_type": "stream",
     "text": [
      "Alice is present\n"
     ]
    }
   ],
   "source": [
    "authors = {'alice','bob','eve'}\n",
    "\n",
    "if \"alice\" in authors:\n",
    "    print(\"Alice is present\")\n",
    "\n"
   ]
  },
  {
   "cell_type": "markdown",
   "id": "afe4b908-a45a-45fe-848c-fa33fc2a2aaf",
   "metadata": {},
   "source": [
    "#### 3. Set Operations\n",
    "- union\n",
    "- difference \n",
    "- intersection"
   ]
  },
  {
   "cell_type": "code",
   "execution_count": 102,
   "id": "8c39ff61-b177-4e79-9588-c2119b56e854",
   "metadata": {},
   "outputs": [],
   "source": [
    "x1  = {1,2,3,4,5}\n",
    "x2 = {4,5,6,7,8}"
   ]
  },
  {
   "cell_type": "code",
   "execution_count": 104,
   "id": "d1711974-defe-45f0-963f-ccfe3f72a0c2",
   "metadata": {},
   "outputs": [
    {
     "data": {
      "text/plain": [
       "{1, 2, 3, 4, 5, 6, 7, 8}"
      ]
     },
     "execution_count": 104,
     "metadata": {},
     "output_type": "execute_result"
    }
   ],
   "source": [
    "x1.union(x2) # all the elements of x1 and x2"
   ]
  },
  {
   "cell_type": "code",
   "execution_count": 105,
   "id": "aa67139d-1944-478f-b9fa-0cc9d4deda91",
   "metadata": {},
   "outputs": [],
   "source": [
    "# for multiples \n",
    "a  = { 1,2,3}\n",
    "b = {2,3,5}\n",
    "c = {4,5,6}"
   ]
  },
  {
   "cell_type": "code",
   "execution_count": 106,
   "id": "a6369d84-181e-4941-a4e6-33ef17e19da6",
   "metadata": {},
   "outputs": [
    {
     "data": {
      "text/plain": [
       "{1, 2, 3, 4, 5, 6}"
      ]
     },
     "execution_count": 106,
     "metadata": {},
     "output_type": "execute_result"
    }
   ],
   "source": [
    "a | b | c"
   ]
  },
  {
   "cell_type": "code",
   "execution_count": 107,
   "id": "4aa7bf8d-ed4e-45ac-8ac3-9a380dbec284",
   "metadata": {},
   "outputs": [],
   "source": [
    "# difference"
   ]
  },
  {
   "cell_type": "code",
   "execution_count": 108,
   "id": "24cdda7a-4ff4-4172-b24b-408bc0e5374d",
   "metadata": {},
   "outputs": [
    {
     "name": "stdout",
     "output_type": "stream",
     "text": [
      "{1, 2, 3, 4, 5} {4, 5, 6, 7, 8} {1, 2, 3} {2, 3, 5} {4, 5, 6}\n"
     ]
    }
   ],
   "source": [
    "print(x1, x2 , a, b,c)"
   ]
  },
  {
   "cell_type": "code",
   "execution_count": 110,
   "id": "bf77f143-f6e5-45ab-82ba-f807825f7148",
   "metadata": {},
   "outputs": [
    {
     "data": {
      "text/plain": [
       "{1, 2, 3}"
      ]
     },
     "execution_count": 110,
     "metadata": {},
     "output_type": "execute_result"
    }
   ],
   "source": [
    "\n",
    "x1.difference(x2) # all the elements of x1 excluding the lements of x2"
   ]
  },
  {
   "cell_type": "code",
   "execution_count": 113,
   "id": "48caf8dd-29a5-442e-b420-8abcd78eb1c6",
   "metadata": {},
   "outputs": [
    {
     "data": {
      "text/plain": [
       "{1, 2, 3}"
      ]
     },
     "execution_count": 113,
     "metadata": {},
     "output_type": "execute_result"
    }
   ],
   "source": [
    "x1  - x2 # shortcut for th difference"
   ]
  },
  {
   "cell_type": "code",
   "execution_count": 112,
   "id": "82cd0c9a-6b34-4bc9-9bff-fb136b3ce989",
   "metadata": {},
   "outputs": [
    {
     "data": {
      "text/plain": [
       "{1}"
      ]
     },
     "execution_count": 112,
     "metadata": {},
     "output_type": "execute_result"
    }
   ],
   "source": [
    "a - b - c"
   ]
  },
  {
   "cell_type": "code",
   "execution_count": 114,
   "id": "0c70d515-b437-4a7c-a143-9e7e870d63df",
   "metadata": {},
   "outputs": [],
   "source": [
    "# intersection \n"
   ]
  },
  {
   "cell_type": "code",
   "execution_count": 115,
   "id": "b599ce37-32b0-4ed2-a522-f823a60a4365",
   "metadata": {},
   "outputs": [
    {
     "name": "stdout",
     "output_type": "stream",
     "text": [
      "{1, 2, 3, 4, 5} {4, 5, 6, 7, 8} {1, 2, 3} {2, 3, 5} {4, 5, 6}\n"
     ]
    }
   ],
   "source": [
    "print(x1,x2,a,b,c)"
   ]
  },
  {
   "cell_type": "code",
   "execution_count": 118,
   "id": "f47dcc1e-ba58-4b65-b3cd-502d21932860",
   "metadata": {},
   "outputs": [
    {
     "data": {
      "text/plain": [
       "{4, 5}"
      ]
     },
     "execution_count": 118,
     "metadata": {},
     "output_type": "execute_result"
    }
   ],
   "source": [
    "x1.intersection(x2) # only the elemnts common to both"
   ]
  },
  {
   "cell_type": "code",
   "execution_count": 119,
   "id": "86d6da01-a578-430d-b01f-4c2f8b0d698c",
   "metadata": {},
   "outputs": [
    {
     "data": {
      "text/plain": [
       "{4, 5}"
      ]
     },
     "execution_count": 119,
     "metadata": {},
     "output_type": "execute_result"
    }
   ],
   "source": [
    "x1  & x2"
   ]
  },
  {
   "cell_type": "markdown",
   "id": "463a39cf-68b7-49f0-b08c-c89e39eb434f",
   "metadata": {},
   "source": [
    "#### 3. Easy Removing of Duplicates "
   ]
  },
  {
   "cell_type": "code",
   "execution_count": 120,
   "id": "076c537b-03df-4477-a639-77374a520827",
   "metadata": {},
   "outputs": [],
   "source": [
    "nums = [1,2,3,4,55,6,3,211,1,23,4,2,3,5,6,2,12,55,211,23]"
   ]
  },
  {
   "cell_type": "code",
   "execution_count": 121,
   "id": "cb9d7c18-1f6d-4517-8714-90940157e40f",
   "metadata": {},
   "outputs": [],
   "source": [
    "nums = list(set(nums))"
   ]
  },
  {
   "cell_type": "code",
   "execution_count": 123,
   "id": "cae3e94b-91be-4a8e-ac5a-11e38ac8b09f",
   "metadata": {},
   "outputs": [
    {
     "data": {
      "text/plain": [
       "[1, 2, 3, 4, 5, 6, 12, 211, 23, 55]"
      ]
     },
     "execution_count": 123,
     "metadata": {},
     "output_type": "execute_result"
    }
   ],
   "source": [
    "nums # see the magic"
   ]
  },
  {
   "cell_type": "markdown",
   "id": "b3cd899b-c505-4b77-88e8-40e00896c506",
   "metadata": {},
   "source": [
    "## 7. Describe how to add, modify, and delete items in a dictionary with examples"
   ]
  },
  {
   "cell_type": "markdown",
   "id": "f366b80a-7690-4113-bc9a-8314a622cc49",
   "metadata": {},
   "source": [
    "Dictionaries are Python's implementation of a datastructure that is more generally known as an __associative array__\n",
    "- A dictionary consist of a collection of key-value pairs. Each key-value pair maps the key to its associative value.\n",
    "- Defining Dictionary:\n",
    "    - ```python\n",
    "      d = {\n",
    "\n",
    "            <key> : <value>,\n",
    "            <key> : <value>,\n",
    "            .\n",
    "            .\n",
    "            .\n",
    "            <key> :  <value>\n",
    "\n",
    "          \n",
    "      }\n",
    "      ``` \n",
    "    - dict() function to create a dictionary\n",
    "        - ```python\n",
    "          d = dict (\n",
    "\n",
    "            [\n",
    "            (<key> , <value>)\n",
    "            ,\n",
    "              (<key> ,<value>)\n",
    "              ,(<key> , <value>)\n",
    "\n",
    "\n",
    "                \n",
    "            ]\n",
    "            \n",
    "              \n",
    "          )\n",
    "          ```"
   ]
  },
  {
   "cell_type": "markdown",
   "id": "a8dd278d-bfba-4b43-b68b-71a1fafa5db7",
   "metadata": {},
   "source": [
    "### Accessing Dictionary Values\n",
    "- Dictionary don't have indexes like lists tuple instead have keys\n",
    "    1. `dict_name [key]` is the way to get the value of the dictionary\n",
    "        - if key is not present than an __error__ is shown\n",
    "    2. `dict_namr.get(key ,'message if no key is there')`\n",
    "        - this is a silent way of keeping the program running as on error the program stops\n",
    "        - message is shown if key do not exist\n",
    "- **keys to dictionary**\n",
    "    - dictionary keys can only be immutable\n",
    "    - tuple , strings are suitable keys datatypes for dictionary keys\n",
    "    - floats , int and many more can be keys to as long as they are immutable"
   ]
  },
  {
   "cell_type": "markdown",
   "id": "f5195607-b312-4aaf-8949-05cbb2a23055",
   "metadata": {},
   "source": [
    "#### 1.. ` dict_name[key]`\n",
    "- return Error if key is invalid"
   ]
  },
  {
   "cell_type": "code",
   "execution_count": 126,
   "id": "c299486c-f553-4e4a-89cc-dc2c13104244",
   "metadata": {},
   "outputs": [],
   "source": [
    "favorite_language = {\n",
    "    \"jenny\" : \"python\",\n",
    "    \"bob\" : \"c\"\n",
    "    ,\"anamika\" : \"C#\",\n",
    "    \"dimpal\" : \"javascipt\"\n",
    "}"
   ]
  },
  {
   "cell_type": "code",
   "execution_count": 127,
   "id": "655b2e9b-332a-443c-82f6-695fa9f4cd9f",
   "metadata": {},
   "outputs": [
    {
     "data": {
      "text/plain": [
       "'python'"
      ]
     },
     "execution_count": 127,
     "metadata": {},
     "output_type": "execute_result"
    }
   ],
   "source": [
    "favorite_language [\"jenny\"]"
   ]
  },
  {
   "cell_type": "code",
   "execution_count": 128,
   "id": "77ea99fe-ece8-47ed-a624-ce636ae90520",
   "metadata": {},
   "outputs": [
    {
     "ename": "KeyError",
     "evalue": "'arnav'",
     "output_type": "error",
     "traceback": [
      "\u001b[0;31m---------------------------------------------------------------------------\u001b[0m",
      "\u001b[0;31mKeyError\u001b[0m                                  Traceback (most recent call last)",
      "Cell \u001b[0;32mIn [128], line 1\u001b[0m\n\u001b[0;32m----> 1\u001b[0m \u001b[43mfavorite_language\u001b[49m\u001b[43m[\u001b[49m\u001b[38;5;124;43m\"\u001b[39;49m\u001b[38;5;124;43marnav\u001b[39;49m\u001b[38;5;124;43m\"\u001b[39;49m\u001b[43m]\u001b[49m\n",
      "\u001b[0;31mKeyError\u001b[0m: 'arnav'"
     ]
    }
   ],
   "source": [
    "favorite_language[\"arnav\"]"
   ]
  },
  {
   "cell_type": "code",
   "execution_count": 130,
   "id": "46c47ee5-7d43-4dca-ae04-9bd6b9f87042",
   "metadata": {},
   "outputs": [
    {
     "data": {
      "text/plain": [
       "'Bhai confirm kr le naam ko'"
      ]
     },
     "execution_count": 130,
     "metadata": {},
     "output_type": "execute_result"
    }
   ],
   "source": [
    "favorite_language.get(\"arnav\", \"Bhai confirm kr le naam ko\") # a beautiful way to show error "
   ]
  },
  {
   "cell_type": "markdown",
   "id": "ce7527d6-7fab-4612-8782-6876d80a794f",
   "metadata": {},
   "source": [
    "### Adding Dictionary Values\n",
    "1. `di[key] = value` - add the key and the value\n",
    "2. `di.update({key , value})` - adds the key , value to the dictionary di from other dictionary\n",
    "3. `di.setdefault(key,value)` - also adds key if the key does not exist already\n"
   ]
  },
  {
   "cell_type": "code",
   "execution_count": 131,
   "id": "64cf74a1-21ef-4fdd-bf72-ddb94c2becbd",
   "metadata": {},
   "outputs": [],
   "source": [
    "person = {}"
   ]
  },
  {
   "cell_type": "code",
   "execution_count": 132,
   "id": "4ed637bb-ed7c-41fd-83b9-2e9f5aed3f7c",
   "metadata": {},
   "outputs": [
    {
     "data": {
      "text/plain": [
       "{}"
      ]
     },
     "execution_count": 132,
     "metadata": {},
     "output_type": "execute_result"
    }
   ],
   "source": [
    "person"
   ]
  },
  {
   "cell_type": "code",
   "execution_count": 133,
   "id": "354799aa-ebd8-4e2c-870e-7d8b166e56ac",
   "metadata": {},
   "outputs": [],
   "source": [
    "person[\"name\"] = \"namrta\""
   ]
  },
  {
   "cell_type": "code",
   "execution_count": 134,
   "id": "c371ed7d-1d60-4ed4-b0d0-a2d009235d2e",
   "metadata": {},
   "outputs": [],
   "source": [
    "person[\"age\"] = 25\n"
   ]
  },
  {
   "cell_type": "code",
   "execution_count": 135,
   "id": "1a65ce51-a9e1-4da6-9017-6ec191c085d5",
   "metadata": {},
   "outputs": [],
   "source": [
    "person[\"address\"] = \"chandigarh\""
   ]
  },
  {
   "cell_type": "code",
   "execution_count": 136,
   "id": "1bf67ded-8b90-4a5a-ab01-63c17d59dc77",
   "metadata": {},
   "outputs": [
    {
     "data": {
      "text/plain": [
       "{'name': 'namrta', 'age': 25, 'address': 'chandigarh'}"
      ]
     },
     "execution_count": 136,
     "metadata": {},
     "output_type": "execute_result"
    }
   ],
   "source": [
    "person"
   ]
  },
  {
   "cell_type": "code",
   "execution_count": 137,
   "id": "302187f1-ad38-482b-9c02-9fb9db96d43a",
   "metadata": {},
   "outputs": [],
   "source": [
    "person[1] = \"one\""
   ]
  },
  {
   "cell_type": "code",
   "execution_count": 138,
   "id": "6cce85bc-e480-4a1c-a358-22db6811ba30",
   "metadata": {},
   "outputs": [],
   "source": [
    "person [('vinayak',27)]  = \"manager\""
   ]
  },
  {
   "cell_type": "code",
   "execution_count": 139,
   "id": "c8c4bfb2-1bb7-49b8-8010-f8bf1171f61e",
   "metadata": {},
   "outputs": [
    {
     "data": {
      "text/plain": [
       "{'name': 'namrta',\n",
       " 'age': 25,\n",
       " 'address': 'chandigarh',\n",
       " 1: 'one',\n",
       " ('vinayak', 27): 'manager'}"
      ]
     },
     "execution_count": 139,
     "metadata": {},
     "output_type": "execute_result"
    }
   ],
   "source": [
    "person"
   ]
  },
  {
   "cell_type": "code",
   "execution_count": 140,
   "id": "7bc373a5-1014-484a-a1dd-d5b23898feb8",
   "metadata": {},
   "outputs": [
    {
     "data": {
      "text/plain": [
       "'manager'"
      ]
     },
     "execution_count": 140,
     "metadata": {},
     "output_type": "execute_result"
    }
   ],
   "source": [
    "person[('vinayak',27)]"
   ]
  },
  {
   "cell_type": "code",
   "execution_count": 152,
   "id": "6ac784f1-a5ea-4221-b643-ecd7a372bf4b",
   "metadata": {},
   "outputs": [],
   "source": [
    "# updating dictionary from other dictionary"
   ]
  },
  {
   "cell_type": "code",
   "execution_count": 153,
   "id": "69fb1349-6df4-4710-8953-112184689732",
   "metadata": {},
   "outputs": [],
   "source": [
    "person.update({\"one\" :True, \"twelve\" : 12})"
   ]
  },
  {
   "cell_type": "code",
   "execution_count": 154,
   "id": "752297a7-bb45-4ec6-bca6-8e06ecde888b",
   "metadata": {},
   "outputs": [
    {
     "data": {
      "text/plain": [
       "{'name': 'anamika',\n",
       " 'age': 25,\n",
       " 'address': 'chandigarh',\n",
       " 1: 'one',\n",
       " ('vinayak', 27): 'manager',\n",
       " 'one': True,\n",
       " 'twelve': 12}"
      ]
     },
     "execution_count": 154,
     "metadata": {},
     "output_type": "execute_result"
    }
   ],
   "source": [
    "person"
   ]
  },
  {
   "cell_type": "code",
   "execution_count": 146,
   "id": "05c6fd2b-0dda-45a6-88dd-ef18caca6af6",
   "metadata": {},
   "outputs": [
    {
     "data": {
      "text/plain": [
       "True"
      ]
     },
     "execution_count": 146,
     "metadata": {},
     "output_type": "execute_result"
    }
   ],
   "source": [
    "[] == [] # empty lists are equal too "
   ]
  },
  {
   "cell_type": "code",
   "execution_count": 142,
   "id": "a59ee2af-8166-4f67-b82e-769fff8308e5",
   "metadata": {},
   "outputs": [
    {
     "data": {
      "text/plain": [
       "True"
      ]
     },
     "execution_count": 142,
     "metadata": {},
     "output_type": "execute_result"
    }
   ],
   "source": [
    "() == ()  # empty tuples are equal"
   ]
  },
  {
   "cell_type": "code",
   "execution_count": 144,
   "id": "3ac99ca4-51ce-4314-af64-43e8bbb3aeb5",
   "metadata": {},
   "outputs": [
    {
     "data": {
      "text/plain": [
       "tuple"
      ]
     },
     "execution_count": 144,
     "metadata": {},
     "output_type": "execute_result"
    }
   ],
   "source": [
    "type(())"
   ]
  },
  {
   "cell_type": "code",
   "execution_count": 145,
   "id": "6cd0f36e-62b0-4e67-871b-572f8079aaa2",
   "metadata": {},
   "outputs": [
    {
     "data": {
      "text/plain": [
       "True"
      ]
     },
     "execution_count": 145,
     "metadata": {},
     "output_type": "execute_result"
    }
   ],
   "source": [
    "{} == {}  # empty dictionary are equal "
   ]
  },
  {
   "cell_type": "code",
   "execution_count": 148,
   "id": "b0dc3d25-5e65-4923-942a-4a9d2d0c07d6",
   "metadata": {},
   "outputs": [
    {
     "data": {
      "text/plain": [
       "True"
      ]
     },
     "execution_count": 148,
     "metadata": {},
     "output_type": "execute_result"
    }
   ],
   "source": [
    "[1,2,3] == [1,2,3] # facinating"
   ]
  },
  {
   "cell_type": "markdown",
   "id": "2ee2d092-fc45-4415-9a61-0d33e58baebf",
   "metadata": {},
   "source": [
    "### Modifying Values in dictionary\n",
    "- also uses the same access technique but with assignment\n",
    "- `d[key] = newvalue`\n",
    "- `d.setdefault(key, defaultvalue)`\n",
    "    - if the key exists than its value is returned and defaultvalue is discarded\n",
    "    - if the key does not exist than it is inserted and defaultvalue is set as its value"
   ]
  },
  {
   "cell_type": "code",
   "execution_count": 149,
   "id": "83c73489-b39c-4759-8f6a-3a07e5a18a7b",
   "metadata": {},
   "outputs": [
    {
     "data": {
      "text/plain": [
       "{'name': 'namrta',\n",
       " 'age': 25,\n",
       " 'address': 'chandigarh',\n",
       " 1: 'one',\n",
       " ('vinayak', 27): 'manager'}"
      ]
     },
     "execution_count": 149,
     "metadata": {},
     "output_type": "execute_result"
    }
   ],
   "source": [
    "person"
   ]
  },
  {
   "cell_type": "code",
   "execution_count": 150,
   "id": "3333d0e1-e37c-49da-923d-93bbf4c2c01c",
   "metadata": {},
   "outputs": [],
   "source": [
    "person['name'] = \"anamika\""
   ]
  },
  {
   "cell_type": "code",
   "execution_count": 151,
   "id": "38124d57-0542-4d8b-b217-073182f6cbdf",
   "metadata": {},
   "outputs": [
    {
     "data": {
      "text/plain": [
       "{'name': 'anamika',\n",
       " 'age': 25,\n",
       " 'address': 'chandigarh',\n",
       " 1: 'one',\n",
       " ('vinayak', 27): 'manager'}"
      ]
     },
     "execution_count": 151,
     "metadata": {},
     "output_type": "execute_result"
    }
   ],
   "source": [
    "person"
   ]
  },
  {
   "cell_type": "code",
   "execution_count": 155,
   "id": "495767f5-d42c-42d4-b7c1-8b6de04c0ae2",
   "metadata": {},
   "outputs": [
    {
     "data": {
      "text/plain": [
       "'anamika'"
      ]
     },
     "execution_count": 155,
     "metadata": {},
     "output_type": "execute_result"
    }
   ],
   "source": [
    "person.setdefault('name','namrta')"
   ]
  },
  {
   "cell_type": "code",
   "execution_count": 157,
   "id": "810aaf93-0f4c-4e9d-8b4c-9782720dca3a",
   "metadata": {},
   "outputs": [
    {
     "data": {
      "text/plain": [
       "{'name': 'anamika',\n",
       " 'age': 25,\n",
       " 'address': 'chandigarh',\n",
       " 1: 'one',\n",
       " ('vinayak', 27): 'manager',\n",
       " 'one': True,\n",
       " 'twelve': 12}"
      ]
     },
     "execution_count": 157,
     "metadata": {},
     "output_type": "execute_result"
    }
   ],
   "source": [
    "person # name is unchanged"
   ]
  },
  {
   "cell_type": "code",
   "execution_count": 158,
   "id": "2f568569-7c81-48dd-9119-7b37a22a4c39",
   "metadata": {},
   "outputs": [
    {
     "data": {
      "text/plain": [
       "'two'"
      ]
     },
     "execution_count": 158,
     "metadata": {},
     "output_type": "execute_result"
    }
   ],
   "source": [
    "person.setdefault('round', \"two\")"
   ]
  },
  {
   "cell_type": "code",
   "execution_count": 161,
   "id": "ad884049-84bb-4a86-9ca7-bdef73278431",
   "metadata": {},
   "outputs": [
    {
     "data": {
      "text/plain": [
       "{'name': 'anamika',\n",
       " 'age': 25,\n",
       " 'address': 'chandigarh',\n",
       " 1: 'one',\n",
       " ('vinayak', 27): 'manager',\n",
       " 'one': True,\n",
       " 'twelve': 12,\n",
       " 'round': 'two'}"
      ]
     },
     "execution_count": 161,
     "metadata": {},
     "output_type": "execute_result"
    }
   ],
   "source": [
    "person ## see the value is added"
   ]
  },
  {
   "cell_type": "markdown",
   "id": "af70bdab-336e-4b7a-b1f0-3c5c5d1ce980",
   "metadata": {},
   "source": [
    "### Delete items in a dictionary\n",
    "- `del d [key]` delets the key and value from the dictionary\n",
    "-  `dic.pop(key, message)`\n",
    "    - key for the key\n",
    "    - message if the key does not exist else return the value of the poped key\n",
    "- `dict.clear()` -removes all the key-value pairs from the dictionary"
   ]
  },
  {
   "cell_type": "code",
   "execution_count": 166,
   "id": "95a36079-6645-43d8-acbd-27b49f5ac503",
   "metadata": {},
   "outputs": [],
   "source": [
    "person = {'name': 'anamika',\n",
    " 'age': 25,\n",
    " 'address': 'chandigarh',\n",
    " 1: 'one',\n",
    " ('vinayak', 27): 'manager',\n",
    " 'one': True,\n",
    " 'twelve': 12,\n",
    " 'round': 'two'}"
   ]
  },
  {
   "cell_type": "code",
   "execution_count": 167,
   "id": "ab03acb7-ae08-4422-8c2d-02bd5399248e",
   "metadata": {},
   "outputs": [],
   "source": [
    "del person['round'] # nothing is  returned "
   ]
  },
  {
   "cell_type": "code",
   "execution_count": 168,
   "id": "8316e6e1-aa66-4f8d-b096-a1be2012c87f",
   "metadata": {},
   "outputs": [
    {
     "data": {
      "text/plain": [
       "{'name': 'anamika',\n",
       " 'age': 25,\n",
       " 'address': 'chandigarh',\n",
       " 1: 'one',\n",
       " ('vinayak', 27): 'manager',\n",
       " 'one': True,\n",
       " 'twelve': 12}"
      ]
     },
     "execution_count": 168,
     "metadata": {},
     "output_type": "execute_result"
    }
   ],
   "source": [
    "person"
   ]
  },
  {
   "cell_type": "code",
   "execution_count": 169,
   "id": "d171ed99-1f60-4c8e-a041-b8ec5009208a",
   "metadata": {},
   "outputs": [
    {
     "data": {
      "text/plain": [
       "25"
      ]
     },
     "execution_count": 169,
     "metadata": {},
     "output_type": "execute_result"
    }
   ],
   "source": [
    "person.pop('age','chabbis') # if exist than its value is returned"
   ]
  },
  {
   "cell_type": "code",
   "execution_count": 171,
   "id": "10a42c58-1d7d-4b73-bbc7-6a71d5aca59f",
   "metadata": {},
   "outputs": [
    {
     "data": {
      "text/plain": [
       "'chabbis'"
      ]
     },
     "execution_count": 171,
     "metadata": {},
     "output_type": "execute_result"
    }
   ],
   "source": [
    "person.pop('age','chabbis') # if not than the message is returned"
   ]
  },
  {
   "cell_type": "code",
   "execution_count": 172,
   "id": "c4da47e6-bd62-4632-b911-5aad38af5018",
   "metadata": {},
   "outputs": [
    {
     "data": {
      "text/plain": [
       "{'name': 'anamika',\n",
       " 'address': 'chandigarh',\n",
       " 1: 'one',\n",
       " ('vinayak', 27): 'manager',\n",
       " 'one': True,\n",
       " 'twelve': 12}"
      ]
     },
     "execution_count": 172,
     "metadata": {},
     "output_type": "execute_result"
    }
   ],
   "source": [
    "person"
   ]
  },
  {
   "cell_type": "code",
   "execution_count": 175,
   "id": "2eb34df1-ad77-42ab-96d9-922dde110be7",
   "metadata": {},
   "outputs": [],
   "source": [
    "person.clear() # clears all"
   ]
  },
  {
   "cell_type": "code",
   "execution_count": 174,
   "id": "aba73ce5-6971-41a0-bd32-ffee6ace7fc9",
   "metadata": {},
   "outputs": [
    {
     "data": {
      "text/plain": [
       "{}"
      ]
     },
     "execution_count": 174,
     "metadata": {},
     "output_type": "execute_result"
    }
   ],
   "source": [
    "person"
   ]
  },
  {
   "cell_type": "markdown",
   "id": "8bd04c37-1f11-4155-83c0-fcbd13463357",
   "metadata": {},
   "source": [
    "## 8. Discuss the importance of dictionary keys being immutable and provide examples."
   ]
  },
  {
   "cell_type": "markdown",
   "id": "1e76f481-a5e3-4462-bf42-a54bcb6ea703",
   "metadata": {},
   "source": [
    "Python dictionary keys must always be immutable, which means you can not update the `dictionary` **key** in runtime. This requirement stems from the way dictionaries are implemented, using a *hash table*.\n",
    "\n",
    "**Hash Tables**\n",
    "`Hash tables are a type of data structure in which the address or the index value of the data element is generated from a hash function. That makes accessing the data faster as the index value behaves as a key for the data value. In other words Hash table stores key-value pairs but the key is generated through a hashing function.\n",
    "- So the search and insertion function of a data element becomes much faster as the key values themselves become the index of the array which stores the data.\n",
    "- The keys of the dictionary are hashable i.e. the are generated by hashing function which generates unique result for each unique value supplied to the hash function\n",
    "`"
   ]
  },
  {
   "cell_type": "markdown",
   "id": "0838ec44-c9bb-4554-974e-5e2fc82545b8",
   "metadata": {},
   "source": [
    "###  Why immutable keys ? "
   ]
  },
  {
   "cell_type": "code",
   "execution_count": 179,
   "id": "17018e00-0e3e-435c-9b3b-bd14e5e84ecc",
   "metadata": {},
   "outputs": [
    {
     "ename": "TypeError",
     "evalue": "unhashable type: 'list'",
     "output_type": "error",
     "traceback": [
      "\u001b[0;31m---------------------------------------------------------------------------\u001b[0m",
      "\u001b[0;31mTypeError\u001b[0m                                 Traceback (most recent call last)",
      "Cell \u001b[0;32mIn [179], line 2\u001b[0m\n\u001b[1;32m      1\u001b[0m key \u001b[38;5;241m=\u001b[39m [\u001b[38;5;124m'\u001b[39m\u001b[38;5;124mnamrta\u001b[39m\u001b[38;5;124m'\u001b[39m]\n\u001b[0;32m----> 2\u001b[0m mydict \u001b[38;5;241m=\u001b[39m {key: \u001b[38;5;124m\"\u001b[39m\u001b[38;5;124mmanager\u001b[39m\u001b[38;5;124m\"\u001b[39m}\n",
      "\u001b[0;31mTypeError\u001b[0m: unhashable type: 'list'"
     ]
    }
   ],
   "source": [
    "key = ['namrta']\n",
    "mydict = {key: \"manager\"}\n",
    "key[0] =  \"anamika\""
   ]
  },
  {
   "cell_type": "markdown",
   "id": "4f079943-6f2e-4749-80f5-3081b75297ba",
   "metadata": {},
   "source": [
    "#### So the output is an Exception, What does it mean by unhashable ?\n",
    "-It simply means that the Python interpreter is not able to generate a hash for the key given in the dictionary, whose data type is a list."
   ]
  },
  {
   "cell_type": "code",
   "execution_count": 181,
   "id": "86a1b4e0-2d36-47a3-adeb-a0073744cf28",
   "metadata": {},
   "outputs": [
    {
     "ename": "TypeError",
     "evalue": "unhashable type: 'list'",
     "output_type": "error",
     "traceback": [
      "\u001b[0;31m---------------------------------------------------------------------------\u001b[0m",
      "\u001b[0;31mTypeError\u001b[0m                                 Traceback (most recent call last)",
      "Cell \u001b[0;32mIn [181], line 1\u001b[0m\n\u001b[0;32m----> 1\u001b[0m \u001b[38;5;28;43mhash\u001b[39;49m\u001b[43m \u001b[49m\u001b[43m(\u001b[49m\u001b[43m[\u001b[49m\u001b[38;5;124;43m'\u001b[39;49m\u001b[38;5;124;43manamika\u001b[39;49m\u001b[38;5;124;43m'\u001b[39;49m\u001b[43m]\u001b[49m\u001b[43m)\u001b[49m\n",
      "\u001b[0;31mTypeError\u001b[0m: unhashable type: 'list'"
     ]
    }
   ],
   "source": [
    "hash (['anamika']) # hash function generated the hash"
   ]
  },
  {
   "cell_type": "code",
   "execution_count": 182,
   "id": "4c255cf3-bb5b-4e82-93ad-ef73edeb41d2",
   "metadata": {},
   "outputs": [
    {
     "data": {
      "text/plain": [
       "-7896289794979245470"
      ]
     },
     "execution_count": 182,
     "metadata": {},
     "output_type": "execute_result"
    }
   ],
   "source": [
    "hash(\"namrta\") # for immutable obj"
   ]
  },
  {
   "cell_type": "markdown",
   "id": "e58655fc-77a5-45f9-8ef5-5eba9ead4a91",
   "metadata": {},
   "source": [
    "#### Why Python is generating a Hash for the dictionary key?\n",
    "- As per the design implementation of Python dictionary, Python dictionaries are saved in the memory using hash tables.\n",
    "- **And In most versions of hash tables, there is no way of changing the key of an entry. This is because the key's hash value is very important, changing the key almost always changes the hash value.**\n",
    "- If the key were a mutable object, its value could change, and thus its hash could also change"
   ]
  },
  {
   "cell_type": "code",
   "execution_count": null,
   "id": "b708317b-033e-47d9-af18-736d5503c600",
   "metadata": {},
   "outputs": [],
   "source": [
    "# suppose \n",
    "key = \"namrta\"\n",
    "hash (key )  #  suppose it generated 78\n"
   ]
  },
  {
   "cell_type": "code",
   "execution_count": null,
   "id": "db93fb1c-7455-477a-acaa-832f8c4b778d",
   "metadata": {},
   "outputs": [],
   "source": [
    "# under stand that \"namrta\" is giving 78"
   ]
  },
  {
   "cell_type": "code",
   "execution_count": null,
   "id": "a83a068b-c5bf-4e70-bdd6-b2b49d52fff3",
   "metadata": {},
   "outputs": [],
   "source": [
    "# at some point \n",
    "key = \"abhimanyu\"\n",
    "# this will change the hash value too as hash value is determined by the keys valye\n",
    "hash(key)  # 187\n",
    "# we wont be able to access the data "
   ]
  },
  {
   "cell_type": "markdown",
   "id": "28e8196f-83c7-42d6-b111-433f9b2bccef",
   "metadata": {},
   "source": [
    "#### Then, why python was not generating the hash for a list, used in a dictionary as a key?\n",
    "- Because Python list is a mutable data type, which means it can be modified during runtime, that's why it is not used as a key in a dictionary.\n",
    "- Imagine if we can change the list (dictionary key) in runtime, and if dictionary key changes then how can you retrieve its values because its hash value is not valid now."
   ]
  },
  {
   "cell_type": "code",
   "execution_count": null,
   "id": "8efafa41-1343-4e38-a111-54f5161480dd",
   "metadata": {},
   "outputs": [],
   "source": []
  },
  {
   "cell_type": "code",
   "execution_count": null,
   "id": "f0c7f34e-9546-4cd9-b7c9-35437c652575",
   "metadata": {},
   "outputs": [],
   "source": []
  }
 ],
 "metadata": {
  "kernelspec": {
   "display_name": "Python 3 (ipykernel)",
   "language": "python",
   "name": "python3"
  },
  "language_info": {
   "codemirror_mode": {
    "name": "ipython",
    "version": 3
   },
   "file_extension": ".py",
   "mimetype": "text/x-python",
   "name": "python",
   "nbconvert_exporter": "python",
   "pygments_lexer": "ipython3",
   "version": "3.10.12"
  }
 },
 "nbformat": 4,
 "nbformat_minor": 5
}
